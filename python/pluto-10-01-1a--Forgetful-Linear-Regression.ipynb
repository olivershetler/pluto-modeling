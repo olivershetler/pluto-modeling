{
 "cells": [
  {
   "cell_type": "code",
   "execution_count": 1,
   "id": "disabled-intention",
   "metadata": {},
   "outputs": [],
   "source": [
    "import pandas as pd\n",
    "import numpy as np\n",
    "from sklearn.linear_model import LinearRegression\n",
    "from sklearn.model_selection import train_test_split\n",
    "from sklearn.feature_selection import SelectFromModel\n",
    "from sklearn.metrics import mean_absolute_error, mean_squared_error, r2_score\n",
    "import matplotlib.pyplot as plt\n",
    "\n",
    "import psycopg2\n",
    "import pandas.io.sql as sqlio\n",
    "import psycopg2.extras\n"
   ]
  },
  {
   "cell_type": "code",
   "execution_count": 3,
   "id": "floating-penetration",
   "metadata": {},
   "outputs": [],
   "source": [
    "# Establish a connection to the PLUTO database\n",
    "try:\n",
    "    conn = psycopg2.connect(\"dbname='pluto' user='oliver' host='localhost' password='m'\")\n",
    "except:\n",
    "    print(\"I am unable to connect to the database\")\n",
    "\n",
    "# Create a cursor object for executing queries\n",
    "conn.autocommit = True\n",
    "cur = conn.cursor()"
   ]
  },
  {
   "cell_type": "code",
   "execution_count": 4,
   "id": "flush-shakespeare",
   "metadata": {},
   "outputs": [],
   "source": [
    "    cov_forest = [\n",
    "    'xcoord'\n",
    "    ,'ycoord'\n",
    "    ,'age'\n",
    "    ,'build_alter_gap'\n",
    "    ,'alterage'      \n",
    "    ,'elevator'\n",
    "    ,'commercial'\n",
    "    ,'garage'\n",
    "    ,'storage'\n",
    "    ,'basement'\n",
    "    ,'waterfront'\n",
    "    ,'frontage'\n",
    "    ,'block_assmeblage'\n",
    "    ,'cooperative'\n",
    "    ,'conv_loft_wh'\n",
    "    ,'tenament'\n",
    "    ,'garden'\n",
    "    ,'semi_fireproof'\n",
    "    ,'fireproof'\n",
    "    ,'luxury'\n",
    "    ,'artist_res'\n",
    "    ,'units_per_building'\n",
    "    ,'floors'\n",
    "    ,'zip_avg_num_buildings'\n",
    "    ,'pcvpu_l1'\n",
    "    ,'pcvpu_l2'\n",
    "    ,'pcvpu_l3'\n",
    "    ,'avg_block_pcvpu_l1'\n",
    "    ,'avg_block_pcvpu_l2'\n",
    "    ,'avg_block_pcvpu_l3'\n",
    "    ,'avg_neighbor1_pcvpu_l1'\n",
    "    ,'avg_neighbor1_pcvpu_l2'\n",
    "    ,'avg_neighbor1_pcvpu_l3'\n",
    "    ,'avg_neighbor2_pcvpu_l1'\n",
    "    ,'avg_neighbor2_pcvpu_l2'\n",
    "    ,'avg_neighbor2_pcvpu_l3'\n",
    "    ,'avg_neighbor3_pcvpu_l1'\n",
    "    ,'avg_neighbor3_pcvpu_l2'\n",
    "    ,'avg_neighbor3_pcvpu_l3'\n",
    "    ,'avg_neighbor4_pcvpu_l1'\n",
    "    ,'avg_neighbor4_pcvpu_l2'\n",
    "    ,'avg_neighbor4_pcvpu_l3'\n",
    "    ,'avg_zip_pcvpu_l1'\n",
    "    ,'avg_zip_pcvpu_l2'\n",
    "    ,'avg_zip_pcvpu_l3'\n",
    "    ]"
   ]
  },
  {
   "cell_type": "code",
   "execution_count": 5,
   "id": "announced-highway",
   "metadata": {},
   "outputs": [],
   "source": [
    "# Commands to select data from each year\n",
    "sql_2008 = \"\"\"SELECT * \n",
    "         FROM pluto_sym\n",
    "         WHERE year = 2008\n",
    "         \"\"\"\n",
    "sql_2009 = \"\"\"SELECT * \n",
    "         FROM pluto_sym\n",
    "         WHERE year = 2009\n",
    "         \"\"\"\n",
    "sql_2010 = \"\"\"SELECT * \n",
    "         FROM pluto_sym\n",
    "         WHERE year = 2010\n",
    "         \"\"\"\n",
    "sql_2010 = \"\"\"SELECT * \n",
    "         FROM pluto_sym\n",
    "         WHERE year = 2010\n",
    "         \"\"\"\n",
    "sql_2011 = \"\"\"SELECT * \n",
    "         FROM pluto_sym\n",
    "         WHERE year = 2011\n",
    "         \"\"\"\n",
    "sql_2012 = \"\"\"SELECT * \n",
    "         FROM pluto_sym\n",
    "         WHERE year = 2012\n",
    "         \"\"\"\n",
    "sql_2013 = \"\"\"SELECT * \n",
    "         FROM pluto_sym\n",
    "         WHERE year = 2013\n",
    "         \"\"\"\n",
    "sql_2014 = \"\"\"SELECT * \n",
    "         FROM pluto_sym\n",
    "         WHERE year = 2014\n",
    "         \"\"\"\n",
    "sql_2015 = \"\"\"SELECT * \n",
    "         FROM pluto_sym\n",
    "         WHERE year = 2015\n",
    "         \"\"\"\n",
    "sql_2016 = \"\"\"SELECT * \n",
    "         FROM pluto_sym\n",
    "         WHERE year = 2016\n",
    "         \"\"\"\n",
    "sql_2017 = \"\"\"SELECT * \n",
    "         FROM pluto_sym\n",
    "         WHERE year = 2017\n",
    "         \"\"\"\n",
    "sql_2018 = \"\"\"SELECT * \n",
    "         FROM pluto_sym\n",
    "         WHERE year = 2018\n",
    "         \"\"\"\n",
    "sql_2019 = \"\"\"SELECT * \n",
    "         FROM pluto_sym\n",
    "         WHERE year = 2019\n",
    "         \"\"\"\n",
    "sql_2020 = \"\"\"SELECT * \n",
    "         FROM pluto_sym\n",
    "         WHERE year = 2020\n",
    "         \"\"\""
   ]
  },
  {
   "cell_type": "code",
   "execution_count": 6,
   "id": "intimate-fight",
   "metadata": {},
   "outputs": [],
   "source": [
    "# Function for creating dataframes from a SQL query\n",
    "def get_data(sql_train, sql_test, cov_forest):\n",
    "    \"\"\"\n",
    "    Function to return data from a train and test SQL query\n",
    "    \"\"\"\n",
    "    global df_train, df_test, X_train, X_test, y_train, y_test, covariates\n",
    "\n",
    "    # List of columns to be used as covariates in the model\n",
    "\n",
    "    df_train = sqlio.read_sql_query(sql_train, conn).dropna()\n",
    "    df_test = sqlio.read_sql_query(sql_test, conn).dropna()\n",
    "\n",
    "    covariates = df_train.columns.intersection(cov_forest)\n",
    "\n",
    "    X_train = df_train[covariates]\n",
    "    y_train = df_train['pcvpu_target']\n",
    "\n",
    "    X_test = df_test[covariates]\n",
    "    y_test = df_test['pcvpu_target']\n",
    "    return df_train, df_test, X_train, X_test, y_train, y_test"
   ]
  },
  {
   "cell_type": "code",
   "execution_count": 10,
   "id": "naked-pencil",
   "metadata": {},
   "outputs": [],
   "source": [
    "reg = LinearRegression()"
   ]
  },
  {
   "cell_type": "code",
   "execution_count": 14,
   "id": "danish-parcel",
   "metadata": {},
   "outputs": [],
   "source": [
    "# Set up empty lists to store the results of the model for each year\n",
    "\n",
    "MAEs = [] ## Mean Absolute Error, list of numbers (out of sample)\n",
    "MSEs = [] ## Mean Squared Error, list of numbers (out of sample)\n",
    "R2s = []  ## R2 score, list of numbers (out of sample)\n",
    "\n",
    "feature_importances = [] ## Feature importances, list of lists\n",
    "\n",
    "MAEs_in_sample = [] ## Mean Absolute Error, list of numbers (in sample)\n",
    "MSEs_in_sample = [] ## Mean Squared Error, list of numbers (in sample)\n",
    "R2s_in_sample = []  ## R2 score, list of numbers (in sample)\n",
    "\n",
    "\n",
    "def update_reports():\n",
    "    \"\"\"\n",
    "    Function to update the reports for each year\n",
    "    \"\"\"\n",
    "    print('Updating Out of Sample Reports')\n",
    "\n",
    "    MSEs.append(mean_squared_error(y_test, y_pred))\n",
    "    MAEs.append(mean_absolute_error(y_test, y_pred))\n",
    "    R2s.append(r2_score(y_test, y_pred))\n",
    "    print('MSE: {}'.format(MSEs[-1]))\n",
    "    print('MAE: {}'.format(MAEs[-1]))\n",
    "    print('R2: {}'.format(R2s[-1]))\n",
    "\n",
    "    print('Updating In Sample Reports')\n",
    "\n",
    "    MSEs_in_sample.append(mean_squared_error(y_train, y_pred_in_sample))\n",
    "    MAEs_in_sample.append(mean_absolute_error(y_train, y_pred_in_sample))\n",
    "    R2s_in_sample.append(r2_score(y_train, y_pred_in_sample))\n",
    "    print('MSE: {}'.format(MSEs_in_sample[-1]))\n",
    "    print('MAE: {}'.format(MAEs_in_sample[-1]))\n",
    "    print('R2: {}'.format(R2s_in_sample[-1]))\n",
    "\n"
   ]
  },
  {
   "cell_type": "code",
   "execution_count": 8,
   "id": "latest-tiger",
   "metadata": {},
   "outputs": [],
   "source": [
    "# get data from 2008 and 2009\n",
    "df_train, df_test, X_train, X_test, y_train, y_test = get_data(sql_2008, sql_2009, cov_forest)\n"
   ]
  },
  {
   "cell_type": "code",
   "execution_count": 11,
   "id": "enabling-remainder",
   "metadata": {},
   "outputs": [
    {
     "data": {
      "text/plain": [
       "LinearRegression()"
      ]
     },
     "execution_count": 11,
     "metadata": {},
     "output_type": "execute_result"
    }
   ],
   "source": [
    "# fit the model for 2008 and 2009\n",
    "reg.fit(X_train, y_train)"
   ]
  },
  {
   "cell_type": "code",
   "execution_count": 12,
   "id": "absent-source",
   "metadata": {},
   "outputs": [],
   "source": [
    "# Make in and out of sample predictions\n",
    "y_pred = reg.predict(X_test)\n",
    "y_pred_in_sample = reg.predict(X_train)"
   ]
  },
  {
   "cell_type": "code",
   "execution_count": 15,
   "id": "reflected-frame",
   "metadata": {},
   "outputs": [
    {
     "name": "stdout",
     "output_type": "stream",
     "text": [
      "Updating Out of Sample Reports\n",
      "MSE: 322.5502054027073\n",
      "MAE: 6.766008101200189\n",
      "R2: -0.003665986023268397\n",
      "Updating In Sample Reports\n",
      "MSE: 413.0932977984302\n",
      "MAE: 7.484008769872224\n",
      "R2: 0.13985880083016067\n"
     ]
    }
   ],
   "source": [
    "# update all the report series\n",
    "update_reports()"
   ]
  },
  {
   "cell_type": "code",
   "execution_count": 16,
   "id": "sharing-trinidad",
   "metadata": {},
   "outputs": [],
   "source": [
    "# get data for the next year\n",
    "df_train, df_test, X_train, X_test, y_train, y_test = get_data(sql_2009, sql_2010, cov_forest)"
   ]
  },
  {
   "cell_type": "code",
   "execution_count": 17,
   "id": "concerned-somerset",
   "metadata": {},
   "outputs": [
    {
     "data": {
      "text/plain": [
       "LinearRegression()"
      ]
     },
     "execution_count": 17,
     "metadata": {},
     "output_type": "execute_result"
    }
   ],
   "source": [
    "# expand the number of trees and then fit to the next year\n",
    "\n",
    "reg.fit(X_train,y_train)"
   ]
  },
  {
   "cell_type": "code",
   "execution_count": 18,
   "id": "technological-morning",
   "metadata": {},
   "outputs": [],
   "source": [
    "y_pred = reg.predict(X_test)\n",
    "y_pred_in_sample = reg.predict(X_train)"
   ]
  },
  {
   "cell_type": "code",
   "execution_count": 19,
   "id": "stock-dispute",
   "metadata": {},
   "outputs": [
    {
     "name": "stdout",
     "output_type": "stream",
     "text": [
      "Updating Out of Sample Reports\n",
      "MSE: 212.93921704843558\n",
      "MAE: 6.4108073640719585\n",
      "R2: -0.05978951698428414\n",
      "Updating In Sample Reports\n",
      "MSE: 300.2939845854991\n",
      "MAE: 6.194425713383385\n",
      "R2: 0.06558776560205093\n"
     ]
    }
   ],
   "source": [
    "# update all the report series\n",
    "update_reports()"
   ]
  },
  {
   "cell_type": "code",
   "execution_count": 20,
   "id": "respected-trunk",
   "metadata": {},
   "outputs": [],
   "source": [
    "# get data for the next year\n",
    "df_train, df_test, X_train, X_test, y_train, y_test = get_data(sql_2010, sql_2011, cov_forest)"
   ]
  },
  {
   "cell_type": "code",
   "execution_count": 21,
   "id": "commercial-memphis",
   "metadata": {},
   "outputs": [
    {
     "data": {
      "text/plain": [
       "LinearRegression()"
      ]
     },
     "execution_count": 21,
     "metadata": {},
     "output_type": "execute_result"
    }
   ],
   "source": [
    "# expand the number of trees and then fit to the next year\n",
    "\n",
    "reg.fit(X_train,y_train)"
   ]
  },
  {
   "cell_type": "code",
   "execution_count": 22,
   "id": "accurate-coordination",
   "metadata": {},
   "outputs": [],
   "source": [
    "y_pred = reg.predict(X_test)\n",
    "y_pred_in_sample = reg.predict(X_train)"
   ]
  },
  {
   "cell_type": "code",
   "execution_count": 23,
   "id": "weighted-minute",
   "metadata": {},
   "outputs": [
    {
     "name": "stdout",
     "output_type": "stream",
     "text": [
      "Updating Out of Sample Reports\n",
      "MSE: 34.07054158149536\n",
      "MAE: 2.8748552348057057\n",
      "R2: -0.17495045435023915\n",
      "Updating In Sample Reports\n",
      "MSE: 194.29466196103434\n",
      "MAE: 5.751134322943571\n",
      "R2: 0.03300364861643912\n"
     ]
    }
   ],
   "source": [
    "# update all the report series\n",
    "update_reports()"
   ]
  },
  {
   "cell_type": "code",
   "execution_count": 24,
   "id": "informal-disney",
   "metadata": {},
   "outputs": [],
   "source": [
    "# get data for the next year\n",
    "df_train, df_test, X_train, X_test, y_train, y_test = get_data(sql_2011, sql_2012, cov_forest)"
   ]
  },
  {
   "cell_type": "code",
   "execution_count": 25,
   "id": "similar-beauty",
   "metadata": {},
   "outputs": [
    {
     "data": {
      "text/plain": [
       "LinearRegression()"
      ]
     },
     "execution_count": 25,
     "metadata": {},
     "output_type": "execute_result"
    }
   ],
   "source": [
    "# expand the number of trees and then fit to the next year\n",
    "\n",
    "reg.fit(X_train,y_train)"
   ]
  },
  {
   "cell_type": "code",
   "execution_count": 26,
   "id": "middle-expansion",
   "metadata": {},
   "outputs": [],
   "source": [
    "y_pred = reg.predict(X_test)\n",
    "y_pred_in_sample = reg.predict(X_train)"
   ]
  },
  {
   "cell_type": "code",
   "execution_count": 27,
   "id": "aggressive-variance",
   "metadata": {},
   "outputs": [
    {
     "name": "stdout",
     "output_type": "stream",
     "text": [
      "Updating Out of Sample Reports\n",
      "MSE: 144.73653142962962\n",
      "MAE: 5.940657283158737\n",
      "R2: -0.07252823431945288\n",
      "Updating In Sample Reports\n",
      "MSE: 28.437546268814266\n",
      "MAE: 2.3079466134939595\n",
      "R2: 0.019307989888349142\n"
     ]
    }
   ],
   "source": [
    "# update all the report series\n",
    "update_reports()"
   ]
  },
  {
   "cell_type": "code",
   "execution_count": 28,
   "id": "wound-belgium",
   "metadata": {},
   "outputs": [],
   "source": [
    "# get data for the next year\n",
    "df_train, df_test, X_train, X_test, y_train, y_test = get_data(sql_2012, sql_2013, cov_forest)"
   ]
  },
  {
   "cell_type": "code",
   "execution_count": 29,
   "id": "mexican-happiness",
   "metadata": {},
   "outputs": [
    {
     "data": {
      "text/plain": [
       "LinearRegression()"
      ]
     },
     "execution_count": 29,
     "metadata": {},
     "output_type": "execute_result"
    }
   ],
   "source": [
    "# expand the number of trees and then fit to the next year\n",
    "\n",
    "reg.fit(X_train,y_train)"
   ]
  },
  {
   "cell_type": "code",
   "execution_count": 30,
   "id": "usual-genre",
   "metadata": {},
   "outputs": [],
   "source": [
    "y_pred = reg.predict(X_test)\n",
    "y_pred_in_sample = reg.predict(X_train)"
   ]
  },
  {
   "cell_type": "code",
   "execution_count": 31,
   "id": "pressed-counter",
   "metadata": {},
   "outputs": [
    {
     "name": "stdout",
     "output_type": "stream",
     "text": [
      "Updating Out of Sample Reports\n",
      "MSE: 131.65027681111658\n",
      "MAE: 4.966707639178221\n",
      "R2: 0.02598813352736773\n",
      "Updating In Sample Reports\n",
      "MSE: 124.39158028455287\n",
      "MAE: 4.7739098902222485\n",
      "R2: 0.07823214603105844\n"
     ]
    }
   ],
   "source": [
    "# update all the report series\n",
    "update_reports()"
   ]
  },
  {
   "cell_type": "code",
   "execution_count": 32,
   "id": "surgical-treasury",
   "metadata": {},
   "outputs": [
    {
     "name": "stdout",
     "output_type": "stream",
     "text": [
      "Updating Out of Sample Reports\n",
      "MSE: 105.44099038519488\n",
      "MAE: 4.526180668620746\n",
      "R2: -0.026123434931326628\n",
      "Updating In Sample Reports\n",
      "MSE: 128.34495216113584\n",
      "MAE: 4.863862922748104\n",
      "R2: 0.05044250999818045\n"
     ]
    }
   ],
   "source": [
    "# get data for the next year\n",
    "df_train, df_test, X_train, X_test, y_train, y_test = get_data(sql_2013, sql_2014, cov_forest)\n",
    "# expand the number of trees and then fit to the next year\n",
    "\n",
    "reg.fit(X_train,y_train)\n",
    "# make predictions for the next year\n",
    "y_pred = reg.predict(X_test)\n",
    "y_pred_in_sample = reg.predict(X_train)\n",
    "# update all the report series\n",
    "update_reports()"
   ]
  },
  {
   "cell_type": "code",
   "execution_count": 33,
   "id": "impossible-maker",
   "metadata": {},
   "outputs": [
    {
     "name": "stdout",
     "output_type": "stream",
     "text": [
      "Updating Out of Sample Reports\n",
      "MSE: 126.67433475781401\n",
      "MAE: 5.106091559674239\n",
      "R2: 0.011323357648602816\n",
      "Updating In Sample Reports\n",
      "MSE: 98.21598688072756\n",
      "MAE: 4.211165190550344\n",
      "R2: 0.044188361138789434\n"
     ]
    }
   ],
   "source": [
    "# get data for the next year\n",
    "df_train, df_test, X_train, X_test, y_train, y_test = get_data(sql_2014, sql_2015, cov_forest)\n",
    "# expand the number of trees and then fit to the next year\n",
    "\n",
    "reg.fit(X_train,y_train)\n",
    "# make predictions for the next year\n",
    "y_pred = reg.predict(X_test)\n",
    "y_pred_in_sample = reg.predict(X_train)\n",
    "# update all the report series\n",
    "update_reports()"
   ]
  },
  {
   "cell_type": "code",
   "execution_count": 34,
   "id": "minute-employment",
   "metadata": {},
   "outputs": [
    {
     "name": "stdout",
     "output_type": "stream",
     "text": [
      "Updating Out of Sample Reports\n",
      "MSE: 92.99246113022777\n",
      "MAE: 4.240718315983647\n",
      "R2: 0.006261701416020005\n",
      "Updating In Sample Reports\n",
      "MSE: 124.39520531416538\n",
      "MAE: 5.093968492508225\n",
      "R2: 0.029111665360175176\n"
     ]
    }
   ],
   "source": [
    "# get data for the next year\n",
    "df_train, df_test, X_train, X_test, y_train, y_test = get_data(sql_2015, sql_2016, cov_forest)\n",
    "# expand the number of trees and then fit to the next year\n",
    "\n",
    "reg.fit(X_train,y_train)\n",
    "# make predictions for the next year\n",
    "y_pred = reg.predict(X_test)\n",
    "y_pred_in_sample = reg.predict(X_train)\n",
    "# update all the report series\n",
    "update_reports()"
   ]
  },
  {
   "cell_type": "code",
   "execution_count": 35,
   "id": "fourth-forward",
   "metadata": {},
   "outputs": [
    {
     "name": "stdout",
     "output_type": "stream",
     "text": [
      "Updating Out of Sample Reports\n",
      "MSE: 109.61138353477074\n",
      "MAE: 3.966351512409227\n",
      "R2: 0.017161873048872622\n",
      "Updating In Sample Reports\n",
      "MSE: 91.36458439637161\n",
      "MAE: 3.996974708868859\n",
      "R2: 0.02365755733966579\n"
     ]
    }
   ],
   "source": [
    "# get data for the next year\n",
    "df_train, df_test, X_train, X_test, y_train, y_test = get_data(sql_2016, sql_2017, cov_forest)\n",
    "# expand the number of trees and then fit to the next year\n",
    "\n",
    "reg.fit(X_train,y_train)\n",
    "# make predictions for the next year\n",
    "y_pred = reg.predict(X_test)\n",
    "y_pred_in_sample = reg.predict(X_train)\n",
    "# update all the report series\n",
    "update_reports()"
   ]
  },
  {
   "cell_type": "code",
   "execution_count": 36,
   "id": "loaded-processing",
   "metadata": {},
   "outputs": [
    {
     "name": "stdout",
     "output_type": "stream",
     "text": [
      "Updating Out of Sample Reports\n",
      "MSE: 8882.538268734292\n",
      "MAE: 75.73188354371494\n",
      "R2: -0.01214639817722074\n",
      "Updating In Sample Reports\n",
      "MSE: 109.13548611412628\n",
      "MAE: 3.906090949441629\n",
      "R2: 0.021429040513086806\n"
     ]
    }
   ],
   "source": [
    "# get data for the next year\n",
    "df_train, df_test, X_train, X_test, y_train, y_test = get_data(sql_2017, sql_2018, cov_forest)\n",
    "# expand the number of trees and then fit to the next year\n",
    "\n",
    "reg.fit(X_train,y_train)\n",
    "# make predictions for the next year\n",
    "y_pred = reg.predict(X_test)\n",
    "y_pred_in_sample = reg.predict(X_train)\n",
    "# update all the report series\n",
    "update_reports()"
   ]
  },
  {
   "cell_type": "code",
   "execution_count": 37,
   "id": "regulated-drilling",
   "metadata": {},
   "outputs": [
    {
     "name": "stdout",
     "output_type": "stream",
     "text": [
      "Updating Out of Sample Reports\n",
      "MSE: 3705.898652107344\n",
      "MAE: 44.40687699933639\n",
      "R2: -18.53697885694937\n",
      "Updating In Sample Reports\n",
      "MSE: 5666.172944622217\n",
      "MAE: 55.89535897028559\n",
      "R2: 0.3543516094340682\n"
     ]
    }
   ],
   "source": [
    "# get data for the next year\n",
    "df_train, df_test, X_train, X_test, y_train, y_test = get_data(sql_2018, sql_2019, cov_forest)\n",
    "# expand the number of trees and then fit to the next year\n",
    "\n",
    "reg.fit(X_train,y_train)\n",
    "# make predictions for the next year\n",
    "y_pred = reg.predict(X_test)\n",
    "y_pred_in_sample = reg.predict(X_train)\n",
    "# update all the report series\n",
    "update_reports()"
   ]
  },
  {
   "cell_type": "code",
   "execution_count": 38,
   "id": "latin-individual",
   "metadata": {},
   "outputs": [
    {
     "name": "stdout",
     "output_type": "stream",
     "text": [
      "Updating Out of Sample Reports\n",
      "MSE: 328.69834250404733\n",
      "MAE: 14.59105348630783\n",
      "R2: -1.0745421733875897\n",
      "Updating In Sample Reports\n",
      "MSE: 184.2303933081035\n",
      "MAE: 8.90645704603528\n",
      "R2: 0.028763159289001305\n"
     ]
    }
   ],
   "source": [
    "# get data for the next year\n",
    "df_train, df_test, X_train, X_test, y_train, y_test = get_data(sql_2019, sql_2020, cov_forest)\n",
    "# expand the number of trees and then fit to the next year\n",
    "\n",
    "reg.fit(X_train,y_train)\n",
    "# make predictions for the next year\n",
    "y_pred = reg.predict(X_test)\n",
    "y_pred_in_sample = reg.predict(X_train)\n",
    "# update all the report series\n",
    "update_reports()"
   ]
  },
  {
   "cell_type": "code",
   "execution_count": 1,
   "id": "civil-trunk",
   "metadata": {},
   "outputs": [
    {
     "ename": "NameError",
     "evalue": "name 'plt' is not defined",
     "output_type": "error",
     "traceback": [
      "\u001b[0;31m---------------------------------------------------------------------------\u001b[0m",
      "\u001b[0;31mNameError\u001b[0m                                 Traceback (most recent call last)",
      "\u001b[0;32m/tmp/ipykernel_516779/2047306417.py\u001b[0m in \u001b[0;36m<module>\u001b[0;34m\u001b[0m\n\u001b[1;32m      1\u001b[0m \u001b[0myears\u001b[0m \u001b[0;34m=\u001b[0m \u001b[0;34m[\u001b[0m\u001b[0;36m2009\u001b[0m\u001b[0;34m,\u001b[0m \u001b[0;36m2010\u001b[0m\u001b[0;34m,\u001b[0m \u001b[0;36m2011\u001b[0m\u001b[0;34m,\u001b[0m \u001b[0;36m2012\u001b[0m\u001b[0;34m,\u001b[0m \u001b[0;36m2013\u001b[0m\u001b[0;34m,\u001b[0m \u001b[0;36m2014\u001b[0m\u001b[0;34m,\u001b[0m \u001b[0;36m2015\u001b[0m\u001b[0;34m,\u001b[0m \u001b[0;36m2016\u001b[0m\u001b[0;34m,\u001b[0m \u001b[0;36m2017\u001b[0m\u001b[0;34m,\u001b[0m \u001b[0;36m2018\u001b[0m\u001b[0;34m,\u001b[0m \u001b[0;36m2019\u001b[0m\u001b[0;34m,\u001b[0m \u001b[0;36m2020\u001b[0m\u001b[0;34m]\u001b[0m\u001b[0;34m\u001b[0m\u001b[0;34m\u001b[0m\u001b[0m\n\u001b[1;32m      2\u001b[0m \u001b[0myears_in_sample\u001b[0m \u001b[0;34m=\u001b[0m \u001b[0;34m[\u001b[0m\u001b[0;36m2008\u001b[0m\u001b[0;34m,\u001b[0m \u001b[0;36m2009\u001b[0m\u001b[0;34m,\u001b[0m \u001b[0;36m2010\u001b[0m\u001b[0;34m,\u001b[0m \u001b[0;36m2011\u001b[0m\u001b[0;34m,\u001b[0m \u001b[0;36m2012\u001b[0m\u001b[0;34m,\u001b[0m \u001b[0;36m2013\u001b[0m\u001b[0;34m,\u001b[0m \u001b[0;36m2014\u001b[0m\u001b[0;34m,\u001b[0m \u001b[0;36m2015\u001b[0m\u001b[0;34m,\u001b[0m \u001b[0;36m2016\u001b[0m\u001b[0;34m,\u001b[0m \u001b[0;36m2017\u001b[0m\u001b[0;34m,\u001b[0m \u001b[0;36m2018\u001b[0m\u001b[0;34m,\u001b[0m \u001b[0;36m2019\u001b[0m\u001b[0;34m]\u001b[0m\u001b[0;34m\u001b[0m\u001b[0;34m\u001b[0m\u001b[0m\n\u001b[0;32m----> 3\u001b[0;31m \u001b[0mplt\u001b[0m\u001b[0;34m.\u001b[0m\u001b[0mplot\u001b[0m\u001b[0;34m(\u001b[0m\u001b[0myears\u001b[0m\u001b[0;34m,\u001b[0m \u001b[0mR2s\u001b[0m\u001b[0;34m,\u001b[0m \u001b[0mlabel\u001b[0m\u001b[0;34m=\u001b[0m\u001b[0;34m'Out of Sample'\u001b[0m\u001b[0;34m)\u001b[0m\u001b[0;34m\u001b[0m\u001b[0;34m\u001b[0m\u001b[0m\n\u001b[0m\u001b[1;32m      4\u001b[0m \u001b[0mplt\u001b[0m\u001b[0;34m.\u001b[0m\u001b[0mplot\u001b[0m\u001b[0;34m(\u001b[0m\u001b[0myears_in_sample\u001b[0m\u001b[0;34m,\u001b[0m \u001b[0mR2s_in_sample\u001b[0m\u001b[0;34m,\u001b[0m \u001b[0mlabel\u001b[0m\u001b[0;34m=\u001b[0m\u001b[0;34m'In Sample'\u001b[0m\u001b[0;34m)\u001b[0m\u001b[0;34m\u001b[0m\u001b[0;34m\u001b[0m\u001b[0m\n\u001b[1;32m      5\u001b[0m \u001b[0mplt\u001b[0m\u001b[0;34m.\u001b[0m\u001b[0mlegend\u001b[0m\u001b[0;34m(\u001b[0m\u001b[0;34m)\u001b[0m\u001b[0;34m\u001b[0m\u001b[0;34m\u001b[0m\u001b[0m\n",
      "\u001b[0;31mNameError\u001b[0m: name 'plt' is not defined"
     ]
    }
   ],
   "source": [
    "years = [2009, 2010, 2011, 2012, 2013, 2014, 2015, 2016, 2017, 2018, 2019, 2020]\n",
    "years_in_sample = [2008, 2009, 2010, 2011, 2012, 2013, 2014, 2015, 2016, 2017, 2018, 2019]\n",
    "plt.plot(years, R2s, label='Out of Sample')\n",
    "plt.plot(years_in_sample, R2s_in_sample, label='In Sample')\n",
    "plt.legend()\n",
    "plt.xlabel('Year')\n",
    "plt.ylabel('R2 Score')\n",
    "plt.title('R2 Scores by Year')\n"
   ]
  },
  {
   "cell_type": "code",
   "execution_count": 2,
   "id": "understood-junction",
   "metadata": {},
   "outputs": [
    {
     "ename": "NameError",
     "evalue": "name 'plt' is not defined",
     "output_type": "error",
     "traceback": [
      "\u001b[0;31m---------------------------------------------------------------------------\u001b[0m",
      "\u001b[0;31mNameError\u001b[0m                                 Traceback (most recent call last)",
      "\u001b[0;32m/tmp/ipykernel_516779/183933170.py\u001b[0m in \u001b[0;36m<module>\u001b[0;34m\u001b[0m\n\u001b[0;32m----> 1\u001b[0;31m \u001b[0mplt\u001b[0m\u001b[0;34m.\u001b[0m\u001b[0mplot\u001b[0m\u001b[0;34m(\u001b[0m\u001b[0myears\u001b[0m\u001b[0;34m,\u001b[0m \u001b[0mMSEs\u001b[0m\u001b[0;34m,\u001b[0m \u001b[0mlabel\u001b[0m\u001b[0;34m=\u001b[0m\u001b[0;34m'Out of Sample'\u001b[0m\u001b[0;34m)\u001b[0m\u001b[0;34m\u001b[0m\u001b[0;34m\u001b[0m\u001b[0m\n\u001b[0m\u001b[1;32m      2\u001b[0m \u001b[0mplt\u001b[0m\u001b[0;34m.\u001b[0m\u001b[0mplot\u001b[0m\u001b[0;34m(\u001b[0m\u001b[0myears_in_sample\u001b[0m\u001b[0;34m,\u001b[0m \u001b[0mMSEs_in_sample\u001b[0m\u001b[0;34m,\u001b[0m \u001b[0mlabel\u001b[0m\u001b[0;34m=\u001b[0m\u001b[0;34m'In Sample'\u001b[0m\u001b[0;34m)\u001b[0m\u001b[0;34m\u001b[0m\u001b[0;34m\u001b[0m\u001b[0m\n\u001b[1;32m      3\u001b[0m \u001b[0mplt\u001b[0m\u001b[0;34m.\u001b[0m\u001b[0mlegend\u001b[0m\u001b[0;34m(\u001b[0m\u001b[0;34m)\u001b[0m\u001b[0;34m\u001b[0m\u001b[0;34m\u001b[0m\u001b[0m\n\u001b[1;32m      4\u001b[0m \u001b[0mplt\u001b[0m\u001b[0;34m.\u001b[0m\u001b[0mxlabel\u001b[0m\u001b[0;34m(\u001b[0m\u001b[0;34m'Year'\u001b[0m\u001b[0;34m)\u001b[0m\u001b[0;34m\u001b[0m\u001b[0;34m\u001b[0m\u001b[0m\n\u001b[1;32m      5\u001b[0m \u001b[0mplt\u001b[0m\u001b[0;34m.\u001b[0m\u001b[0mylabel\u001b[0m\u001b[0;34m(\u001b[0m\u001b[0;34m'MSE'\u001b[0m\u001b[0;34m)\u001b[0m\u001b[0;34m\u001b[0m\u001b[0;34m\u001b[0m\u001b[0m\n",
      "\u001b[0;31mNameError\u001b[0m: name 'plt' is not defined"
     ]
    }
   ],
   "source": [
    "plt.plot(years, MSEs, label='Out of Sample')\n",
    "plt.plot(years_in_sample, MSEs_in_sample, label='In Sample')\n",
    "plt.legend()\n",
    "plt.xlabel('Year')\n",
    "plt.ylabel('MSE')\n",
    "plt.title('Mean Squared Error by Year')"
   ]
  }
 ],
 "metadata": {
  "interpreter": {
   "hash": "916dbcbb3f70747c44a77c7bcd40155683ae19c65e1c03b4aa3499c5328201f1"
  },
  "kernelspec": {
   "display_name": "Python 3 (ipykernel)",
   "language": "python",
   "name": "python3"
  },
  "language_info": {
   "codemirror_mode": {
    "name": "ipython",
    "version": 3
   },
   "file_extension": ".py",
   "mimetype": "text/x-python",
   "name": "python",
   "nbconvert_exporter": "python",
   "pygments_lexer": "ipython3",
   "version": "3.9.7"
  }
 },
 "nbformat": 4,
 "nbformat_minor": 5
}
