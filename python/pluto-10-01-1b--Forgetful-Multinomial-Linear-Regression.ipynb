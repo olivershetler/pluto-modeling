{
 "cells": [
  {
   "cell_type": "code",
   "execution_count": 1,
   "source": [
    "import pandas as pd\n",
    "import numpy as np\n",
    "from sklearn.ensemble import RandomForestRegressor\n",
    "from sklearn.linear_model import LogisticRegression\n",
    "from sklearn.model_selection import train_test_split\n",
    "from sklearn.feature_selection import SelectFromModel\n",
    "from sklearn.metrics import mean_absolute_error, mean_squared_error, r2_score, classification_report, accuracy_score\n",
    "from sklearn.metrics import precision_recall_fscore_support as scores\n",
    "import matplotlib.pyplot as plt\n",
    "\n",
    "import psycopg2\n",
    "import pandas.io.sql as sqlio\n",
    "import psycopg2.extras\n"
   ],
   "outputs": [],
   "metadata": {}
  },
  {
   "cell_type": "code",
   "execution_count": 2,
   "source": [
    "# Establish a connection to the PLUTO database\n",
    "try:\n",
    "    conn = psycopg2.connect(\"dbname='pluto' user='oliver' host='localhost' password='m'\")\n",
    "except:\n",
    "    print(\"I am unable to connect to the database\")\n",
    "\n",
    "# Create a cursor object for executing queries\n",
    "conn.autocommit = True\n",
    "cur = conn.cursor()"
   ],
   "outputs": [],
   "metadata": {}
  },
  {
   "cell_type": "code",
   "execution_count": 3,
   "source": [
    "    cov = [\n",
    "    'age'\n",
    "    ,'build_alter_gap'\n",
    "    ,'alterage'\n",
    "    ,'alterage_squared'   \n",
    "    ,'alterage_cubed'\n",
    "    ,'elevator'\n",
    "    ,'commercial'\n",
    "    ,'garage'\n",
    "    ,'storage'\n",
    "    ,'basement'\n",
    "    ,'waterfront'\n",
    "    ,'frontage'\n",
    "    ,'block_assmeblage'\n",
    "    ,'cooperative'\n",
    "    ,'conv_loft_wh'\n",
    "    ,'tenament'\n",
    "    ,'garden'\n",
    "    ,'semi_fireproof'\n",
    "    ,'fireproof'\n",
    "    ,'luxury'\n",
    "    ,'artist_res'\n",
    "    ,'units_per_building'\n",
    "    ,'floors'\n",
    "    ,'floors_squared'\n",
    "    ,'zip_avg_num_buildings'\n",
    "    ,'pcvpu_l1'\n",
    "    ,'pcvpu_l2'\n",
    "    ,'pcvpu_l3'\n",
    "    ,'avg_block_pcvpu_l1'\n",
    "    ,'avg_block_pcvpu_l2'\n",
    "    ,'avg_block_pcvpu_l3'\n",
    "    ,'avg_neighbor1_pcvpu_l1'\n",
    "    ,'avg_neighbor1_pcvpu_l2'\n",
    "    ,'avg_neighbor1_pcvpu_l3'\n",
    "    ,'avg_neighbor2_pcvpu_l1'\n",
    "    ,'avg_neighbor2_pcvpu_l2'\n",
    "    ,'avg_neighbor2_pcvpu_l3'\n",
    "    ,'avg_neighbor3_pcvpu_l1'\n",
    "    ,'avg_neighbor3_pcvpu_l2'\n",
    "    ,'avg_neighbor3_pcvpu_l3'\n",
    "    ,'avg_neighbor4_pcvpu_l1'\n",
    "    ,'avg_neighbor4_pcvpu_l2'\n",
    "    ,'avg_neighbor4_pcvpu_l3'\n",
    "    ,'avg_zip_pcvpu_l1'\n",
    "    ,'avg_zip_pcvpu_l2'\n",
    "    ,'avg_zip_pcvpu_l3'\n",
    "    ]"
   ],
   "outputs": [],
   "metadata": {}
  },
  {
   "cell_type": "code",
   "execution_count": 4,
   "source": [
    "# Commands to select data from each year\n",
    "sql_2008 = \"\"\"SELECT * \n",
    "         FROM pluto_disc\n",
    "         WHERE year = 2008\n",
    "         \"\"\"\n",
    "sql_2009 = \"\"\"SELECT * \n",
    "         FROM pluto_disc\n",
    "         WHERE year = 2009\n",
    "         \"\"\"\n",
    "sql_2010 = \"\"\"SELECT * \n",
    "         FROM pluto_disc\n",
    "         WHERE year = 2010\n",
    "         \"\"\"\n",
    "sql_2010 = \"\"\"SELECT * \n",
    "         FROM pluto_disc\n",
    "         WHERE year = 2010\n",
    "         \"\"\"\n",
    "sql_2011 = \"\"\"SELECT * \n",
    "         FROM pluto_disc\n",
    "         WHERE year = 2011\n",
    "         \"\"\"\n",
    "sql_2012 = \"\"\"SELECT * \n",
    "         FROM pluto_disc\n",
    "         WHERE year = 2012\n",
    "         \"\"\"\n",
    "sql_2013 = \"\"\"SELECT * \n",
    "         FROM pluto_disc\n",
    "         WHERE year = 2013\n",
    "         \"\"\"\n",
    "sql_2014 = \"\"\"SELECT * \n",
    "         FROM pluto_disc\n",
    "         WHERE year = 2014\n",
    "         \"\"\"\n",
    "sql_2015 = \"\"\"SELECT * \n",
    "         FROM pluto_disc\n",
    "         WHERE year = 2015\n",
    "         \"\"\"\n",
    "sql_2016 = \"\"\"SELECT * \n",
    "         FROM pluto_disc\n",
    "         WHERE year = 2016\n",
    "         \"\"\"\n",
    "sql_2017 = \"\"\"SELECT * \n",
    "         FROM pluto_disc\n",
    "         WHERE year = 2017\n",
    "         \"\"\"\n",
    "sql_2018 = \"\"\"SELECT * \n",
    "         FROM pluto_disc\n",
    "         WHERE year = 2018\n",
    "         \"\"\"\n",
    "sql_2019 = \"\"\"SELECT * \n",
    "         FROM pluto_disc\n",
    "         WHERE year = 2019\n",
    "         \"\"\"\n",
    "sql_2020 = \"\"\"SELECT * \n",
    "         FROM pluto_disc\n",
    "         WHERE year = 2020\n",
    "         \"\"\""
   ],
   "outputs": [],
   "metadata": {}
  },
  {
   "cell_type": "code",
   "execution_count": 5,
   "source": [
    "# Function for creating dataframes from a SQL query\n",
    "def get_data(sql_train, sql_test, cov):\n",
    "    \"\"\"\n",
    "    Function to return data from a train and test SQL query\n",
    "    \"\"\"\n",
    "    global df_train, df_test, X_train, X_test, y_train, y_test, covariates\n",
    "\n",
    "    # List of columns to be used as covariates in the model\n",
    "\n",
    "    df_train = sqlio.read_sql_query(sql_train, conn).dropna()\n",
    "    df_test = sqlio.read_sql_query(sql_test, conn).dropna()\n",
    "\n",
    "    covariates = df_train.columns.intersection(cov)\n",
    "\n",
    "    X_train = df_train[covariates]\n",
    "    y_train = df_train['pcvpu_target']\n",
    "\n",
    "    X_test = df_test[covariates]\n",
    "    y_test = df_test['pcvpu_target']\n",
    "    return df_train, df_test, X_train, X_test, y_train, y_test"
   ],
   "outputs": [],
   "metadata": {}
  },
  {
   "cell_type": "code",
   "execution_count": 6,
   "source": [
    "# Create a random forest classifier object\n",
    "# warm_start = True allows the model to be trained on new data without having to retrain the entire model\n",
    "lr = LogisticRegression(multi_class='multinomial', solver='newton-cg')"
   ],
   "outputs": [],
   "metadata": {}
  },
  {
   "cell_type": "code",
   "execution_count": 7,
   "source": [
    "# Set up empty lists to store the results of the model for each year\n",
    "\n",
    "MAEs = [] ## Mean Absolute Error, list of numbers (out of sample)\n",
    "R2s = []  ## R2 score, list of numbers (out of sample)\n",
    "accuracies = [] ## Accuracy, list of numbers (out of sample)\n",
    "precisions = [] ## Precision scores for each class, list of lists (out of sample)\n",
    "recalls = [] ## Recall scores for each class, list of lists (out of sample)\n",
    "f1scores = [] ## F1 score for each class, list of lists (out of sample)\n",
    "supports = [] ## Support scores for each class, list of lists (out of sample)\n",
    "\n",
    "feature_importances = [] ## Feature importances, list of lists\n",
    "\n",
    "MAEs_in_sample = [] ## Mean Absolute Error, list of numbers (in sample)\n",
    "R2s_in_sample = []  ## R2 score, list of numbers (in sample)\n",
    "accuracies_in_sample = [] ## Accuracy, list of numbers (in sample)\n",
    "precisions_in_sample = [] ## Precision scores for each class, list of lists (in sample)\n",
    "recalls_in_sample = [] ## Recall scores for each class, list of lists (in sample)\n",
    "f1scores_in_sample = [] ## F1 score for each class, list of lists (in sample)\n",
    "supports_in_sample = [] ## Support scores for each class, list of lists (in sample)\n",
    "\n",
    "def update_reports():\n",
    "    \"\"\"\n",
    "    Function to update the reports for each year\n",
    "    \"\"\"\n",
    "    print('Updating Out of Sample Reports')\n",
    "    print(classification_report(y_test, y_pred))\n",
    "    precision, recall, f1score, support = scores(y_test, y_pred)\n",
    "    precisions.append(precision)\n",
    "    recalls.append(recall)\n",
    "    f1scores.append(f1score)\n",
    "    supports.append(support)\n",
    "    accuracies.append(accuracy_score(y_test, y_pred))\n",
    "    MAEs.append(mean_absolute_error(y_test, y_pred))\n",
    "    R2s.append(r2_score(y_test, y_pred))\n",
    "\n",
    "    print('Updating In Sample Reports')\n",
    "    print(classification_report(y_train, y_pred_in_sample))\n",
    "    precision_in_sample, recall_in_sample ,f1score_in_sample, support_in_sample = scores(y_train, y_pred_in_sample)\n",
    "    precisions_in_sample.append(precision_in_sample)\n",
    "    recalls_in_sample.append(recall_in_sample)\n",
    "    f1scores_in_sample.append(f1score_in_sample)\n",
    "    supports_in_sample.append(support_in_sample)\n",
    "    accuracies_in_sample.append(accuracy_score(y_train, y_pred_in_sample))\n",
    "    MAEs_in_sample.append(mean_absolute_error(y_train, y_pred_in_sample))\n",
    "    R2s_in_sample.append(r2_score(y_train, y_pred_in_sample))\n"
   ],
   "outputs": [],
   "metadata": {}
  },
  {
   "cell_type": "code",
   "execution_count": 8,
   "source": [
    "# get data from 2008 and 2009\n",
    "df_train, df_test, X_train, X_test, y_train, y_test = get_data(sql_2008, sql_2009, cov)\n"
   ],
   "outputs": [],
   "metadata": {}
  },
  {
   "cell_type": "code",
   "execution_count": 9,
   "source": [
    "# fit the model for 2008 and 2009\n",
    "lr.fit(X_train,y_train)"
   ],
   "outputs": [
    {
     "output_type": "stream",
     "name": "stderr",
     "text": [
      "/home/oliver/.local/lib/python3.9/site-packages/scipy/optimize/linesearch.py:478: LineSearchWarning: The line search algorithm did not converge\n",
      "  warn('The line search algorithm did not converge', LineSearchWarning)\n",
      "/home/oliver/.local/lib/python3.9/site-packages/scipy/optimize/linesearch.py:327: LineSearchWarning: The line search algorithm did not converge\n",
      "  warn('The line search algorithm did not converge', LineSearchWarning)\n",
      "/home/oliver/.local/lib/python3.9/site-packages/sklearn/utils/optimize.py:210: ConvergenceWarning: newton-cg failed to converge. Increase the number of iterations.\n",
      "  warnings.warn(\n"
     ]
    },
    {
     "output_type": "execute_result",
     "data": {
      "text/plain": [
       "LogisticRegression(multi_class='multinomial', solver='newton-cg')"
      ]
     },
     "metadata": {},
     "execution_count": 9
    }
   ],
   "metadata": {}
  },
  {
   "cell_type": "code",
   "execution_count": 10,
   "source": [
    "# Make in and out of sample predictions\n",
    "y_pred = lr.predict(X_test)\n",
    "y_pred_in_sample = lr.predict(X_train)"
   ],
   "outputs": [],
   "metadata": {}
  },
  {
   "cell_type": "code",
   "execution_count": 11,
   "source": [
    "# update all the report series\n",
    "update_reports()"
   ],
   "outputs": [
    {
     "output_type": "stream",
     "name": "stdout",
     "text": [
      "Updating Out of Sample Reports\n",
      "              precision    recall  f1-score   support\n",
      "\n",
      "           0       0.58      0.20      0.30     19654\n",
      "           1       0.29      0.10      0.15     56098\n",
      "           2       0.51      0.94      0.66     63793\n",
      "           3       0.20      0.01      0.03      5531\n",
      "\n",
      "    accuracy                           0.48    145076\n",
      "   macro avg       0.39      0.31      0.28    145076\n",
      "weighted avg       0.42      0.48      0.39    145076\n",
      "\n",
      "Updating In Sample Reports\n",
      "              precision    recall  f1-score   support\n",
      "\n",
      "           0       0.55      0.45      0.49     16031\n",
      "           1       0.35      0.10      0.15     45689\n",
      "           2       0.61      0.95      0.74     75018\n",
      "           3       0.33      0.05      0.09      6601\n",
      "\n",
      "    accuracy                           0.58    143339\n",
      "   macro avg       0.46      0.39      0.37    143339\n",
      "weighted avg       0.51      0.58      0.49    143339\n",
      "\n"
     ]
    }
   ],
   "metadata": {}
  },
  {
   "cell_type": "code",
   "execution_count": 12,
   "source": [
    "# get data for the next year\n",
    "df_train, df_test, X_train, X_test, y_train, y_test = get_data(sql_2009, sql_2010, cov)"
   ],
   "outputs": [],
   "metadata": {}
  },
  {
   "cell_type": "code",
   "execution_count": 14,
   "source": [
    "# expand the number of trees and then fit to the next year\n",
    "lr.fit(X_train,y_train)"
   ],
   "outputs": [
    {
     "output_type": "stream",
     "name": "stderr",
     "text": [
      "/home/oliver/.local/lib/python3.9/site-packages/scipy/optimize/linesearch.py:478: LineSearchWarning: The line search algorithm did not converge\n",
      "  warn('The line search algorithm did not converge', LineSearchWarning)\n",
      "/home/oliver/.local/lib/python3.9/site-packages/scipy/optimize/linesearch.py:327: LineSearchWarning: The line search algorithm did not converge\n",
      "  warn('The line search algorithm did not converge', LineSearchWarning)\n",
      "/home/oliver/.local/lib/python3.9/site-packages/sklearn/utils/optimize.py:210: ConvergenceWarning: newton-cg failed to converge. Increase the number of iterations.\n",
      "  warnings.warn(\n"
     ]
    },
    {
     "output_type": "execute_result",
     "data": {
      "text/plain": [
       "LogisticRegression(multi_class='multinomial', solver='newton-cg')"
      ]
     },
     "metadata": {},
     "execution_count": 14
    }
   ],
   "metadata": {}
  },
  {
   "cell_type": "code",
   "execution_count": 15,
   "source": [
    "y_pred = lr.predict(X_test)\n",
    "y_pred_in_sample = lr.predict(X_train)"
   ],
   "outputs": [],
   "metadata": {}
  },
  {
   "cell_type": "code",
   "execution_count": 16,
   "source": [
    "# update all the report series\n",
    "update_reports()"
   ],
   "outputs": [
    {
     "output_type": "stream",
     "name": "stdout",
     "text": [
      "Updating Out of Sample Reports\n",
      "              precision    recall  f1-score   support\n",
      "\n",
      "           0       0.26      0.25      0.25     14026\n",
      "           1       0.47      0.15      0.22     65196\n",
      "           2       0.43      0.86      0.57     56957\n",
      "           3       0.43      0.01      0.03     12673\n",
      "\n",
      "    accuracy                           0.42    148852\n",
      "   macro avg       0.40      0.32      0.27    148852\n",
      "weighted avg       0.43      0.42      0.34    148852\n",
      "\n",
      "Updating In Sample Reports\n",
      "              precision    recall  f1-score   support\n",
      "\n",
      "           0       0.55      0.46      0.50     19654\n",
      "           1       0.53      0.30      0.38     56098\n",
      "           2       0.57      0.87      0.69     63793\n",
      "           3       0.22      0.01      0.02      5531\n",
      "\n",
      "    accuracy                           0.56    145076\n",
      "   macro avg       0.47      0.41      0.40    145076\n",
      "weighted avg       0.54      0.56      0.52    145076\n",
      "\n"
     ]
    }
   ],
   "metadata": {}
  },
  {
   "cell_type": "code",
   "execution_count": 17,
   "source": [
    "# get data for the next year\n",
    "df_train, df_test, X_train, X_test, y_train, y_test = get_data(sql_2010, sql_2011, cov)"
   ],
   "outputs": [],
   "metadata": {}
  },
  {
   "cell_type": "code",
   "execution_count": 18,
   "source": [
    "# expand the number of trees and then fit to the next year\n",
    "\n",
    "lr.fit(X_train,y_train)"
   ],
   "outputs": [
    {
     "output_type": "stream",
     "name": "stderr",
     "text": [
      "/home/oliver/.local/lib/python3.9/site-packages/sklearn/utils/optimize.py:210: ConvergenceWarning: newton-cg failed to converge. Increase the number of iterations.\n",
      "  warnings.warn(\n"
     ]
    },
    {
     "output_type": "execute_result",
     "data": {
      "text/plain": [
       "LogisticRegression(multi_class='multinomial', solver='newton-cg')"
      ]
     },
     "metadata": {},
     "execution_count": 18
    }
   ],
   "metadata": {}
  },
  {
   "cell_type": "code",
   "execution_count": 19,
   "source": [
    "y_pred = lr.predict(X_test)\n",
    "y_pred_in_sample = lr.predict(X_train)"
   ],
   "outputs": [],
   "metadata": {}
  },
  {
   "cell_type": "code",
   "execution_count": 20,
   "source": [
    "# update all the report series\n",
    "update_reports()"
   ],
   "outputs": [
    {
     "output_type": "stream",
     "name": "stdout",
     "text": [
      "Updating Out of Sample Reports\n",
      "              precision    recall  f1-score   support\n",
      "\n",
      "           0       0.25      0.02      0.04     15426\n",
      "           1       0.93      0.65      0.76    128361\n",
      "           2       0.03      0.48      0.05      3039\n",
      "           3       0.11      0.25      0.16      3339\n",
      "\n",
      "    accuracy                           0.57    150165\n",
      "   macro avg       0.33      0.35      0.25    150165\n",
      "weighted avg       0.82      0.57      0.66    150165\n",
      "\n",
      "Updating In Sample Reports\n",
      "              precision    recall  f1-score   support\n",
      "\n",
      "           0       0.45      0.13      0.20     14026\n",
      "           1       0.57      0.80      0.67     65196\n",
      "           2       0.46      0.37      0.41     56957\n",
      "           3       0.50      0.30      0.37     12673\n",
      "\n",
      "    accuracy                           0.53    148852\n",
      "   macro avg       0.49      0.40      0.41    148852\n",
      "weighted avg       0.51      0.53      0.50    148852\n",
      "\n"
     ]
    }
   ],
   "metadata": {}
  },
  {
   "cell_type": "code",
   "execution_count": 21,
   "source": [
    "# get data for the next year\n",
    "df_train, df_test, X_train, X_test, y_train, y_test = get_data(sql_2011, sql_2012, cov)"
   ],
   "outputs": [],
   "metadata": {}
  },
  {
   "cell_type": "code",
   "execution_count": 22,
   "source": [
    "# expand the number of trees and then fit to the next year\n",
    "\n",
    "lr.fit(X_train,y_train)"
   ],
   "outputs": [
    {
     "output_type": "stream",
     "name": "stderr",
     "text": [
      "/home/oliver/.local/lib/python3.9/site-packages/sklearn/utils/optimize.py:210: ConvergenceWarning: newton-cg failed to converge. Increase the number of iterations.\n",
      "  warnings.warn(\n"
     ]
    },
    {
     "output_type": "execute_result",
     "data": {
      "text/plain": [
       "LogisticRegression(multi_class='multinomial', solver='newton-cg')"
      ]
     },
     "metadata": {},
     "execution_count": 22
    }
   ],
   "metadata": {}
  },
  {
   "cell_type": "code",
   "execution_count": 23,
   "source": [
    "y_pred = lr.predict(X_test)\n",
    "y_pred_in_sample = lr.predict(X_train)"
   ],
   "outputs": [],
   "metadata": {}
  },
  {
   "cell_type": "code",
   "execution_count": 24,
   "source": [
    "# update all the report series\n",
    "update_reports()"
   ],
   "outputs": [
    {
     "output_type": "stream",
     "name": "stdout",
     "text": [
      "Updating Out of Sample Reports\n",
      "              precision    recall  f1-score   support\n",
      "\n",
      "           0       0.20      0.03      0.06     11697\n",
      "           1       0.34      0.98      0.50     51325\n",
      "           2       0.19      0.00      0.00     77885\n",
      "           3       0.31      0.00      0.01     10654\n",
      "\n",
      "    accuracy                           0.34    151561\n",
      "   macro avg       0.26      0.26      0.14    151561\n",
      "weighted avg       0.25      0.34      0.18    151561\n",
      "\n",
      "Updating In Sample Reports\n",
      "              precision    recall  f1-score   support\n",
      "\n",
      "           0       0.26      0.03      0.05     15426\n",
      "           1       0.86      0.99      0.92    128361\n",
      "           2       0.11      0.01      0.01      3039\n",
      "           3       0.17      0.01      0.02      3339\n",
      "\n",
      "    accuracy                           0.85    150165\n",
      "   macro avg       0.35      0.26      0.25    150165\n",
      "weighted avg       0.77      0.85      0.79    150165\n",
      "\n"
     ]
    }
   ],
   "metadata": {}
  },
  {
   "cell_type": "code",
   "execution_count": 25,
   "source": [
    "# get data for the next year\n",
    "df_train, df_test, X_train, X_test, y_train, y_test = get_data(sql_2012, sql_2013, cov)"
   ],
   "outputs": [],
   "metadata": {}
  },
  {
   "cell_type": "code",
   "execution_count": 26,
   "source": [
    "# expand the number of trees and then fit to the next year\n",
    "\n",
    "lr.fit(X_train,y_train)"
   ],
   "outputs": [
    {
     "output_type": "stream",
     "name": "stderr",
     "text": [
      "/home/oliver/.local/lib/python3.9/site-packages/scipy/optimize/linesearch.py:478: LineSearchWarning: The line search algorithm did not converge\n",
      "  warn('The line search algorithm did not converge', LineSearchWarning)\n",
      "/home/oliver/.local/lib/python3.9/site-packages/scipy/optimize/linesearch.py:327: LineSearchWarning: The line search algorithm did not converge\n",
      "  warn('The line search algorithm did not converge', LineSearchWarning)\n",
      "/home/oliver/.local/lib/python3.9/site-packages/sklearn/utils/optimize.py:210: ConvergenceWarning: newton-cg failed to converge. Increase the number of iterations.\n",
      "  warnings.warn(\n"
     ]
    },
    {
     "output_type": "execute_result",
     "data": {
      "text/plain": [
       "LogisticRegression(multi_class='multinomial', solver='newton-cg')"
      ]
     },
     "metadata": {},
     "execution_count": 26
    }
   ],
   "metadata": {}
  },
  {
   "cell_type": "code",
   "execution_count": 27,
   "source": [
    "y_pred = lr.predict(X_test)\n",
    "y_pred_in_sample = lr.predict(X_train)"
   ],
   "outputs": [],
   "metadata": {}
  },
  {
   "cell_type": "code",
   "execution_count": 28,
   "source": [
    "# update all the report series\n",
    "update_reports()"
   ],
   "outputs": [
    {
     "output_type": "stream",
     "name": "stdout",
     "text": [
      "Updating Out of Sample Reports\n",
      "              precision    recall  f1-score   support\n",
      "\n",
      "           0       0.23      0.04      0.07     14892\n",
      "           1       0.39      0.15      0.21     50865\n",
      "           2       0.54      0.92      0.68     74913\n",
      "           3       0.36      0.12      0.18     12179\n",
      "\n",
      "    accuracy                           0.51    152849\n",
      "   macro avg       0.38      0.31      0.29    152849\n",
      "weighted avg       0.45      0.51      0.43    152849\n",
      "\n",
      "Updating In Sample Reports\n",
      "              precision    recall  f1-score   support\n",
      "\n",
      "           0       0.42      0.09      0.14     11697\n",
      "           1       0.49      0.26      0.34     51325\n",
      "           2       0.58      0.88      0.70     77885\n",
      "           3       0.42      0.20      0.27     10654\n",
      "\n",
      "    accuracy                           0.56    151561\n",
      "   macro avg       0.48      0.35      0.36    151561\n",
      "weighted avg       0.53      0.56      0.50    151561\n",
      "\n"
     ]
    }
   ],
   "metadata": {}
  },
  {
   "cell_type": "code",
   "execution_count": 29,
   "source": [
    "# get data for the next year\n",
    "df_train, df_test, X_train, X_test, y_train, y_test = get_data(sql_2013, sql_2014, cov)\n",
    "# expand the number of trees and then fit to the next year\n",
    "\n",
    "lr.fit(X_train,y_train)\n",
    "# make predictions for the next year\n",
    "y_pred = lr.predict(X_test)\n",
    "y_pred_in_sample = lr.predict(X_train)\n",
    "# update all the report series\n",
    "update_reports()"
   ],
   "outputs": [
    {
     "output_type": "stream",
     "name": "stderr",
     "text": [
      "/home/oliver/.local/lib/python3.9/site-packages/scipy/optimize/linesearch.py:478: LineSearchWarning: The line search algorithm did not converge\n",
      "  warn('The line search algorithm did not converge', LineSearchWarning)\n",
      "/home/oliver/.local/lib/python3.9/site-packages/scipy/optimize/linesearch.py:327: LineSearchWarning: The line search algorithm did not converge\n",
      "  warn('The line search algorithm did not converge', LineSearchWarning)\n",
      "/home/oliver/.local/lib/python3.9/site-packages/sklearn/utils/optimize.py:210: ConvergenceWarning: newton-cg failed to converge. Increase the number of iterations.\n",
      "  warnings.warn(\n"
     ]
    },
    {
     "output_type": "stream",
     "name": "stdout",
     "text": [
      "Updating Out of Sample Reports\n",
      "              precision    recall  f1-score   support\n",
      "\n",
      "           0       0.07      0.07      0.07      3813\n",
      "           1       0.38      0.13      0.20     62233\n",
      "           2       0.51      0.86      0.64     71827\n",
      "           3       0.41      0.13      0.20     15432\n",
      "\n",
      "    accuracy                           0.47    153305\n",
      "   macro avg       0.34      0.30      0.28    153305\n",
      "weighted avg       0.43      0.47      0.40    153305\n",
      "\n",
      "Updating In Sample Reports\n",
      "              precision    recall  f1-score   support\n",
      "\n",
      "           0       0.32      0.13      0.18     14892\n",
      "           1       0.42      0.17      0.24     50865\n",
      "           2       0.56      0.90      0.69     74913\n",
      "           3       0.37      0.19      0.25     12179\n",
      "\n",
      "    accuracy                           0.52    152849\n",
      "   macro avg       0.42      0.34      0.34    152849\n",
      "weighted avg       0.47      0.52      0.45    152849\n",
      "\n"
     ]
    }
   ],
   "metadata": {}
  },
  {
   "cell_type": "code",
   "execution_count": 30,
   "source": [
    "# get data for the next year\n",
    "df_train, df_test, X_train, X_test, y_train, y_test = get_data(sql_2014, sql_2015, cov)\n",
    "# expand the number of trees and then fit to the next year\n",
    "\n",
    "lr.fit(X_train,y_train)\n",
    "# make predictions for the next year\n",
    "y_pred = lr.predict(X_test)\n",
    "y_pred_in_sample = lr.predict(X_train)\n",
    "# update all the report series\n",
    "update_reports()"
   ],
   "outputs": [
    {
     "output_type": "stream",
     "name": "stderr",
     "text": [
      "/home/oliver/.local/lib/python3.9/site-packages/scipy/optimize/linesearch.py:478: LineSearchWarning: The line search algorithm did not converge\n",
      "  warn('The line search algorithm did not converge', LineSearchWarning)\n",
      "/home/oliver/.local/lib/python3.9/site-packages/scipy/optimize/linesearch.py:327: LineSearchWarning: The line search algorithm did not converge\n",
      "  warn('The line search algorithm did not converge', LineSearchWarning)\n",
      "/home/oliver/.local/lib/python3.9/site-packages/sklearn/utils/optimize.py:210: ConvergenceWarning: newton-cg failed to converge. Increase the number of iterations.\n",
      "  warnings.warn(\n"
     ]
    },
    {
     "output_type": "stream",
     "name": "stdout",
     "text": [
      "Updating Out of Sample Reports\n",
      "              precision    recall  f1-score   support\n",
      "\n",
      "           0       0.21      0.00      0.01      8551\n",
      "           1       0.58      0.86      0.69     67924\n",
      "           2       0.71      0.53      0.60     63672\n",
      "           3       0.36      0.15      0.21     13906\n",
      "\n",
      "    accuracy                           0.61    154053\n",
      "   macro avg       0.47      0.39      0.38    154053\n",
      "weighted avg       0.59      0.61      0.57    154053\n",
      "\n",
      "Updating In Sample Reports\n",
      "              precision    recall  f1-score   support\n",
      "\n",
      "           0       0.16      0.01      0.02      3813\n",
      "           1       0.65      0.49      0.56     62233\n",
      "           2       0.61      0.82      0.70     71827\n",
      "           3       0.43      0.26      0.32     15432\n",
      "\n",
      "    accuracy                           0.61    153305\n",
      "   macro avg       0.46      0.40      0.40    153305\n",
      "weighted avg       0.60      0.61      0.59    153305\n",
      "\n"
     ]
    }
   ],
   "metadata": {}
  },
  {
   "cell_type": "code",
   "execution_count": 31,
   "source": [
    "# get data for the next year\n",
    "df_train, df_test, X_train, X_test, y_train, y_test = get_data(sql_2015, sql_2016, cov)\n",
    "# expand the number of trees and then fit to the next year\n",
    "\n",
    "lr.fit(X_train,y_train)\n",
    "# make predictions for the next year\n",
    "y_pred = lr.predict(X_test)\n",
    "y_pred_in_sample = lr.predict(X_train)\n",
    "# update all the report series\n",
    "update_reports()"
   ],
   "outputs": [
    {
     "output_type": "stream",
     "name": "stderr",
     "text": [
      "/home/oliver/.local/lib/python3.9/site-packages/scipy/optimize/linesearch.py:478: LineSearchWarning: The line search algorithm did not converge\n",
      "  warn('The line search algorithm did not converge', LineSearchWarning)\n",
      "/home/oliver/.local/lib/python3.9/site-packages/scipy/optimize/linesearch.py:327: LineSearchWarning: The line search algorithm did not converge\n",
      "  warn('The line search algorithm did not converge', LineSearchWarning)\n",
      "/home/oliver/.local/lib/python3.9/site-packages/sklearn/utils/optimize.py:210: ConvergenceWarning: newton-cg failed to converge. Increase the number of iterations.\n",
      "  warnings.warn(\n"
     ]
    },
    {
     "output_type": "stream",
     "name": "stdout",
     "text": [
      "Updating Out of Sample Reports\n",
      "              precision    recall  f1-score   support\n",
      "\n",
      "           0       0.15      0.02      0.03      5262\n",
      "           1       0.48      0.73      0.57     56597\n",
      "           2       0.71      0.52      0.60     81847\n",
      "           3       0.29      0.22      0.25     11251\n",
      "\n",
      "    accuracy                           0.55    154957\n",
      "   macro avg       0.41      0.37      0.36    154957\n",
      "weighted avg       0.58      0.55      0.54    154957\n",
      "\n",
      "Updating In Sample Reports\n",
      "              precision    recall  f1-score   support\n",
      "\n",
      "           0       0.23      0.01      0.03      8551\n",
      "           1       0.63      0.81      0.71     67924\n",
      "           2       0.68      0.62      0.65     63672\n",
      "           3       0.36      0.21      0.27     13906\n",
      "\n",
      "    accuracy                           0.63    154053\n",
      "   macro avg       0.47      0.41      0.41    154053\n",
      "weighted avg       0.60      0.63      0.61    154053\n",
      "\n"
     ]
    }
   ],
   "metadata": {}
  },
  {
   "cell_type": "code",
   "execution_count": 32,
   "source": [
    "# get data for the next year\n",
    "df_train, df_test, X_train, X_test, y_train, y_test = get_data(sql_2016, sql_2017, cov)\n",
    "# expand the number of trees and then fit to the next year\n",
    "\n",
    "lr.fit(X_train,y_train)\n",
    "# make predictions for the next year\n",
    "y_pred = lr.predict(X_test)\n",
    "y_pred_in_sample = lr.predict(X_train)\n",
    "# update all the report series\n",
    "update_reports()"
   ],
   "outputs": [
    {
     "output_type": "stream",
     "name": "stderr",
     "text": [
      "/home/oliver/.local/lib/python3.9/site-packages/scipy/optimize/linesearch.py:478: LineSearchWarning: The line search algorithm did not converge\n",
      "  warn('The line search algorithm did not converge', LineSearchWarning)\n",
      "/home/oliver/.local/lib/python3.9/site-packages/scipy/optimize/linesearch.py:327: LineSearchWarning: The line search algorithm did not converge\n",
      "  warn('The line search algorithm did not converge', LineSearchWarning)\n",
      "/home/oliver/.local/lib/python3.9/site-packages/sklearn/utils/optimize.py:210: ConvergenceWarning: newton-cg failed to converge. Increase the number of iterations.\n",
      "  warnings.warn(\n"
     ]
    },
    {
     "output_type": "stream",
     "name": "stdout",
     "text": [
      "Updating Out of Sample Reports\n",
      "              precision    recall  f1-score   support\n",
      "\n",
      "           0       0.20      0.00      0.00      4667\n",
      "           1       0.59      0.33      0.42     57630\n",
      "           2       0.62      0.91      0.74     81767\n",
      "           3       0.27      0.08      0.12     11150\n",
      "\n",
      "    accuracy                           0.61    155214\n",
      "   macro avg       0.42      0.33      0.32    155214\n",
      "weighted avg       0.57      0.61      0.56    155214\n",
      "\n",
      "Updating In Sample Reports\n",
      "              precision    recall  f1-score   support\n",
      "\n",
      "           0       0.18      0.00      0.00      5262\n",
      "           1       0.57      0.31      0.41     56597\n",
      "           2       0.63      0.92      0.74     81847\n",
      "           3       0.26      0.09      0.13     11251\n",
      "\n",
      "    accuracy                           0.61    154957\n",
      "   macro avg       0.41      0.33      0.32    154957\n",
      "weighted avg       0.56      0.61      0.55    154957\n",
      "\n"
     ]
    }
   ],
   "metadata": {}
  },
  {
   "cell_type": "code",
   "execution_count": 33,
   "source": [
    "# get data for the next year\n",
    "df_train, df_test, X_train, X_test, y_train, y_test = get_data(sql_2017, sql_2018, cov)\n",
    "# expand the number of trees and then fit to the next year\n",
    "\n",
    "lr.fit(X_train,y_train)\n",
    "# make predictions for the next year\n",
    "y_pred = lr.predict(X_test)\n",
    "y_pred_in_sample = lr.predict(X_train)\n",
    "# update all the report series\n",
    "update_reports()"
   ],
   "outputs": [
    {
     "output_type": "stream",
     "name": "stderr",
     "text": [
      "/home/oliver/.local/lib/python3.9/site-packages/scipy/optimize/linesearch.py:478: LineSearchWarning: The line search algorithm did not converge\n",
      "  warn('The line search algorithm did not converge', LineSearchWarning)\n",
      "/home/oliver/.local/lib/python3.9/site-packages/scipy/optimize/linesearch.py:327: LineSearchWarning: The line search algorithm did not converge\n",
      "  warn('The line search algorithm did not converge', LineSearchWarning)\n",
      "/home/oliver/.local/lib/python3.9/site-packages/sklearn/utils/optimize.py:210: ConvergenceWarning: newton-cg failed to converge. Increase the number of iterations.\n",
      "  warnings.warn(\n"
     ]
    },
    {
     "output_type": "stream",
     "name": "stdout",
     "text": [
      "Updating Out of Sample Reports\n",
      "              precision    recall  f1-score   support\n",
      "\n",
      "           0       0.92      0.00      0.00     90097\n",
      "           1       0.01      0.11      0.02      2978\n",
      "           2       0.02      0.89      0.04      2722\n",
      "           3       0.04      0.00      0.00     54260\n",
      "\n",
      "    accuracy                           0.02    150057\n",
      "   macro avg       0.25      0.25      0.02    150057\n",
      "weighted avg       0.57      0.02      0.00    150057\n",
      "\n",
      "Updating In Sample Reports\n",
      "              precision    recall  f1-score   support\n",
      "\n",
      "           0       0.26      0.00      0.01      4667\n",
      "           1       0.58      0.38      0.46     57630\n",
      "           2       0.64      0.88      0.74     81767\n",
      "           3       0.29      0.09      0.13     11150\n",
      "\n",
      "    accuracy                           0.61    155214\n",
      "   macro avg       0.44      0.34      0.34    155214\n",
      "weighted avg       0.58      0.61      0.57    155214\n",
      "\n"
     ]
    }
   ],
   "metadata": {}
  },
  {
   "cell_type": "code",
   "execution_count": 34,
   "source": [
    "# get data for the next year\n",
    "df_train, df_test, X_train, X_test, y_train, y_test = get_data(sql_2018, sql_2019, cov)\n",
    "# expand the number of trees and then fit to the next year\n",
    "\n",
    "lr.fit(X_train,y_train)\n",
    "# make predictions for the next year\n",
    "y_pred = lr.predict(X_test)\n",
    "y_pred_in_sample = lr.predict(X_train)\n",
    "# update all the report series\n",
    "update_reports()"
   ],
   "outputs": [
    {
     "output_type": "stream",
     "name": "stderr",
     "text": [
      "/home/oliver/.local/lib/python3.9/site-packages/scipy/optimize/linesearch.py:478: LineSearchWarning: The line search algorithm did not converge\n",
      "  warn('The line search algorithm did not converge', LineSearchWarning)\n",
      "/home/oliver/.local/lib/python3.9/site-packages/scipy/optimize/linesearch.py:327: LineSearchWarning: The line search algorithm did not converge\n",
      "  warn('The line search algorithm did not converge', LineSearchWarning)\n",
      "/home/oliver/.local/lib/python3.9/site-packages/sklearn/utils/optimize.py:210: ConvergenceWarning: newton-cg failed to converge. Increase the number of iterations.\n",
      "  warnings.warn(\n"
     ]
    },
    {
     "output_type": "stream",
     "name": "stdout",
     "text": [
      "Updating Out of Sample Reports\n",
      "              precision    recall  f1-score   support\n",
      "\n",
      "           0       0.22      0.59      0.32     35174\n",
      "           1       0.26      0.00      0.00     33758\n",
      "           2       0.17      0.00      0.00     26029\n",
      "           3       0.43      0.46      0.44     55470\n",
      "\n",
      "    accuracy                           0.31    150431\n",
      "   macro avg       0.27      0.26      0.19    150431\n",
      "weighted avg       0.30      0.31      0.24    150431\n",
      "\n",
      "Updating In Sample Reports\n"
     ]
    },
    {
     "output_type": "stream",
     "name": "stderr",
     "text": [
      "/home/oliver/.local/lib/python3.9/site-packages/sklearn/metrics/_classification.py:1308: UndefinedMetricWarning: Precision and F-score are ill-defined and being set to 0.0 in labels with no predicted samples. Use `zero_division` parameter to control this behavior.\n",
      "  _warn_prf(average, modifier, msg_start, len(result))\n",
      "/home/oliver/.local/lib/python3.9/site-packages/sklearn/metrics/_classification.py:1308: UndefinedMetricWarning: Precision and F-score are ill-defined and being set to 0.0 in labels with no predicted samples. Use `zero_division` parameter to control this behavior.\n",
      "  _warn_prf(average, modifier, msg_start, len(result))\n",
      "/home/oliver/.local/lib/python3.9/site-packages/sklearn/metrics/_classification.py:1308: UndefinedMetricWarning: Precision and F-score are ill-defined and being set to 0.0 in labels with no predicted samples. Use `zero_division` parameter to control this behavior.\n",
      "  _warn_prf(average, modifier, msg_start, len(result))\n"
     ]
    },
    {
     "output_type": "stream",
     "name": "stdout",
     "text": [
      "              precision    recall  f1-score   support\n",
      "\n",
      "           0       0.82      0.83      0.83     90097\n",
      "           1       0.00      0.00      0.00      2978\n",
      "           2       0.00      0.00      0.00      2722\n",
      "           3       0.69      0.74      0.72     54260\n",
      "\n",
      "    accuracy                           0.77    150057\n",
      "   macro avg       0.38      0.39      0.39    150057\n",
      "weighted avg       0.74      0.77      0.76    150057\n",
      "\n"
     ]
    },
    {
     "output_type": "stream",
     "name": "stderr",
     "text": [
      "/home/oliver/.local/lib/python3.9/site-packages/sklearn/metrics/_classification.py:1308: UndefinedMetricWarning: Precision and F-score are ill-defined and being set to 0.0 in labels with no predicted samples. Use `zero_division` parameter to control this behavior.\n",
      "  _warn_prf(average, modifier, msg_start, len(result))\n"
     ]
    }
   ],
   "metadata": {}
  },
  {
   "cell_type": "code",
   "execution_count": 35,
   "source": [
    "# get data for the next year\n",
    "df_train, df_test, X_train, X_test, y_train, y_test = get_data(sql_2019, sql_2020, cov)\n",
    "# expand the number of trees and then fit to the next year\n",
    "\n",
    "lr.fit(X_train,y_train)\n",
    "# make predictions for the next year\n",
    "y_pred = lr.predict(X_test)\n",
    "y_pred_in_sample = lr.predict(X_train)\n",
    "# update all the report series\n",
    "update_reports()"
   ],
   "outputs": [
    {
     "output_type": "stream",
     "name": "stderr",
     "text": [
      "/home/oliver/.local/lib/python3.9/site-packages/scipy/optimize/linesearch.py:478: LineSearchWarning: The line search algorithm did not converge\n",
      "  warn('The line search algorithm did not converge', LineSearchWarning)\n",
      "/home/oliver/.local/lib/python3.9/site-packages/scipy/optimize/linesearch.py:327: LineSearchWarning: The line search algorithm did not converge\n",
      "  warn('The line search algorithm did not converge', LineSearchWarning)\n",
      "/home/oliver/.local/lib/python3.9/site-packages/sklearn/utils/optimize.py:210: ConvergenceWarning: newton-cg failed to converge. Increase the number of iterations.\n",
      "  warnings.warn(\n"
     ]
    },
    {
     "output_type": "stream",
     "name": "stdout",
     "text": [
      "Updating Out of Sample Reports\n",
      "              precision    recall  f1-score   support\n",
      "\n",
      "           0       0.56      0.05      0.09    100812\n",
      "           1       0.08      0.03      0.04     28247\n",
      "           2       0.13      0.00      0.01      8548\n",
      "           3       0.09      0.87      0.16     13573\n",
      "\n",
      "    accuracy                           0.12    151180\n",
      "   macro avg       0.21      0.24      0.08    151180\n",
      "weighted avg       0.40      0.12      0.09    151180\n",
      "\n",
      "Updating In Sample Reports\n",
      "              precision    recall  f1-score   support\n",
      "\n",
      "           0       0.31      0.03      0.05     35174\n",
      "           1       0.38      0.27      0.31     33758\n",
      "           2       0.09      0.00      0.00     26029\n",
      "           3       0.40      0.89      0.55     55470\n",
      "\n",
      "    accuracy                           0.39    150431\n",
      "   macro avg       0.29      0.29      0.23    150431\n",
      "weighted avg       0.32      0.39      0.28    150431\n",
      "\n"
     ]
    }
   ],
   "metadata": {}
  },
  {
   "cell_type": "code",
   "execution_count": 38,
   "source": [
    "years = [2009, 2010, 2011, 2012, 2013, 2014, 2015, 2016, 2017, 2018, 2019, 2020]\n",
    "years_in_sample = [2008 ,2009, 2010, 2011, 2012, 2013, 2014, 2015, 2016, 2017, 2018, 2019]\n",
    "plt.plot(years, accuracies, label='Out of Sample')\n",
    "plt.plot(years_in_sample, accuracies_in_sample, label='In Sample')\n",
    "plt.legend()\n",
    "plt.xlabel('Year')\n",
    "plt.ylabel('Accuracy Score')\n",
    "plt.title('Accuracy Score by Year')\n"
   ],
   "outputs": [
    {
     "output_type": "execute_result",
     "data": {
      "text/plain": [
       "Text(0.5, 1.0, 'Accuracy Score by Year')"
      ]
     },
     "metadata": {},
     "execution_count": 38
    },
    {
     "output_type": "display_data",
     "data": {
      "image/png": "[encoded data removed]",
      "text/plain": [
       "<Figure size 432x288 with 1 Axes>"
      ]
     },
     "metadata": {
      "needs_background": "light"
     }
    }
   ],
   "metadata": {}
  },
  {
   "cell_type": "code",
   "execution_count": 41,
   "source": [
    "plt.plot(years, f1scores)\n",
    "plt.legend(['Decrease','Small','Medium','Large'])\n",
    "plt.xlabel('Year')\n",
    "plt.ylabel('F1 Score')\n",
    "plt.title('Out of Sample F1 Scores by Year')"
   ],
   "outputs": [
    {
     "output_type": "execute_result",
     "data": {
      "text/plain": [
       "Text(0.5, 1.0, 'Out of Sample F1 Scores by Year')"
      ]
     },
     "metadata": {},
     "execution_count": 41
    },
    {
     "output_type": "display_data",
     "data": {
      "image/png": "[encoded data removed]",
      "text/plain": [
       "<Figure size 432x288 with 1 Axes>"
      ]
     },
     "metadata": {
      "needs_background": "light"
     }
    }
   ],
   "metadata": {}
  },
  {
   "cell_type": "code",
   "execution_count": 42,
   "source": [
    "plt.plot(years, f1scores_in_sample)\n",
    "plt.legend(['Decrease','Small','Medium','Large'])\n",
    "plt.xlabel('Year')\n",
    "plt.ylabel('F1 Score')\n",
    "plt.title('In Sample F1 Scores by Year')"
   ],
   "outputs": [
    {
     "output_type": "execute_result",
     "data": {
      "text/plain": [
       "Text(0.5, 1.0, 'In Sample F1 Scores by Year')"
      ]
     },
     "metadata": {},
     "execution_count": 42
    },
    {
     "output_type": "display_data",
     "data": {
      "image/png": "[encoded data removed]",
      "text/plain": [
       "<Figure size 432x288 with 1 Axes>"
      ]
     },
     "metadata": {
      "needs_background": "light"
     }
    }
   ],
   "metadata": {}
  },
  {
   "cell_type": "code",
   "execution_count": null,
   "source": [
    "plt.axis([None, None, 0, 0.3])\n",
    "plt.plot(years, [feature_importances[i][:5] for i in range(len(feature_importances))])\n",
    "plt.legend(cov[:5])"
   ],
   "outputs": [
    {
     "output_type": "execute_result",
     "data": {
      "text/plain": [
       "<matplotlib.legend.Legend at 0x7fe2b4bf5eb0>"
      ]
     },
     "metadata": {},
     "execution_count": 46
    },
    {
     "output_type": "display_data",
     "data": {
      "image/png": "[encoded data removed]",
      "text/plain": [
       "<Figure size 432x288 with 1 Axes>"
      ]
     },
     "metadata": {
      "needs_background": "light"
     }
    }
   ],
   "metadata": {}
  },
  {
   "cell_type": "code",
   "execution_count": null,
   "source": [
    "plt.axis([None, None, 0, 0.3])\n",
    "plt.plot(years, [feature_importances[i][5:10] for i in range(len(feature_importances))])\n",
    "plt.legend(cov[5:10])"
   ],
   "outputs": [
    {
     "output_type": "execute_result",
     "data": {
      "text/plain": [
       "<matplotlib.legend.Legend at 0x7fe2c45d0850>"
      ]
     },
     "metadata": {},
     "execution_count": 47
    },
    {
     "output_type": "display_data",
     "data": {
      "image/png": "[encoded data removed]",
      "text/plain": [
       "<Figure size 432x288 with 1 Axes>"
      ]
     },
     "metadata": {
      "needs_background": "light"
     }
    }
   ],
   "metadata": {}
  },
  {
   "cell_type": "code",
   "execution_count": null,
   "source": [
    "plt.axis([None, None, 0, 0.3])\n",
    "plt.plot(years, [feature_importances[i][10:20] for i in range(len(feature_importances))])\n",
    "plt.legend(cov[10:20])"
   ],
   "outputs": [
    {
     "output_type": "execute_result",
     "data": {
      "text/plain": [
       "<matplotlib.legend.Legend at 0x7fe2d11f2c10>"
      ]
     },
     "metadata": {},
     "execution_count": 48
    },
    {
     "output_type": "display_data",
     "data": {
      "image/png": "[encoded data removed]",
      "text/plain": [
       "<Figure size 432x288 with 1 Axes>"
      ]
     },
     "metadata": {
      "needs_background": "light"
     }
    }
   ],
   "metadata": {}
  },
  {
   "cell_type": "code",
   "execution_count": null,
   "source": [
    "plt.axis([None, None, 0, 0.3])\n",
    "\n",
    "plt.plot(years, [feature_importances[i][20:30] for i in range(len(feature_importances))])\n",
    "plt.legend(cov[20:30])"
   ],
   "outputs": [
    {
     "output_type": "execute_result",
     "data": {
      "text/plain": [
       "<matplotlib.legend.Legend at 0x7fe2c1bc9df0>"
      ]
     },
     "metadata": {},
     "execution_count": 49
    },
    {
     "output_type": "display_data",
     "data": {
      "image/png": "[encoded data removed]",
      "text/plain": [
       "<Figure size 432x288 with 1 Axes>"
      ]
     },
     "metadata": {
      "needs_background": "light"
     }
    }
   ],
   "metadata": {}
  },
  {
   "cell_type": "code",
   "execution_count": null,
   "source": [
    "plt.axis([None, None, 0, 0.3])\n",
    "plt.plot(years, [feature_importances[i][30:] for i in range(len(feature_importances))])\n",
    "plt.legend(cov[30:])"
   ],
   "outputs": [
    {
     "output_type": "execute_result",
     "data": {
      "text/plain": [
       "<matplotlib.legend.Legend at 0x7fe29d38beb0>"
      ]
     },
     "metadata": {},
     "execution_count": 50
    },
    {
     "output_type": "display_data",
     "data": {
      "image/png": "[encoded data removed]",
      "text/plain": [
       "<Figure size 432x288 with 1 Axes>"
      ]
     },
     "metadata": {
      "needs_background": "light"
     }
    }
   ],
   "metadata": {}
  }
 ],
 "metadata": {
  "kernelspec": {
   "name": "python3",
   "display_name": "Python 3.9.7 64-bit"
  },
  "language_info": {
   "codemirror_mode": {
    "name": "ipython",
    "version": 3
   },
   "file_extension": ".py",
   "mimetype": "text/x-python",
   "name": "python",
   "nbconvert_exporter": "python",
   "pygments_lexer": "ipython3",
   "version": "3.9.7"
  },
  "interpreter": {
   "hash": "916dbcbb3f70747c44a77c7bcd40155683ae19c65e1c03b4aa3499c5328201f1"
  }
 },
 "nbformat": 4,
 "nbformat_minor": 5
}