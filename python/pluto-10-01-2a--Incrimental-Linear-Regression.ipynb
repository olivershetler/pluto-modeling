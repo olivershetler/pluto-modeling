{
 "cells": [
  {
   "cell_type": "code",
   "execution_count": 1,
   "source": [
    "import pandas as pd\n",
    "import numpy as np\n",
    "from sklearn.linear_model import LinearRegression\n",
    "from sklearn.model_selection import train_test_split\n",
    "from sklearn.feature_selection import SelectFromModel\n",
    "from sklearn.metrics import mean_absolute_error, mean_squared_error, r2_score\n",
    "import matplotlib.pyplot as plt\n",
    "\n",
    "import psycopg2\n",
    "import pandas.io.sql as sqlio\n",
    "import psycopg2.extras\n"
   ],
   "outputs": [],
   "metadata": {}
  },
  {
   "cell_type": "code",
   "execution_count": 2,
   "source": [
    "pluto = pd.read_csv('/home/oliver/data/pluto/pluto_sym.csv')"
   ],
   "outputs": [
    {
     "output_type": "stream",
     "name": "stderr",
     "text": [
      "/home/oliver/.local/lib/python3.9/site-packages/IPython/core/interactiveshell.py:3444: DtypeWarning: Columns (3) have mixed types.Specify dtype option on import or set low_memory=False.\n",
      "  exec(code_obj, self.user_global_ns, self.user_ns)\n"
     ]
    }
   ],
   "metadata": {}
  },
  {
   "cell_type": "code",
   "execution_count": 3,
   "source": [
    "    cov = [\n",
    "    'age'\n",
    "    ,'build_alter_gap'\n",
    "    ,'alterage'\n",
    "    ,'alterage_squared'   \n",
    "    ,'alterage_cubed'\n",
    "    ,'elevator'\n",
    "    ,'commercial'\n",
    "    ,'garage'\n",
    "    ,'storage'\n",
    "    ,'basement'\n",
    "    ,'waterfront'\n",
    "    ,'frontage'\n",
    "    ,'block_assmeblage'\n",
    "    ,'cooperative'\n",
    "    ,'conv_loft_wh'\n",
    "    ,'tenament'\n",
    "    ,'garden'\n",
    "    ,'semi_fireproof'\n",
    "    ,'fireproof'\n",
    "    ,'luxury'\n",
    "    ,'artist_res'\n",
    "    ,'units_per_building'\n",
    "    ,'floors'\n",
    "    ,'floors_squared'\n",
    "    ,'zip_avg_num_buildings'\n",
    "    ,'pcvpu_l1'\n",
    "    ,'pcvpu_l2'\n",
    "    ,'pcvpu_l3'\n",
    "    ,'avg_block_pcvpu_l1'\n",
    "    ,'avg_block_pcvpu_l2'\n",
    "    ,'avg_block_pcvpu_l3'\n",
    "    ,'avg_neighbor1_pcvpu_l1'\n",
    "    ,'avg_neighbor1_pcvpu_l2'\n",
    "    ,'avg_neighbor1_pcvpu_l3'\n",
    "    ,'avg_neighbor2_pcvpu_l1'\n",
    "    ,'avg_neighbor2_pcvpu_l2'\n",
    "    ,'avg_neighbor2_pcvpu_l3'\n",
    "    ,'avg_neighbor3_pcvpu_l1'\n",
    "    ,'avg_neighbor3_pcvpu_l2'\n",
    "    ,'avg_neighbor3_pcvpu_l3'\n",
    "    ,'avg_neighbor4_pcvpu_l1'\n",
    "    ,'avg_neighbor4_pcvpu_l2'\n",
    "    ,'avg_neighbor4_pcvpu_l3'\n",
    "    ,'avg_zip_pcvpu_l1'\n",
    "    ,'avg_zip_pcvpu_l2'\n",
    "    ,'avg_zip_pcvpu_l3'\n",
    "    ]"
   ],
   "outputs": [],
   "metadata": {}
  },
  {
   "cell_type": "code",
   "execution_count": 4,
   "source": [
    "# Function for creating dataframes from a SQL query\n",
    "def get_data(year_train, year_test, cov):\n",
    "    \"\"\"\n",
    "    Function to return data from a train and test SQL query\n",
    "    \"\"\"\n",
    "    global df_train, df_test, X_train, X_test, y_train, y_test, covariates\n",
    "\n",
    "    # List of columns to be used as covariates in the model\n",
    "\n",
    "    df_train = pluto[pluto['year']<=year_train].dropna()\n",
    "    df_test = pluto[pluto['year']==year_test].dropna()\n",
    "\n",
    "    X_train = df_train[cov]\n",
    "    y_train = df_train['pcvpu_target']\n",
    "\n",
    "    X_test = df_test[cov]\n",
    "    y_test = df_test['pcvpu_target']\n",
    "    return df_train, df_test, X_train, X_test, y_train, y_test"
   ],
   "outputs": [],
   "metadata": {}
  },
  {
   "cell_type": "code",
   "execution_count": 5,
   "source": [
    "reg = LinearRegression()"
   ],
   "outputs": [],
   "metadata": {}
  },
  {
   "cell_type": "code",
   "execution_count": 6,
   "source": [
    "# Set up empty lists to store the results of the model for each year\n",
    "\n",
    "MAEs = [] ## Mean Absolute Error, list of numbers (out of sample)\n",
    "MSEs = [] ## Mean Squared Error, list of numbers (out of sample)\n",
    "R2s = []  ## R2 score, list of numbers (out of sample)\n",
    "\n",
    "feature_importances = [] ## Feature importances, list of lists\n",
    "\n",
    "MAEs_in_sample = [] ## Mean Absolute Error, list of numbers (in sample)\n",
    "MSEs_in_sample = [] ## Mean Squared Error, list of numbers (in sample)\n",
    "R2s_in_sample = []  ## R2 score, list of numbers (in sample)\n",
    "\n",
    "\n",
    "def update_reports():\n",
    "    \"\"\"\n",
    "    Function to update the reports for each year\n",
    "    \"\"\"\n",
    "    print('Updating Out of Sample Reports')\n",
    "\n",
    "    MSEs.append(mean_squared_error(y_test, y_pred))\n",
    "    MAEs.append(mean_absolute_error(y_test, y_pred))\n",
    "    R2s.append(r2_score(y_test, y_pred))\n",
    "    print('MSE: {}'.format(MSEs[-1]))\n",
    "    print('MAE: {}'.format(MAEs[-1]))\n",
    "    print('R2: {}'.format(R2s[-1]))\n",
    "\n",
    "    print('Updating In Sample Reports')\n",
    "\n",
    "    MSEs_in_sample.append(mean_squared_error(y_train, y_pred_in_sample))\n",
    "    MAEs_in_sample.append(mean_absolute_error(y_train, y_pred_in_sample))\n",
    "    R2s_in_sample.append(r2_score(y_train, y_pred_in_sample))\n",
    "    print('MSE: {}'.format(MSEs_in_sample[-1]))\n",
    "    print('MAE: {}'.format(MAEs_in_sample[-1]))\n",
    "    print('R2: {}'.format(R2s_in_sample[-1]))\n",
    "\n"
   ],
   "outputs": [],
   "metadata": {}
  },
  {
   "cell_type": "code",
   "execution_count": 7,
   "source": [
    "# get data from 2008 and 2009\n",
    "df_train, df_test, X_train, X_test, y_train, y_test = get_data(2008, 2009, cov)\n"
   ],
   "outputs": [],
   "metadata": {}
  },
  {
   "cell_type": "code",
   "execution_count": 8,
   "source": [
    "# fit the model for 2008 and 2009\n",
    "reg.fit(X_train, y_train)"
   ],
   "outputs": [
    {
     "output_type": "execute_result",
     "data": {
      "text/plain": [
       "LinearRegression()"
      ]
     },
     "metadata": {},
     "execution_count": 8
    }
   ],
   "metadata": {}
  },
  {
   "cell_type": "code",
   "execution_count": 9,
   "source": [
    "# Make in and out of sample predictions\n",
    "y_pred = reg.predict(X_test)\n",
    "y_pred_in_sample = reg.predict(X_train)"
   ],
   "outputs": [],
   "metadata": {}
  },
  {
   "cell_type": "code",
   "execution_count": 10,
   "source": [
    "# update all the report series\n",
    "update_reports()"
   ],
   "outputs": [
    {
     "output_type": "stream",
     "name": "stdout",
     "text": [
      "Updating Out of Sample Reports\n",
      "MSE: 322.12951099473935\n",
      "MAE: 6.770375218212331\n",
      "R2: -0.0023569288262330623\n",
      "Updating In Sample Reports\n",
      "MSE: 412.949279102006\n",
      "MAE: 7.453972111210664\n",
      "R2: 0.14015867597920184\n"
     ]
    }
   ],
   "metadata": {}
  },
  {
   "cell_type": "code",
   "execution_count": 11,
   "source": [
    "# get data for the next year\n",
    "df_train, df_test, X_train, X_test, y_train, y_test = get_data(2009, 2010, cov)"
   ],
   "outputs": [],
   "metadata": {}
  },
  {
   "cell_type": "code",
   "execution_count": 12,
   "source": [
    "# expand the number of trees and then fit to the next year\n",
    "\n",
    "reg.fit(X_train,y_train)"
   ],
   "outputs": [
    {
     "output_type": "execute_result",
     "data": {
      "text/plain": [
       "LinearRegression()"
      ]
     },
     "metadata": {},
     "execution_count": 12
    }
   ],
   "metadata": {}
  },
  {
   "cell_type": "code",
   "execution_count": 13,
   "source": [
    "y_pred = reg.predict(X_test)\n",
    "y_pred_in_sample = reg.predict(X_train)"
   ],
   "outputs": [],
   "metadata": {}
  },
  {
   "cell_type": "code",
   "execution_count": 14,
   "source": [
    "# update all the report series\n",
    "update_reports()"
   ],
   "outputs": [
    {
     "output_type": "stream",
     "name": "stdout",
     "text": [
      "Updating Out of Sample Reports\n",
      "MSE: 225.0075817117932\n",
      "MAE: 6.702885149294335\n",
      "R2: -0.11985325974924788\n",
      "Updating In Sample Reports\n",
      "MSE: 360.583157340509\n",
      "MAE: 6.879069087190322\n",
      "R2: 0.09938566958955075\n"
     ]
    }
   ],
   "metadata": {}
  },
  {
   "cell_type": "code",
   "execution_count": 15,
   "source": [
    "# get data for the next year\n",
    "df_train, df_test, X_train, X_test, y_train, y_test = get_data(2010, 2011, cov)"
   ],
   "outputs": [],
   "metadata": {}
  },
  {
   "cell_type": "code",
   "execution_count": 16,
   "source": [
    "# expand the number of trees and then fit to the next year\n",
    "\n",
    "reg.fit(X_train,y_train)"
   ],
   "outputs": [
    {
     "output_type": "execute_result",
     "data": {
      "text/plain": [
       "LinearRegression()"
      ]
     },
     "metadata": {},
     "execution_count": 16
    }
   ],
   "metadata": {}
  },
  {
   "cell_type": "code",
   "execution_count": 17,
   "source": [
    "y_pred = reg.predict(X_test)\n",
    "y_pred_in_sample = reg.predict(X_train)"
   ],
   "outputs": [],
   "metadata": {}
  },
  {
   "cell_type": "code",
   "execution_count": 18,
   "source": [
    "# update all the report series\n",
    "update_reports()"
   ],
   "outputs": [
    {
     "output_type": "stream",
     "name": "stdout",
     "text": [
      "Updating Out of Sample Reports\n",
      "MSE: 48.39980544227517\n",
      "MAE: 4.084137885274899\n",
      "R2: -0.6691068223509133\n",
      "Updating In Sample Reports\n",
      "MSE: 310.7730787023011\n",
      "MAE: 6.663046547802739\n",
      "R2: 0.06529397293962458\n"
     ]
    }
   ],
   "metadata": {}
  },
  {
   "cell_type": "code",
   "execution_count": 19,
   "source": [
    "# get data for the next year\n",
    "df_train, df_test, X_train, X_test, y_train, y_test = get_data(2011, 2012, cov)"
   ],
   "outputs": [],
   "metadata": {}
  },
  {
   "cell_type": "code",
   "execution_count": 20,
   "source": [
    "# expand the number of trees and then fit to the next year\n",
    "\n",
    "reg.fit(X_train,y_train)"
   ],
   "outputs": [
    {
     "output_type": "execute_result",
     "data": {
      "text/plain": [
       "LinearRegression()"
      ]
     },
     "metadata": {},
     "execution_count": 20
    }
   ],
   "metadata": {}
  },
  {
   "cell_type": "code",
   "execution_count": 21,
   "source": [
    "y_pred = reg.predict(X_test)\n",
    "y_pred_in_sample = reg.predict(X_train)"
   ],
   "outputs": [],
   "metadata": {}
  },
  {
   "cell_type": "code",
   "execution_count": 22,
   "source": [
    "# update all the report series\n",
    "update_reports()"
   ],
   "outputs": [
    {
     "output_type": "stream",
     "name": "stdout",
     "text": [
      "Updating Out of Sample Reports\n",
      "MSE: 140.7663773469857\n",
      "MAE: 5.2837176410675655\n",
      "R2: -0.04310855494635324\n",
      "Updating In Sample Reports\n",
      "MSE: 242.35348164215236\n",
      "MAE: 5.817394517297359\n",
      "R2: 0.05031743027701485\n"
     ]
    }
   ],
   "metadata": {}
  },
  {
   "cell_type": "code",
   "execution_count": 23,
   "source": [
    "# get data for the next year\n",
    "df_train, df_test, X_train, X_test, y_train, y_test = get_data(2012, 2013, cov)"
   ],
   "outputs": [],
   "metadata": {}
  },
  {
   "cell_type": "code",
   "execution_count": 24,
   "source": [
    "# expand the number of trees and then fit to the next year\n",
    "\n",
    "reg.fit(X_train,y_train)"
   ],
   "outputs": [
    {
     "output_type": "execute_result",
     "data": {
      "text/plain": [
       "LinearRegression()"
      ]
     },
     "metadata": {},
     "execution_count": 24
    }
   ],
   "metadata": {}
  },
  {
   "cell_type": "code",
   "execution_count": 25,
   "source": [
    "y_pred = reg.predict(X_test)\n",
    "y_pred_in_sample = reg.predict(X_train)"
   ],
   "outputs": [],
   "metadata": {}
  },
  {
   "cell_type": "code",
   "execution_count": 26,
   "source": [
    "# update all the report series\n",
    "update_reports()"
   ],
   "outputs": [
    {
     "output_type": "stream",
     "name": "stdout",
     "text": [
      "Updating Out of Sample Reports\n",
      "MSE: 139.96036173944924\n",
      "MAE: 5.276154986579049\n",
      "R2: -0.035493858973144166\n",
      "Updating In Sample Reports\n",
      "MSE: 220.84481146916158\n",
      "MAE: 5.653952108889431\n",
      "R2: 0.04676479410964207\n"
     ]
    }
   ],
   "metadata": {}
  },
  {
   "cell_type": "code",
   "execution_count": 27,
   "source": [
    "# get data for the next year\n",
    "df_train, df_test, X_train, X_test, y_train, y_test = get_data(2013, 2014, cov)\n",
    "# expand the number of trees and then fit to the next year\n",
    "\n",
    "reg.fit(X_train,y_train)\n",
    "# make predictions for the next year\n",
    "y_pred = reg.predict(X_test)\n",
    "y_pred_in_sample = reg.predict(X_train)\n",
    "# update all the report series\n",
    "update_reports()"
   ],
   "outputs": [
    {
     "output_type": "stream",
     "name": "stdout",
     "text": [
      "Updating Out of Sample Reports\n",
      "MSE: 108.93157975055922\n",
      "MAE: 4.55310374584055\n",
      "R2: -0.060092914319157975\n",
      "Updating In Sample Reports\n",
      "MSE: 206.63540761135562\n",
      "MAE: 5.544923651849059\n",
      "R2: 0.04140566176741234\n"
     ]
    }
   ],
   "metadata": {}
  },
  {
   "cell_type": "code",
   "execution_count": 28,
   "source": [
    "# get data for the next year\n",
    "df_train, df_test, X_train, X_test, y_train, y_test = get_data(2014, 2015, cov)\n",
    "# expand the number of trees and then fit to the next year\n",
    "\n",
    "reg.fit(X_train,y_train)\n",
    "# make predictions for the next year\n",
    "y_pred = reg.predict(X_test)\n",
    "y_pred_in_sample = reg.predict(X_train)\n",
    "# update all the report series\n",
    "update_reports()"
   ],
   "outputs": [
    {
     "output_type": "stream",
     "name": "stdout",
     "text": [
      "Updating Out of Sample Reports\n",
      "MSE: 132.13007395820577\n",
      "MAE: 5.165045477410839\n",
      "R2: -0.03125797443023415\n",
      "Updating In Sample Reports\n",
      "MSE: 192.01109684459692\n",
      "MAE: 5.368056470513808\n",
      "R2: 0.03816154058266241\n"
     ]
    }
   ],
   "metadata": {}
  },
  {
   "cell_type": "code",
   "execution_count": 29,
   "source": [
    "# get data for the next year\n",
    "df_train, df_test, X_train, X_test, y_train, y_test = get_data(2015, 2016, cov)\n",
    "# expand the number of trees and then fit to the next year\n",
    "\n",
    "reg.fit(X_train,y_train)\n",
    "# make predictions for the next year\n",
    "y_pred = reg.predict(X_test)\n",
    "y_pred_in_sample = reg.predict(X_train)\n",
    "# update all the report series\n",
    "update_reports()"
   ],
   "outputs": [
    {
     "output_type": "stream",
     "name": "stdout",
     "text": [
      "Updating Out of Sample Reports\n",
      "MSE: 96.74477975412837\n",
      "MAE: 4.219697301293563\n",
      "R2: -0.03383641707380103\n",
      "Updating In Sample Reports\n",
      "MSE: 184.17157648913812\n",
      "MAE: 5.324330810321577\n",
      "R2: 0.03373631155765899\n"
     ]
    }
   ],
   "metadata": {}
  },
  {
   "cell_type": "code",
   "execution_count": 30,
   "source": [
    "# get data for the next year\n",
    "df_train, df_test, X_train, X_test, y_train, y_test = get_data(2016, 2017, cov)\n",
    "# expand the number of trees and then fit to the next year\n",
    "\n",
    "reg.fit(X_train,y_train)\n",
    "# make predictions for the next year\n",
    "y_pred = reg.predict(X_test)\n",
    "y_pred_in_sample = reg.predict(X_train)\n",
    "# update all the report series\n",
    "update_reports()"
   ],
   "outputs": [
    {
     "output_type": "stream",
     "name": "stdout",
     "text": [
      "Updating Out of Sample Reports\n",
      "MSE: 113.15563245571002\n",
      "MAE: 4.130648783347341\n",
      "R2: -0.014617882470767674\n",
      "Updating In Sample Reports\n",
      "MSE: 174.09288587182724\n",
      "MAE: 5.183444422143708\n",
      "R2: 0.031394876168473806\n"
     ]
    }
   ],
   "metadata": {}
  },
  {
   "cell_type": "code",
   "execution_count": 31,
   "source": [
    "# get data for the next year\n",
    "df_train, df_test, X_train, X_test, y_train, y_test = get_data(2017, 2018, cov)\n",
    "# expand the number of trees and then fit to the next year\n",
    "\n",
    "reg.fit(X_train,y_train)\n",
    "# make predictions for the next year\n",
    "y_pred = reg.predict(X_test)\n",
    "y_pred_in_sample = reg.predict(X_train)\n",
    "# update all the report series\n",
    "update_reports()"
   ],
   "outputs": [
    {
     "output_type": "stream",
     "name": "stdout",
     "text": [
      "Updating Out of Sample Reports\n",
      "MSE: 8853.503864337361\n",
      "MAE: 75.53025435152796\n",
      "R2: -0.008837989370583221\n",
      "Updating In Sample Reports\n",
      "MSE: 167.7860703321332\n",
      "MAE: 5.0649531581896055\n",
      "R2: 0.02958332058535329\n"
     ]
    }
   ],
   "metadata": {}
  },
  {
   "cell_type": "code",
   "execution_count": 32,
   "source": [
    "# get data for the next year\n",
    "df_train, df_test, X_train, X_test, y_train, y_test = get_data(2018, 2019, cov)\n",
    "# expand the number of trees and then fit to the next year\n",
    "\n",
    "reg.fit(X_train,y_train)\n",
    "# make predictions for the next year\n",
    "y_pred = reg.predict(X_test)\n",
    "y_pred_in_sample = reg.predict(X_train)\n",
    "# update all the report series\n",
    "update_reports()"
   ],
   "outputs": [
    {
     "output_type": "stream",
     "name": "stdout",
     "text": [
      "Updating Out of Sample Reports\n",
      "MSE: 31193.787149076434\n",
      "MAE: 11.975700316192583\n",
      "R2: -163.44927862588312\n",
      "Updating In Sample Reports\n",
      "MSE: 921.0395900380605\n",
      "MAE: 12.887928421865825\n",
      "R2: 0.04054826299379566\n"
     ]
    }
   ],
   "metadata": {}
  },
  {
   "cell_type": "code",
   "execution_count": 33,
   "source": [
    "# get data for the next year\n",
    "df_train, df_test, X_train, X_test, y_train, y_test = get_data(2019, 2020, cov)\n",
    "# expand the number of trees and then fit to the next year\n",
    "\n",
    "reg.fit(X_train,y_train)\n",
    "# make predictions for the next year\n",
    "y_pred = reg.predict(X_test)\n",
    "y_pred_in_sample = reg.predict(X_train)\n",
    "# update all the report series\n",
    "update_reports()"
   ],
   "outputs": [
    {
     "output_type": "stream",
     "name": "stdout",
     "text": [
      "Updating Out of Sample Reports\n",
      "MSE: 334.8779885839387\n",
      "MAE: 13.768713770479243\n",
      "R2: -1.1135443061993366\n",
      "Updating In Sample Reports\n",
      "MSE: 863.4520427270543\n",
      "MAE: 12.435671832719665\n",
      "R2: 0.03736867418525747\n"
     ]
    }
   ],
   "metadata": {}
  },
  {
   "cell_type": "code",
   "execution_count": 34,
   "source": [
    "years = [2009, 2010, 2011, 2012, 2013, 2014, 2015, 2016, 2017, 2018, 2019, 2020]\n",
    "years_in_sample = [2008, 2009, 2010, 2011, 2012, 2013, 2014, 2015, 2016, 2017, 2018, 2019]\n",
    "plt.plot(years, R2s, label='Out of Sample')\n",
    "plt.plot(years_in_sample, R2s_in_sample, label='In Sample')\n",
    "plt.legend()\n",
    "plt.xlabel('Year')\n",
    "plt.ylabel('R2 Score')\n",
    "plt.title('R2 Scores by Year')\n"
   ],
   "outputs": [
    {
     "output_type": "execute_result",
     "data": {
      "text/plain": [
       "Text(0.5, 1.0, 'R2 Scores by Year')"
      ]
     },
     "metadata": {},
     "execution_count": 34
    },
    {
     "output_type": "display_data",
     "data": {
      "image/png": "[encoded data removed]",
      "text/plain": [
       "<Figure size 432x288 with 1 Axes>"
      ]
     },
     "metadata": {
      "needs_background": "light"
     }
    }
   ],
   "metadata": {}
  },
  {
   "cell_type": "code",
   "execution_count": 35,
   "source": [
    "plt.plot(years, MSEs, label='Out of Sample')\n",
    "plt.plot(years_in_sample, MSEs_in_sample, label='In Sample')\n",
    "plt.legend()\n",
    "plt.xlabel('Year')\n",
    "plt.ylabel('MSE')\n",
    "plt.title('Mean Squared Error by Year')"
   ],
   "outputs": [
    {
     "output_type": "execute_result",
     "data": {
      "text/plain": [
       "Text(0.5, 1.0, 'Mean Squared Error by Year')"
      ]
     },
     "metadata": {},
     "execution_count": 35
    },
    {
     "output_type": "display_data",
     "data": {
      "image/png": "[encoded data removed]",
      "text/plain": [
       "<Figure size 432x288 with 1 Axes>"
      ]
     },
     "metadata": {
      "needs_background": "light"
     }
    }
   ],
   "metadata": {}
  }
 ],
 "metadata": {
  "kernelspec": {
   "name": "python3",
   "display_name": "Python 3.9.7 64-bit"
  },
  "language_info": {
   "codemirror_mode": {
    "name": "ipython",
    "version": 3
   },
   "file_extension": ".py",
   "mimetype": "text/x-python",
   "name": "python",
   "nbconvert_exporter": "python",
   "pygments_lexer": "ipython3",
   "version": "3.9.7"
  },
  "interpreter": {
   "hash": "916dbcbb3f70747c44a77c7bcd40155683ae19c65e1c03b4aa3499c5328201f1"
  }
 },
 "nbformat": 4,
 "nbformat_minor": 5
}