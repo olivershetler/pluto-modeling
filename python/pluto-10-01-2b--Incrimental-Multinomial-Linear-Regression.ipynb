{
 "cells": [
  {
   "cell_type": "code",
   "execution_count": 12,
   "source": [
    "import pandas as pd\n",
    "import numpy as np\n",
    "from sklearn.linear_model import LogisticRegression\n",
    "from sklearn.metrics import accuracy_score, confusion_matrix, classification_report, mean_absolute_error, mean_squared_error, r2_score\n",
    "from sklearn.metrics import precision_recall_fscore_support as scores\n",
    "import matplotlib.pyplot as plt\n",
    "\n",
    "import pandas as pd\n",
    "import numpy as np\n",
    "\n"
   ],
   "outputs": [],
   "metadata": {}
  },
  {
   "cell_type": "code",
   "execution_count": 13,
   "source": [
    "pluto = pd.read_csv('/home/oliver/data/pluto/pluto_disc.csv')"
   ],
   "outputs": [
    {
     "output_type": "stream",
     "name": "stderr",
     "text": [
      "/home/oliver/.local/lib/python3.9/site-packages/IPython/core/interactiveshell.py:3444: DtypeWarning: Columns (3) have mixed types.Specify dtype option on import or set low_memory=False.\n",
      "  exec(code_obj, self.user_global_ns, self.user_ns)\n"
     ]
    }
   ],
   "metadata": {}
  },
  {
   "cell_type": "code",
   "execution_count": 14,
   "source": [
    "    cov = [\n",
    "    'age'\n",
    "    ,'build_alter_gap'\n",
    "    ,'alterage'\n",
    "    ,'alterage_squared'   \n",
    "    ,'alterage_cubed'\n",
    "    ,'elevator'\n",
    "    ,'commercial'\n",
    "    ,'garage'\n",
    "    ,'storage'\n",
    "    ,'basement'\n",
    "    ,'waterfront'\n",
    "    ,'frontage'\n",
    "    ,'block_assmeblage'\n",
    "    ,'cooperative'\n",
    "    ,'conv_loft_wh'\n",
    "    ,'tenament'\n",
    "    ,'garden'\n",
    "    ,'semi_fireproof'\n",
    "    ,'fireproof'\n",
    "    ,'luxury'\n",
    "    ,'artist_res'\n",
    "    ,'units_per_building'\n",
    "    ,'floors'\n",
    "    ,'floors_squared'\n",
    "    ,'zip_avg_num_buildings'\n",
    "    ,'pcvpu_l1'\n",
    "    ,'pcvpu_l2'\n",
    "    ,'pcvpu_l3'\n",
    "    ,'avg_block_pcvpu_l1'\n",
    "    ,'avg_block_pcvpu_l2'\n",
    "    ,'avg_block_pcvpu_l3'\n",
    "    ,'avg_neighbor1_pcvpu_l1'\n",
    "    ,'avg_neighbor1_pcvpu_l2'\n",
    "    ,'avg_neighbor1_pcvpu_l3'\n",
    "    ,'avg_neighbor2_pcvpu_l1'\n",
    "    ,'avg_neighbor2_pcvpu_l2'\n",
    "    ,'avg_neighbor2_pcvpu_l3'\n",
    "    ,'avg_neighbor3_pcvpu_l1'\n",
    "    ,'avg_neighbor3_pcvpu_l2'\n",
    "    ,'avg_neighbor3_pcvpu_l3'\n",
    "    ,'avg_neighbor4_pcvpu_l1'\n",
    "    ,'avg_neighbor4_pcvpu_l2'\n",
    "    ,'avg_neighbor4_pcvpu_l3'\n",
    "    ,'avg_zip_pcvpu_l1'\n",
    "    ,'avg_zip_pcvpu_l2'\n",
    "    ,'avg_zip_pcvpu_l3'\n",
    "    ]"
   ],
   "outputs": [],
   "metadata": {}
  },
  {
   "cell_type": "code",
   "execution_count": 15,
   "source": [
    "# Function for creating dataframes from a SQL query\n",
    "def get_data(year_train, year_test, cov):\n",
    "    \"\"\"\n",
    "    Function to return data from a train and test SQL query\n",
    "    \"\"\"\n",
    "    global df_train, df_test, X_train, X_test, y_train, y_test, covariates\n",
    "\n",
    "    # List of columns to be used as covariates in the model\n",
    "\n",
    "    df_train = pluto[pluto['year']<=year_train].dropna()\n",
    "    df_test = pluto[pluto['year']==year_test].dropna()\n",
    "\n",
    "    X_train = df_train[cov]\n",
    "    y_train = df_train['pcvpu_target']\n",
    "\n",
    "    X_test = df_test[cov]\n",
    "    y_test = df_test['pcvpu_target']\n",
    "    return df_train, df_test, X_train, X_test, y_train, y_test"
   ],
   "outputs": [],
   "metadata": {}
  },
  {
   "cell_type": "code",
   "execution_count": 16,
   "source": [
    "# Create a random forest classifier object\n",
    "# warm_start = True allows the model to be trained on new data without having to retrain the entire model\n",
    "lr = LogisticRegression(multi_class='multinomial', solver='newton-cg')"
   ],
   "outputs": [],
   "metadata": {}
  },
  {
   "cell_type": "code",
   "execution_count": 17,
   "source": [
    "# Set up empty lists to store the results of the model for each year\n",
    "\n",
    "MAEs = [] ## Mean Absolute Error, list of numbers (out of sample)\n",
    "R2s = []  ## R2 score, list of numbers (out of sample)\n",
    "accuracies = [] ## Accuracy, list of numbers (out of sample)\n",
    "precisions = [] ## Precision scores for each class, list of lists (out of sample)\n",
    "recalls = [] ## Recall scores for each class, list of lists (out of sample)\n",
    "f1scores = [] ## F1 score for each class, list of lists (out of sample)\n",
    "supports = [] ## Support scores for each class, list of lists (out of sample)\n",
    "\n",
    "feature_importances = [] ## Feature importances, list of lists\n",
    "\n",
    "MAEs_in_sample = [] ## Mean Absolute Error, list of numbers (in sample)\n",
    "R2s_in_sample = []  ## R2 score, list of numbers (in sample)\n",
    "accuracies_in_sample = [] ## Accuracy, list of numbers (in sample)\n",
    "precisions_in_sample = [] ## Precision scores for each class, list of lists (in sample)\n",
    "recalls_in_sample = [] ## Recall scores for each class, list of lists (in sample)\n",
    "f1scores_in_sample = [] ## F1 score for each class, list of lists (in sample)\n",
    "supports_in_sample = [] ## Support scores for each class, list of lists (in sample)\n",
    "\n",
    "def update_reports():\n",
    "    \"\"\"\n",
    "    Function to update the reports for each year\n",
    "    \"\"\"\n",
    "    print('Updating Out of Sample Reports')\n",
    "    print(classification_report(y_test, y_pred))\n",
    "    precision, recall, f1score, support = scores(y_test, y_pred)\n",
    "    precisions.append(precision)\n",
    "    recalls.append(recall)\n",
    "    f1scores.append(f1score)\n",
    "    supports.append(support)\n",
    "    accuracies.append(accuracy_score(y_test, y_pred))\n",
    "    MAEs.append(mean_absolute_error(y_test, y_pred))\n",
    "    R2s.append(r2_score(y_test, y_pred))\n",
    "\n",
    "    print('Updating In Sample Reports')\n",
    "    print(classification_report(y_train, y_pred_in_sample))\n",
    "    precision_in_sample, recall_in_sample ,f1score_in_sample, support_in_sample = scores(y_train, y_pred_in_sample)\n",
    "    precisions_in_sample.append(precision_in_sample)\n",
    "    recalls_in_sample.append(recall_in_sample)\n",
    "    f1scores_in_sample.append(f1score_in_sample)\n",
    "    supports_in_sample.append(support_in_sample)\n",
    "    accuracies_in_sample.append(accuracy_score(y_train, y_pred_in_sample))\n",
    "    MAEs_in_sample.append(mean_absolute_error(y_train, y_pred_in_sample))\n",
    "    R2s_in_sample.append(r2_score(y_train, y_pred_in_sample))"
   ],
   "outputs": [],
   "metadata": {}
  },
  {
   "cell_type": "code",
   "execution_count": 18,
   "source": [
    "# get data from 2008 and 2009\n",
    "df_train, df_test, X_train, X_test, y_train, y_test = get_data(2008, 2009, cov)\n"
   ],
   "outputs": [],
   "metadata": {}
  },
  {
   "cell_type": "code",
   "execution_count": 19,
   "source": [
    "# fit the model for 2008 and 2009\n",
    "lr.fit(X_train,y_train)"
   ],
   "outputs": [
    {
     "output_type": "stream",
     "name": "stderr",
     "text": [
      "/home/oliver/.local/lib/python3.9/site-packages/scipy/optimize/linesearch.py:478: LineSearchWarning: The line search algorithm did not converge\n",
      "  warn('The line search algorithm did not converge', LineSearchWarning)\n",
      "/home/oliver/.local/lib/python3.9/site-packages/scipy/optimize/linesearch.py:327: LineSearchWarning: The line search algorithm did not converge\n",
      "  warn('The line search algorithm did not converge', LineSearchWarning)\n",
      "/home/oliver/.local/lib/python3.9/site-packages/sklearn/utils/optimize.py:210: ConvergenceWarning: newton-cg failed to converge. Increase the number of iterations.\n",
      "  warnings.warn(\n"
     ]
    },
    {
     "output_type": "execute_result",
     "data": {
      "text/plain": [
       "LogisticRegression(multi_class='multinomial', solver='newton-cg')"
      ]
     },
     "metadata": {},
     "execution_count": 19
    }
   ],
   "metadata": {}
  },
  {
   "cell_type": "code",
   "execution_count": 20,
   "source": [
    "# Make in and out of sample predictions\n",
    "y_pred = lr.predict(X_test)\n",
    "y_pred_in_sample = lr.predict(X_train)"
   ],
   "outputs": [],
   "metadata": {}
  },
  {
   "cell_type": "code",
   "execution_count": 21,
   "source": [
    "# update all the report series\n",
    "update_reports()"
   ],
   "outputs": [
    {
     "output_type": "stream",
     "name": "stdout",
     "text": [
      "Updating Out of Sample Reports\n",
      "              precision    recall  f1-score   support\n",
      "\n",
      "           0       0.58      0.20      0.30     19654\n",
      "           1       0.29      0.10      0.15     56098\n",
      "           2       0.51      0.94      0.66     63793\n",
      "           3       0.21      0.02      0.03      5531\n",
      "\n",
      "    accuracy                           0.48    145076\n",
      "   macro avg       0.40      0.32      0.29    145076\n",
      "weighted avg       0.42      0.48      0.39    145076\n",
      "\n",
      "Updating In Sample Reports\n",
      "              precision    recall  f1-score   support\n",
      "\n",
      "           0       0.55      0.44      0.49     16031\n",
      "           1       0.35      0.10      0.16     45689\n",
      "           2       0.61      0.94      0.74     75018\n",
      "           3       0.33      0.05      0.09      6601\n",
      "\n",
      "    accuracy                           0.58    143339\n",
      "   macro avg       0.46      0.38      0.37    143339\n",
      "weighted avg       0.51      0.58      0.50    143339\n",
      "\n"
     ]
    }
   ],
   "metadata": {}
  },
  {
   "cell_type": "code",
   "execution_count": 22,
   "source": [
    "# get data for the next year\n",
    "df_train, df_test, X_train, X_test, y_train, y_test = get_data(2009, 2010, cov)"
   ],
   "outputs": [],
   "metadata": {}
  },
  {
   "cell_type": "code",
   "execution_count": 24,
   "source": [
    "# expand the number of trees and then fit to the next year\n",
    "\n",
    "lr.fit(X_train,y_train)"
   ],
   "outputs": [
    {
     "output_type": "stream",
     "name": "stderr",
     "text": [
      "/home/oliver/.local/lib/python3.9/site-packages/sklearn/utils/optimize.py:210: ConvergenceWarning: newton-cg failed to converge. Increase the number of iterations.\n",
      "  warnings.warn(\n"
     ]
    },
    {
     "output_type": "execute_result",
     "data": {
      "text/plain": [
       "LogisticRegression(multi_class='multinomial', solver='newton-cg')"
      ]
     },
     "metadata": {},
     "execution_count": 24
    }
   ],
   "metadata": {}
  },
  {
   "cell_type": "code",
   "execution_count": 25,
   "source": [
    "y_pred = lr.predict(X_test)\n",
    "y_pred_in_sample = lr.predict(X_train)"
   ],
   "outputs": [],
   "metadata": {}
  },
  {
   "cell_type": "code",
   "execution_count": 26,
   "source": [
    "# update all the report series\n",
    "update_reports()"
   ],
   "outputs": [
    {
     "output_type": "stream",
     "name": "stdout",
     "text": [
      "Updating Out of Sample Reports\n",
      "              precision    recall  f1-score   support\n",
      "\n",
      "           0       0.21      0.15      0.17     14026\n",
      "           1       0.30      0.09      0.14     65196\n",
      "           2       0.41      0.87      0.56     56957\n",
      "           3       0.42      0.02      0.04     12673\n",
      "\n",
      "    accuracy                           0.39    148852\n",
      "   macro avg       0.34      0.28      0.23    148852\n",
      "weighted avg       0.35      0.39      0.29    148852\n",
      "\n",
      "Updating In Sample Reports\n",
      "              precision    recall  f1-score   support\n",
      "\n",
      "           0       0.54      0.41      0.47     35685\n",
      "           1       0.33      0.10      0.15    101787\n",
      "           2       0.57      0.94      0.71    138811\n",
      "           3       0.30      0.03      0.05     12132\n",
      "\n",
      "    accuracy                           0.54    288415\n",
      "   macro avg       0.44      0.37      0.35    288415\n",
      "weighted avg       0.47      0.54      0.46    288415\n",
      "\n"
     ]
    }
   ],
   "metadata": {}
  },
  {
   "cell_type": "code",
   "execution_count": 27,
   "source": [
    "# get data for the next year\n",
    "df_train, df_test, X_train, X_test, y_train, y_test = get_data(2010, 2011, cov)"
   ],
   "outputs": [],
   "metadata": {}
  },
  {
   "cell_type": "code",
   "execution_count": 28,
   "source": [
    "# expand the number of trees and then fit to the next year\n",
    "\n",
    "lr.fit(X_train,y_train)"
   ],
   "outputs": [
    {
     "output_type": "stream",
     "name": "stderr",
     "text": [
      "/home/oliver/.local/lib/python3.9/site-packages/sklearn/utils/optimize.py:210: ConvergenceWarning: newton-cg failed to converge. Increase the number of iterations.\n",
      "  warnings.warn(\n"
     ]
    },
    {
     "output_type": "execute_result",
     "data": {
      "text/plain": [
       "LogisticRegression(multi_class='multinomial', solver='newton-cg')"
      ]
     },
     "metadata": {},
     "execution_count": 28
    }
   ],
   "metadata": {}
  },
  {
   "cell_type": "code",
   "execution_count": 29,
   "source": [
    "y_pred = lr.predict(X_test)\n",
    "y_pred_in_sample = lr.predict(X_train)"
   ],
   "outputs": [],
   "metadata": {}
  },
  {
   "cell_type": "code",
   "execution_count": 30,
   "source": [
    "# update all the report series\n",
    "update_reports()"
   ],
   "outputs": [
    {
     "output_type": "stream",
     "name": "stdout",
     "text": [
      "Updating Out of Sample Reports\n",
      "              precision    recall  f1-score   support\n",
      "\n",
      "           0       0.25      0.13      0.17     15426\n",
      "           1       0.71      0.10      0.18    128361\n",
      "           2       0.01      0.35      0.02      3039\n",
      "           3       0.11      0.09      0.10      3339\n",
      "\n",
      "    accuracy                           0.11    150165\n",
      "   macro avg       0.27      0.17      0.11    150165\n",
      "weighted avg       0.64      0.11      0.17    150165\n",
      "\n",
      "Updating In Sample Reports\n",
      "              precision    recall  f1-score   support\n",
      "\n",
      "           0       0.45      0.33      0.38     49711\n",
      "           1       0.52      0.21      0.30    166983\n",
      "           2       0.54      0.90      0.67    195768\n",
      "           3       0.37      0.09      0.14     24805\n",
      "\n",
      "    accuracy                           0.52    437267\n",
      "   macro avg       0.47      0.38      0.37    437267\n",
      "weighted avg       0.51      0.52      0.47    437267\n",
      "\n"
     ]
    }
   ],
   "metadata": {}
  },
  {
   "cell_type": "code",
   "execution_count": 31,
   "source": [
    "# get data for the next year\n",
    "df_train, df_test, X_train, X_test, y_train, y_test = get_data(2011, 2012, cov)"
   ],
   "outputs": [],
   "metadata": {}
  },
  {
   "cell_type": "code",
   "execution_count": 32,
   "source": [
    "# expand the number of trees and then fit to the next year\n",
    "\n",
    "lr.fit(X_train,y_train)"
   ],
   "outputs": [
    {
     "output_type": "stream",
     "name": "stderr",
     "text": [
      "/home/oliver/.local/lib/python3.9/site-packages/sklearn/utils/optimize.py:210: ConvergenceWarning: newton-cg failed to converge. Increase the number of iterations.\n",
      "  warnings.warn(\n"
     ]
    },
    {
     "output_type": "execute_result",
     "data": {
      "text/plain": [
       "LogisticRegression(multi_class='multinomial', solver='newton-cg')"
      ]
     },
     "metadata": {},
     "execution_count": 32
    }
   ],
   "metadata": {}
  },
  {
   "cell_type": "code",
   "execution_count": 33,
   "source": [
    "y_pred = lr.predict(X_test)\n",
    "y_pred_in_sample = lr.predict(X_train)"
   ],
   "outputs": [],
   "metadata": {}
  },
  {
   "cell_type": "code",
   "execution_count": 34,
   "source": [
    "# update all the report series\n",
    "update_reports()"
   ],
   "outputs": [
    {
     "output_type": "stream",
     "name": "stdout",
     "text": [
      "Updating Out of Sample Reports\n",
      "              precision    recall  f1-score   support\n",
      "\n",
      "           0       0.19      0.09      0.12     11697\n",
      "           1       0.34      0.95      0.50     51325\n",
      "           2       0.40      0.01      0.03     77885\n",
      "           3       0.36      0.03      0.05     10654\n",
      "\n",
      "    accuracy                           0.34    151561\n",
      "   macro avg       0.32      0.27      0.17    151561\n",
      "weighted avg       0.36      0.34      0.20    151561\n",
      "\n",
      "Updating In Sample Reports\n",
      "              precision    recall  f1-score   support\n",
      "\n",
      "           0       0.42      0.23      0.30     65137\n",
      "           1       0.54      0.90      0.68    295344\n",
      "           2       0.51      0.14      0.22    198807\n",
      "           3       0.30      0.04      0.07     28144\n",
      "\n",
      "    accuracy                           0.53    587432\n",
      "   macro avg       0.44      0.33      0.32    587432\n",
      "weighted avg       0.50      0.53      0.45    587432\n",
      "\n"
     ]
    }
   ],
   "metadata": {}
  },
  {
   "cell_type": "code",
   "execution_count": 35,
   "source": [
    "# get data for the next year\n",
    "df_train, df_test, X_train, X_test, y_train, y_test = get_data(2012, 2013, cov)"
   ],
   "outputs": [],
   "metadata": {}
  },
  {
   "cell_type": "code",
   "execution_count": 36,
   "source": [
    "# expand the number of trees and then fit to the next year\n",
    "\n",
    "lr.fit(X_train,y_train)"
   ],
   "outputs": [
    {
     "output_type": "stream",
     "name": "stderr",
     "text": [
      "/home/oliver/.local/lib/python3.9/site-packages/sklearn/utils/optimize.py:210: ConvergenceWarning: newton-cg failed to converge. Increase the number of iterations.\n",
      "  warnings.warn(\n"
     ]
    },
    {
     "output_type": "execute_result",
     "data": {
      "text/plain": [
       "LogisticRegression(multi_class='multinomial', solver='newton-cg')"
      ]
     },
     "metadata": {},
     "execution_count": 36
    }
   ],
   "metadata": {}
  },
  {
   "cell_type": "code",
   "execution_count": 37,
   "source": [
    "y_pred = lr.predict(X_test)\n",
    "y_pred_in_sample = lr.predict(X_train)"
   ],
   "outputs": [],
   "metadata": {}
  },
  {
   "cell_type": "code",
   "execution_count": 38,
   "source": [
    "# update all the report series\n",
    "update_reports()"
   ],
   "outputs": [
    {
     "output_type": "stream",
     "name": "stdout",
     "text": [
      "Updating Out of Sample Reports\n",
      "              precision    recall  f1-score   support\n",
      "\n",
      "           0       0.25      0.07      0.11     14892\n",
      "           1       0.33      0.95      0.49     50865\n",
      "           2       0.33      0.02      0.03     74913\n",
      "           3       0.40      0.04      0.07     12179\n",
      "\n",
      "    accuracy                           0.33    152849\n",
      "   macro avg       0.33      0.27      0.18    152849\n",
      "weighted avg       0.33      0.33      0.20    152849\n",
      "\n",
      "Updating In Sample Reports\n",
      "              precision    recall  f1-score   support\n",
      "\n",
      "           0       0.39      0.19      0.25     76834\n",
      "           1       0.50      0.90      0.64    346669\n",
      "           2       0.51      0.14      0.22    276692\n",
      "           3       0.30      0.06      0.10     38798\n",
      "\n",
      "    accuracy                           0.50    738993\n",
      "   macro avg       0.43      0.32      0.31    738993\n",
      "weighted avg       0.48      0.50      0.42    738993\n",
      "\n"
     ]
    }
   ],
   "metadata": {}
  },
  {
   "cell_type": "code",
   "execution_count": 39,
   "source": [
    "# get data for the next year\n",
    "df_train, df_test, X_train, X_test, y_train, y_test = get_data(2013, 2014, cov)\n",
    "# expand the number of trees and then fit to the next year\n",
    "\n",
    "lr.fit(X_train,y_train)\n",
    "# make predictions for the next year\n",
    "y_pred = lr.predict(X_test)\n",
    "y_pred_in_sample = lr.predict(X_train)\n",
    "# update all the report series\n",
    "update_reports()"
   ],
   "outputs": [
    {
     "output_type": "stream",
     "name": "stderr",
     "text": [
      "/home/oliver/.local/lib/python3.9/site-packages/scipy/optimize/linesearch.py:478: LineSearchWarning: The line search algorithm did not converge\n",
      "  warn('The line search algorithm did not converge', LineSearchWarning)\n",
      "/home/oliver/.local/lib/python3.9/site-packages/scipy/optimize/linesearch.py:327: LineSearchWarning: The line search algorithm did not converge\n",
      "  warn('The line search algorithm did not converge', LineSearchWarning)\n",
      "/home/oliver/.local/lib/python3.9/site-packages/sklearn/utils/optimize.py:210: ConvergenceWarning: newton-cg failed to converge. Increase the number of iterations.\n",
      "  warnings.warn(\n"
     ]
    },
    {
     "output_type": "stream",
     "name": "stdout",
     "text": [
      "Updating Out of Sample Reports\n",
      "              precision    recall  f1-score   support\n",
      "\n",
      "           0       0.08      0.10      0.09      3813\n",
      "           1       0.44      0.82      0.57     62233\n",
      "           2       0.64      0.27      0.38     71827\n",
      "           3       0.47      0.05      0.09     15432\n",
      "\n",
      "    accuracy                           0.47    153305\n",
      "   macro avg       0.41      0.31      0.28    153305\n",
      "weighted avg       0.53      0.47      0.42    153305\n",
      "\n",
      "Updating In Sample Reports\n",
      "              precision    recall  f1-score   support\n",
      "\n",
      "           0       0.37      0.17      0.23     91726\n",
      "           1       0.50      0.84      0.62    397534\n",
      "           2       0.58      0.28      0.38    351605\n",
      "           3       0.31      0.07      0.11     50977\n",
      "\n",
      "    accuracy                           0.51    891842\n",
      "   macro avg       0.44      0.34      0.34    891842\n",
      "weighted avg       0.51      0.51      0.46    891842\n",
      "\n"
     ]
    }
   ],
   "metadata": {}
  },
  {
   "cell_type": "code",
   "execution_count": 40,
   "source": [
    "# get data for the next year\n",
    "df_train, df_test, X_train, X_test, y_train, y_test = get_data(2014, 2015, cov)\n",
    "# expand the number of trees and then fit to the next year\n",
    "\n",
    "lr.fit(X_train,y_train)\n",
    "# make predictions for the next year\n",
    "y_pred = lr.predict(X_test)\n",
    "y_pred_in_sample = lr.predict(X_train)\n",
    "# update all the report series\n",
    "update_reports()"
   ],
   "outputs": [
    {
     "output_type": "stream",
     "name": "stderr",
     "text": [
      "/home/oliver/.local/lib/python3.9/site-packages/scipy/optimize/linesearch.py:478: LineSearchWarning: The line search algorithm did not converge\n",
      "  warn('The line search algorithm did not converge', LineSearchWarning)\n",
      "/home/oliver/.local/lib/python3.9/site-packages/scipy/optimize/linesearch.py:327: LineSearchWarning: The line search algorithm did not converge\n",
      "  warn('The line search algorithm did not converge', LineSearchWarning)\n",
      "/home/oliver/.local/lib/python3.9/site-packages/sklearn/utils/optimize.py:210: ConvergenceWarning: newton-cg failed to converge. Increase the number of iterations.\n",
      "  warnings.warn(\n"
     ]
    },
    {
     "output_type": "stream",
     "name": "stdout",
     "text": [
      "Updating Out of Sample Reports\n",
      "              precision    recall  f1-score   support\n",
      "\n",
      "           0       0.15      0.06      0.09      8551\n",
      "           1       0.51      0.89      0.65     67924\n",
      "           2       0.73      0.34      0.46     63672\n",
      "           3       0.39      0.07      0.12     13906\n",
      "\n",
      "    accuracy                           0.54    154053\n",
      "   macro avg       0.44      0.34      0.33    154053\n",
      "weighted avg       0.57      0.54      0.49    154053\n",
      "\n",
      "Updating In Sample Reports\n",
      "              precision    recall  f1-score   support\n",
      "\n",
      "           0       0.37      0.14      0.20     95539\n",
      "           1       0.51      0.79      0.62    459767\n",
      "           2       0.59      0.38      0.46    423432\n",
      "           3       0.31      0.10      0.15     66409\n",
      "\n",
      "    accuracy                           0.52   1045147\n",
      "   macro avg       0.45      0.35      0.36   1045147\n",
      "weighted avg       0.52      0.52      0.49   1045147\n",
      "\n"
     ]
    }
   ],
   "metadata": {}
  },
  {
   "cell_type": "code",
   "execution_count": 41,
   "source": [
    "# get data for the next year\n",
    "df_train, df_test, X_train, X_test, y_train, y_test = get_data(2015, 2016, cov)\n",
    "# expand the number of trees and then fit to the next year\n",
    "\n",
    "lr.fit(X_train,y_train)\n",
    "# make predictions for the next year\n",
    "y_pred = lr.predict(X_test)\n",
    "y_pred_in_sample = lr.predict(X_train)\n",
    "# update all the report series\n",
    "update_reports()"
   ],
   "outputs": [
    {
     "output_type": "stream",
     "name": "stderr",
     "text": [
      "/home/oliver/.local/lib/python3.9/site-packages/scipy/optimize/linesearch.py:478: LineSearchWarning: The line search algorithm did not converge\n",
      "  warn('The line search algorithm did not converge', LineSearchWarning)\n",
      "/home/oliver/.local/lib/python3.9/site-packages/scipy/optimize/linesearch.py:327: LineSearchWarning: The line search algorithm did not converge\n",
      "  warn('The line search algorithm did not converge', LineSearchWarning)\n",
      "/home/oliver/.local/lib/python3.9/site-packages/sklearn/utils/optimize.py:210: ConvergenceWarning: newton-cg failed to converge. Increase the number of iterations.\n",
      "  warnings.warn(\n"
     ]
    },
    {
     "output_type": "stream",
     "name": "stdout",
     "text": [
      "Updating Out of Sample Reports\n",
      "              precision    recall  f1-score   support\n",
      "\n",
      "           0       0.11      0.06      0.08      5262\n",
      "           1       0.42      0.88      0.57     56597\n",
      "           2       0.80      0.29      0.43     81847\n",
      "           3       0.29      0.09      0.14     11251\n",
      "\n",
      "    accuracy                           0.49    154957\n",
      "   macro avg       0.40      0.33      0.30    154957\n",
      "weighted avg       0.60      0.49      0.45    154957\n",
      "\n",
      "Updating In Sample Reports\n",
      "              precision    recall  f1-score   support\n",
      "\n",
      "           0       0.37      0.11      0.17    104090\n",
      "           1       0.52      0.80      0.63    527691\n",
      "           2       0.60      0.39      0.47    487104\n",
      "           3       0.31      0.12      0.17     80315\n",
      "\n",
      "    accuracy                           0.53   1199200\n",
      "   macro avg       0.45      0.36      0.36   1199200\n",
      "weighted avg       0.53      0.53      0.50   1199200\n",
      "\n"
     ]
    }
   ],
   "metadata": {}
  },
  {
   "cell_type": "code",
   "execution_count": 42,
   "source": [
    "# get data for the next year\n",
    "df_train, df_test, X_train, X_test, y_train, y_test = get_data(2016, 2017, cov)\n",
    "# expand the number of trees and then fit to the next year\n",
    "\n",
    "lr.fit(X_train,y_train)\n",
    "# make predictions for the next year\n",
    "y_pred = lr.predict(X_test)\n",
    "y_pred_in_sample = lr.predict(X_train)\n",
    "# update all the report series\n",
    "update_reports()"
   ],
   "outputs": [
    {
     "output_type": "stream",
     "name": "stderr",
     "text": [
      "/home/oliver/.local/lib/python3.9/site-packages/scipy/optimize/linesearch.py:478: LineSearchWarning: The line search algorithm did not converge\n",
      "  warn('The line search algorithm did not converge', LineSearchWarning)\n",
      "/home/oliver/.local/lib/python3.9/site-packages/scipy/optimize/linesearch.py:327: LineSearchWarning: The line search algorithm did not converge\n",
      "  warn('The line search algorithm did not converge', LineSearchWarning)\n",
      "/home/oliver/.local/lib/python3.9/site-packages/sklearn/utils/optimize.py:210: ConvergenceWarning: newton-cg failed to converge. Increase the number of iterations.\n",
      "  warnings.warn(\n"
     ]
    },
    {
     "output_type": "stream",
     "name": "stdout",
     "text": [
      "Updating Out of Sample Reports\n",
      "              precision    recall  f1-score   support\n",
      "\n",
      "           0       0.09      0.04      0.06      4667\n",
      "           1       0.51      0.78      0.62     57630\n",
      "           2       0.79      0.60      0.68     81767\n",
      "           3       0.29      0.09      0.14     11150\n",
      "\n",
      "    accuracy                           0.61    155214\n",
      "   macro avg       0.42      0.38      0.38    155214\n",
      "weighted avg       0.63      0.61      0.60    155214\n",
      "\n",
      "Updating In Sample Reports\n",
      "              precision    recall  f1-score   support\n",
      "\n",
      "           0       0.37      0.09      0.15    109352\n",
      "           1       0.56      0.69      0.62    584288\n",
      "           2       0.61      0.61      0.61    568951\n",
      "           3       0.30      0.12      0.17     91566\n",
      "\n",
      "    accuracy                           0.57   1354157\n",
      "   macro avg       0.46      0.38      0.39   1354157\n",
      "weighted avg       0.55      0.57      0.55   1354157\n",
      "\n"
     ]
    }
   ],
   "metadata": {}
  },
  {
   "cell_type": "code",
   "execution_count": 43,
   "source": [
    "# get data for the next year\n",
    "df_train, df_test, X_train, X_test, y_train, y_test = get_data(2017, 2018, cov)\n",
    "# expand the number of trees and then fit to the next year\n",
    "\n",
    "lr.fit(X_train,y_train)\n",
    "# make predictions for the next year\n",
    "y_pred = lr.predict(X_test)\n",
    "y_pred_in_sample = lr.predict(X_train)\n",
    "# update all the report series\n",
    "update_reports()"
   ],
   "outputs": [
    {
     "output_type": "stream",
     "name": "stderr",
     "text": [
      "/home/oliver/.local/lib/python3.9/site-packages/scipy/optimize/linesearch.py:478: LineSearchWarning: The line search algorithm did not converge\n",
      "  warn('The line search algorithm did not converge', LineSearchWarning)\n",
      "/home/oliver/.local/lib/python3.9/site-packages/scipy/optimize/linesearch.py:327: LineSearchWarning: The line search algorithm did not converge\n",
      "  warn('The line search algorithm did not converge', LineSearchWarning)\n",
      "/home/oliver/.local/lib/python3.9/site-packages/sklearn/utils/optimize.py:210: ConvergenceWarning: newton-cg failed to converge. Increase the number of iterations.\n",
      "  warnings.warn(\n"
     ]
    },
    {
     "output_type": "stream",
     "name": "stdout",
     "text": [
      "Updating Out of Sample Reports\n",
      "              precision    recall  f1-score   support\n",
      "\n",
      "           0       0.97      0.02      0.04     90097\n",
      "           1       0.01      0.23      0.02      2978\n",
      "           2       0.02      0.77      0.05      2722\n",
      "           3       0.06      0.00      0.01     54260\n",
      "\n",
      "    accuracy                           0.03    150057\n",
      "   macro avg       0.27      0.25      0.03    150057\n",
      "weighted avg       0.61      0.03      0.03    150057\n",
      "\n",
      "Updating In Sample Reports\n",
      "              precision    recall  f1-score   support\n",
      "\n",
      "           0       0.36      0.08      0.14    114019\n",
      "           1       0.57      0.53      0.55    641918\n",
      "           2       0.59      0.77      0.67    650718\n",
      "           3       0.30      0.11      0.16    102716\n",
      "\n",
      "    accuracy                           0.57   1509371\n",
      "   macro avg       0.45      0.37      0.38   1509371\n",
      "weighted avg       0.54      0.57      0.54   1509371\n",
      "\n"
     ]
    }
   ],
   "metadata": {}
  },
  {
   "cell_type": "code",
   "execution_count": 44,
   "source": [
    "# get data for the next year\n",
    "df_train, df_test, X_train, X_test, y_train, y_test = get_data(2018, 2019, cov)\n",
    "# expand the number of trees and then fit to the next year\n",
    "\n",
    "lr.fit(X_train,y_train)\n",
    "# make predictions for the next year\n",
    "y_pred = lr.predict(X_test)\n",
    "y_pred_in_sample = lr.predict(X_train)\n",
    "# update all the report series\n",
    "update_reports()"
   ],
   "outputs": [
    {
     "output_type": "stream",
     "name": "stderr",
     "text": [
      "/home/oliver/.local/lib/python3.9/site-packages/scipy/optimize/linesearch.py:478: LineSearchWarning: The line search algorithm did not converge\n",
      "  warn('The line search algorithm did not converge', LineSearchWarning)\n",
      "/home/oliver/.local/lib/python3.9/site-packages/scipy/optimize/linesearch.py:327: LineSearchWarning: The line search algorithm did not converge\n",
      "  warn('The line search algorithm did not converge', LineSearchWarning)\n",
      "/home/oliver/.local/lib/python3.9/site-packages/sklearn/utils/optimize.py:210: ConvergenceWarning: newton-cg failed to converge. Increase the number of iterations.\n",
      "  warnings.warn(\n"
     ]
    },
    {
     "output_type": "stream",
     "name": "stdout",
     "text": [
      "Updating Out of Sample Reports\n",
      "              precision    recall  f1-score   support\n",
      "\n",
      "           0       0.16      0.01      0.02     35174\n",
      "           1       0.23      0.40      0.29     33758\n",
      "           2       0.17      0.53      0.25     26029\n",
      "           3       0.21      0.02      0.03     55470\n",
      "\n",
      "    accuracy                           0.19    150431\n",
      "   macro avg       0.19      0.24      0.15    150431\n",
      "weighted avg       0.20      0.19      0.13    150431\n",
      "\n",
      "Updating In Sample Reports\n",
      "              precision    recall  f1-score   support\n",
      "\n",
      "           0       0.32      0.10      0.15    204116\n",
      "           1       0.54      0.53      0.53    644896\n",
      "           2       0.54      0.76      0.63    653440\n",
      "           3       0.27      0.06      0.10    156976\n",
      "\n",
      "    accuracy                           0.52   1659428\n",
      "   macro avg       0.42      0.36      0.35   1659428\n",
      "weighted avg       0.48      0.52      0.48   1659428\n",
      "\n"
     ]
    }
   ],
   "metadata": {}
  },
  {
   "cell_type": "code",
   "execution_count": 45,
   "source": [
    "# get data for the next year\n",
    "df_train, df_test, X_train, X_test, y_train, y_test = get_data(2019, 2020, cov)\n",
    "# expand the number of trees and then fit to the next year\n",
    "\n",
    "lr.fit(X_train,y_train)\n",
    "# make predictions for the next year\n",
    "y_pred = lr.predict(X_test)\n",
    "y_pred_in_sample = lr.predict(X_train)\n",
    "# update all the report series\n",
    "update_reports()"
   ],
   "outputs": [
    {
     "output_type": "stream",
     "name": "stderr",
     "text": [
      "/home/oliver/.local/lib/python3.9/site-packages/scipy/optimize/linesearch.py:478: LineSearchWarning: The line search algorithm did not converge\n",
      "  warn('The line search algorithm did not converge', LineSearchWarning)\n",
      "/home/oliver/.local/lib/python3.9/site-packages/scipy/optimize/linesearch.py:327: LineSearchWarning: The line search algorithm did not converge\n",
      "  warn('The line search algorithm did not converge', LineSearchWarning)\n",
      "/home/oliver/.local/lib/python3.9/site-packages/sklearn/utils/optimize.py:210: ConvergenceWarning: newton-cg failed to converge. Increase the number of iterations.\n",
      "  warnings.warn(\n"
     ]
    },
    {
     "output_type": "stream",
     "name": "stdout",
     "text": [
      "Updating Out of Sample Reports\n",
      "              precision    recall  f1-score   support\n",
      "\n",
      "           0       0.70      0.02      0.03    100812\n",
      "           1       0.21      0.37      0.27     28247\n",
      "           2       0.07      0.81      0.13      8548\n",
      "           3       0.01      0.00      0.00     13573\n",
      "\n",
      "    accuracy                           0.13    151180\n",
      "   macro avg       0.25      0.30      0.11    151180\n",
      "weighted avg       0.51      0.13      0.08    151180\n",
      "\n",
      "Updating In Sample Reports\n",
      "              precision    recall  f1-score   support\n",
      "\n",
      "           0       0.32      0.06      0.10    239290\n",
      "           1       0.49      0.50      0.49    678654\n",
      "           2       0.50      0.77      0.61    679469\n",
      "           3       0.35      0.04      0.06    212446\n",
      "\n",
      "    accuracy                           0.49   1809859\n",
      "   macro avg       0.42      0.34      0.32   1809859\n",
      "weighted avg       0.45      0.49      0.43   1809859\n",
      "\n"
     ]
    }
   ],
   "metadata": {}
  },
  {
   "cell_type": "code",
   "execution_count": 51,
   "source": [
    "years = [2009, 2010, 2011, 2012, 2013, 2014, 2015, 2016, 2017, 2018, 2019, 2020]\n",
    "years_in_sample = [2008, 2009, 2010, 2011, 2012, 2013, 2014, 2015, 2016, 2017, 2018, 2019]\n",
    "plt.plot(years, accuracies, label='Out of Sample')\n",
    "plt.plot(years_in_sample, accuracies_in_sample, label='In Sample')\n",
    "plt.legend()\n",
    "plt.xlabel('Year')\n",
    "plt.ylabel('Accuracy Score')\n",
    "plt.title('Accuracy Scores by Year')\n"
   ],
   "outputs": [
    {
     "output_type": "execute_result",
     "data": {
      "text/plain": [
       "Text(0.5, 1.0, 'Accuracy Scores by Year')"
      ]
     },
     "metadata": {},
     "execution_count": 51
    },
    {
     "output_type": "display_data",
     "data": {
      "image/png": "[encoded data removed]",
      "text/plain": [
       "<Figure size 432x288 with 1 Axes>"
      ]
     },
     "metadata": {
      "needs_background": "light"
     }
    }
   ],
   "metadata": {}
  },
  {
   "cell_type": "code",
   "execution_count": 52,
   "source": [
    "plt.plot(years, f1scores)\n",
    "plt.legend(['Decrease','Small','Medium','Large'])\n",
    "plt.xlabel('Year')\n",
    "plt.ylabel('F1 Score')\n",
    "plt.title('Out of Sample F1 Scores by Year')"
   ],
   "outputs": [
    {
     "output_type": "execute_result",
     "data": {
      "text/plain": [
       "Text(0.5, 1.0, 'Out of Sample F1 Scores by Year')"
      ]
     },
     "metadata": {},
     "execution_count": 52
    },
    {
     "output_type": "display_data",
     "data": {
      "image/png": "[encoded data removed]",
      "text/plain": [
       "<Figure size 432x288 with 1 Axes>"
      ]
     },
     "metadata": {
      "needs_background": "light"
     }
    }
   ],
   "metadata": {}
  },
  {
   "cell_type": "code",
   "execution_count": 53,
   "source": [
    "plt.plot(years_in_sample, f1scores_in_sample)\n",
    "plt.legend(['Decrease','Small','Medium','Large'])\n",
    "plt.xlabel('Year')\n",
    "plt.ylabel('F1 Score')\n",
    "plt.title('In Sample F1 Scores by Year')"
   ],
   "outputs": [
    {
     "output_type": "execute_result",
     "data": {
      "text/plain": [
       "Text(0.5, 1.0, 'In Sample F1 Scores by Year')"
      ]
     },
     "metadata": {},
     "execution_count": 53
    },
    {
     "output_type": "display_data",
     "data": {
      "image/png": "[encoded data removed]",
      "text/plain": [
       "<Figure size 432x288 with 1 Axes>"
      ]
     },
     "metadata": {
      "needs_background": "light"
     }
    }
   ],
   "metadata": {}
  }
 ],
 "metadata": {
  "kernelspec": {
   "name": "python3",
   "display_name": "Python 3.9.7 64-bit"
  },
  "language_info": {
   "codemirror_mode": {
    "name": "ipython",
    "version": 3
   },
   "file_extension": ".py",
   "mimetype": "text/x-python",
   "name": "python",
   "nbconvert_exporter": "python",
   "pygments_lexer": "ipython3",
   "version": "3.9.7"
  },
  "interpreter": {
   "hash": "916dbcbb3f70747c44a77c7bcd40155683ae19c65e1c03b4aa3499c5328201f1"
  }
 },
 "nbformat": 4,
 "nbformat_minor": 5
}