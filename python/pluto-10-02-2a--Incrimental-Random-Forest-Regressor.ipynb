{
 "cells": [
  {
   "cell_type": "code",
   "execution_count": 1,
   "id": "horizontal-gravity",
   "metadata": {},
   "outputs": [],
   "source": [
    "import pandas as pd\n",
    "import numpy as np\n",
    "from sklearn.ensemble import RandomForestRegressor\n",
    "from sklearn.linear_model import LinearRegression\n",
    "from sklearn.model_selection import train_test_split\n",
    "from sklearn.feature_selection import SelectFromModel\n",
    "from sklearn.metrics import mean_absolute_error, mean_squared_error, r2_score\n",
    "import matplotlib.pyplot as plt\n",
    "\n",
    "import psycopg2\n",
    "import pandas.io.sql as sqlio\n",
    "import psycopg2.extras\n"
   ]
  },
  {
   "cell_type": "code",
   "execution_count": 2,
   "id": "purple-stable",
   "metadata": {},
   "outputs": [],
   "source": [
    "# Establish a connection to the PLUTO database\n",
    "try:\n",
    "    conn = psycopg2.connect(\"dbname='pluto' user='oliver' host='localhost' password='m'\")\n",
    "except:\n",
    "    print(\"I am unable to connect to the database\")\n",
    "\n",
    "# Create a cursor object for executing queries\n",
    "conn.autocommit = True\n",
    "cur = conn.cursor()"
   ]
  },
  {
   "cell_type": "code",
   "execution_count": 3,
   "id": "indoor-trance",
   "metadata": {},
   "outputs": [],
   "source": [
    "    cov_forest = [\n",
    "    'xcoord'\n",
    "    ,'ycoord'\n",
    "    ,'age'\n",
    "    ,'build_alter_gap'\n",
    "    ,'alterage'      \n",
    "    ,'elevator'\n",
    "    ,'commercial'\n",
    "    ,'garage'\n",
    "    ,'storage'\n",
    "    ,'basement'\n",
    "    ,'waterfront'\n",
    "    ,'frontage'\n",
    "    ,'block_assmeblage'\n",
    "    ,'cooperative'\n",
    "    ,'conv_loft_wh'\n",
    "    ,'tenament'\n",
    "    ,'garden'\n",
    "    ,'semi_fireproof'\n",
    "    ,'fireproof'\n",
    "    ,'luxury'\n",
    "    ,'artist_res'\n",
    "    ,'units_per_building'\n",
    "    ,'floors'\n",
    "    ,'zip_avg_num_buildings'\n",
    "    ,'pcvpu_l1'\n",
    "    ,'pcvpu_l2'\n",
    "    ,'pcvpu_l3'\n",
    "    ,'avg_block_pcvpu_l1'\n",
    "    ,'avg_block_pcvpu_l2'\n",
    "    ,'avg_block_pcvpu_l3'\n",
    "    ,'avg_neighbor1_pcvpu_l1'\n",
    "    ,'avg_neighbor1_pcvpu_l2'\n",
    "    ,'avg_neighbor1_pcvpu_l3'\n",
    "    ,'avg_neighbor2_pcvpu_l1'\n",
    "    ,'avg_neighbor2_pcvpu_l2'\n",
    "    ,'avg_neighbor2_pcvpu_l3'\n",
    "    ,'avg_neighbor3_pcvpu_l1'\n",
    "    ,'avg_neighbor3_pcvpu_l2'\n",
    "    ,'avg_neighbor3_pcvpu_l3'\n",
    "    ,'avg_neighbor4_pcvpu_l1'\n",
    "    ,'avg_neighbor4_pcvpu_l2'\n",
    "    ,'avg_neighbor4_pcvpu_l3'\n",
    "    ,'avg_zip_pcvpu_l1'\n",
    "    ,'avg_zip_pcvpu_l2'\n",
    "    ,'avg_zip_pcvpu_l3'\n",
    "    ]"
   ]
  },
  {
   "cell_type": "code",
   "execution_count": 4,
   "id": "humanitarian-noise",
   "metadata": {},
   "outputs": [],
   "source": [
    "# Commands to select data from each year\n",
    "sql_2008 = \"\"\"SELECT * \n",
    "         FROM pluto_sym\n",
    "         WHERE year = 2008\n",
    "         \"\"\"\n",
    "sql_2009 = \"\"\"SELECT * \n",
    "         FROM pluto_sym\n",
    "         WHERE year = 2009\n",
    "         \"\"\"\n",
    "sql_2010 = \"\"\"SELECT * \n",
    "         FROM pluto_sym\n",
    "         WHERE year = 2010\n",
    "         \"\"\"\n",
    "sql_2010 = \"\"\"SELECT * \n",
    "         FROM pluto_sym\n",
    "         WHERE year = 2010\n",
    "         \"\"\"\n",
    "sql_2011 = \"\"\"SELECT * \n",
    "         FROM pluto_sym\n",
    "         WHERE year = 2011\n",
    "         \"\"\"\n",
    "sql_2012 = \"\"\"SELECT * \n",
    "         FROM pluto_sym\n",
    "         WHERE year = 2012\n",
    "         \"\"\"\n",
    "sql_2013 = \"\"\"SELECT * \n",
    "         FROM pluto_sym\n",
    "         WHERE year = 2013\n",
    "         \"\"\"\n",
    "sql_2014 = \"\"\"SELECT * \n",
    "         FROM pluto_sym\n",
    "         WHERE year = 2014\n",
    "         \"\"\"\n",
    "sql_2015 = \"\"\"SELECT * \n",
    "         FROM pluto_sym\n",
    "         WHERE year = 2015\n",
    "         \"\"\"\n",
    "sql_2016 = \"\"\"SELECT * \n",
    "         FROM pluto_sym\n",
    "         WHERE year = 2016\n",
    "         \"\"\"\n",
    "sql_2017 = \"\"\"SELECT * \n",
    "         FROM pluto_sym\n",
    "         WHERE year = 2017\n",
    "         \"\"\"\n",
    "sql_2018 = \"\"\"SELECT * \n",
    "         FROM pluto_sym\n",
    "         WHERE year = 2018\n",
    "         \"\"\"\n",
    "sql_2019 = \"\"\"SELECT * \n",
    "         FROM pluto_sym\n",
    "         WHERE year = 2019\n",
    "         \"\"\"\n",
    "sql_2020 = \"\"\"SELECT * \n",
    "         FROM pluto_sym\n",
    "         WHERE year = 2020\n",
    "         \"\"\""
   ]
  },
  {
   "cell_type": "code",
   "execution_count": 5,
   "id": "correct-heath",
   "metadata": {},
   "outputs": [],
   "source": [
    "# Function for creating dataframes from a SQL query\n",
    "def get_data(sql_train, sql_test, cov_forest):\n",
    "    \"\"\"\n",
    "    Function to return data from a train and test SQL query\n",
    "    \"\"\"\n",
    "    global df_train, df_test, X_train, X_test, y_train, y_test, covariates\n",
    "\n",
    "    # List of columns to be used as covariates in the model\n",
    "\n",
    "    df_train = sqlio.read_sql_query(sql_train, conn).dropna()\n",
    "    df_test = sqlio.read_sql_query(sql_test, conn).dropna()\n",
    "\n",
    "    covariates = df_train.columns.intersection(cov_forest)\n",
    "\n",
    "    X_train = df_train[covariates]\n",
    "    y_train = df_train['pcvpu_target']\n",
    "\n",
    "    X_test = df_test[covariates]\n",
    "    y_test = df_test['pcvpu_target']\n",
    "    return df_train, df_test, X_train, X_test, y_train, y_test"
   ]
  },
  {
   "cell_type": "code",
   "execution_count": 6,
   "id": "altered-measure",
   "metadata": {},
   "outputs": [],
   "source": [
    "# Create a random forest classifier object\n",
    "# warm_start = True allows the model to be trained on new data without having to retrain the entire model\n",
    "rf = RandomForestRegressor(warm_start=True, n_estimators=100, max_depth=100, random_state=0)"
   ]
  },
  {
   "cell_type": "code",
   "execution_count": 7,
   "id": "gross-falls",
   "metadata": {},
   "outputs": [],
   "source": [
    "# Set up empty lists to store the results of the model for each year\n",
    "\n",
    "MAEs = [] ## Mean Absolute Error, list of numbers (out of sample)\n",
    "MSEs = [] ## Mean Squared Error, list of numbers (out of sample)\n",
    "R2s = []  ## R2 score, list of numbers (out of sample)\n",
    "\n",
    "feature_importances = [] ## Feature importances, list of lists\n",
    "\n",
    "MAEs_in_sample = [] ## Mean Absolute Error, list of numbers (in sample)\n",
    "MSEs_in_sample = [] ## Mean Squared Error, list of numbers (in sample)\n",
    "R2s_in_sample = []  ## R2 score, list of numbers (in sample)\n",
    "\n",
    "\n",
    "def update_reports():\n",
    "    \"\"\"\n",
    "    Function to update the reports for each year\n",
    "    \"\"\"\n",
    "    print('Updating Out of Sample Reports')\n",
    "\n",
    "    MSEs.append(mean_squared_error(y_test, y_pred))\n",
    "    MAEs.append(mean_absolute_error(y_test, y_pred))\n",
    "    R2s.append(r2_score(y_test, y_pred))\n",
    "    print('MSE: {}'.format(MSEs[-1]))\n",
    "    print('MAE: {}'.format(MAEs[-1]))\n",
    "    print('R2: {}'.format(R2s[-1]))\n",
    "\n",
    "    print('Updating In Sample Reports')\n",
    "\n",
    "    MSEs_in_sample.append(mean_squared_error(y_train, y_pred_in_sample))\n",
    "    MAEs_in_sample.append(mean_absolute_error(y_train, y_pred_in_sample))\n",
    "    R2s_in_sample.append(r2_score(y_train, y_pred_in_sample))\n",
    "    print('MSE: {}'.format(MSEs_in_sample[-1]))\n",
    "    print('MAE: {}'.format(MAEs_in_sample[-1]))\n",
    "    print('R2: {}'.format(R2s_in_sample[-1]))\n",
    "\n",
    "    print('Updating Feature Importances')\n",
    "    feature_importances.append(pd.Series(rf.feature_importances_, index=cov_forest))\n"
   ]
  },
  {
   "cell_type": "code",
   "execution_count": 8,
   "id": "social-physics",
   "metadata": {},
   "outputs": [],
   "source": [
    "# get data from 2008 and 2009\n",
    "df_train, df_test, X_train, X_test, y_train, y_test = get_data(sql_2008, sql_2009, cov_forest)\n"
   ]
  },
  {
   "cell_type": "code",
   "execution_count": 9,
   "id": "forward-porter",
   "metadata": {},
   "outputs": [
    {
     "data": {
      "text/plain": [
       "RandomForestRegressor(max_depth=100, random_state=0, warm_start=True)"
      ]
     },
     "execution_count": 9,
     "metadata": {},
     "output_type": "execute_result"
    }
   ],
   "source": [
    "# fit the model for 2008 and 2009\n",
    "rf.fit(X_train,y_train)"
   ]
  },
  {
   "cell_type": "code",
   "execution_count": 10,
   "id": "narrow-copper",
   "metadata": {},
   "outputs": [],
   "source": [
    "# Make in and out of sample predictions\n",
    "y_pred = rf.predict(X_test)\n",
    "y_pred_in_sample = rf.predict(X_train)"
   ]
  },
  {
   "cell_type": "code",
   "execution_count": 11,
   "id": "temporal-medicare",
   "metadata": {},
   "outputs": [
    {
     "name": "stdout",
     "output_type": "stream",
     "text": [
      "Updating Out of Sample Reports\n",
      "MSE: 338.2585894717582\n",
      "MAE: 6.626045008269003\n",
      "R2: -0.05254510785117805\n",
      "Updating In Sample Reports\n",
      "MSE: 47.763215424409594\n",
      "MAE: 2.0613055809622858\n",
      "R2: 0.900547625414621\n",
      "Updating Feature Importances\n"
     ]
    }
   ],
   "source": [
    "# update all the report series\n",
    "update_reports()"
   ]
  },
  {
   "cell_type": "code",
   "execution_count": 12,
   "id": "occupational-broadcasting",
   "metadata": {},
   "outputs": [],
   "source": [
    "# get data for the next year\n",
    "df_train, df_test, X_train, X_test, y_train, y_test = get_data(sql_2009, sql_2010, cov_forest)"
   ]
  },
  {
   "cell_type": "code",
   "execution_count": 13,
   "id": "announced-finder",
   "metadata": {},
   "outputs": [
    {
     "data": {
      "text/plain": [
       "RandomForestRegressor(max_depth=100, n_estimators=200, random_state=0,\n",
       "                      warm_start=True)"
      ]
     },
     "execution_count": 13,
     "metadata": {},
     "output_type": "execute_result"
    }
   ],
   "source": [
    "# expand the number of trees and then fit to the next year\n",
    "rf.n_estimators += 100\n",
    "rf.fit(X_train,y_train)"
   ]
  },
  {
   "cell_type": "code",
   "execution_count": 14,
   "id": "upset-melissa",
   "metadata": {},
   "outputs": [],
   "source": [
    "y_pred = rf.predict(X_test)\n",
    "y_pred_in_sample = rf.predict(X_train)"
   ]
  },
  {
   "cell_type": "code",
   "execution_count": 15,
   "id": "based-daisy",
   "metadata": {},
   "outputs": [
    {
     "name": "stdout",
     "output_type": "stream",
     "text": [
      "Updating Out of Sample Reports\n",
      "MSE: 227.94854607227506\n",
      "MAE: 6.627637998462037\n",
      "R2: -0.13449031553570756\n",
      "Updating In Sample Reports\n",
      "MSE: 140.32355646568644\n",
      "MAE: 4.023822797706064\n",
      "R2: 0.5633610572760688\n",
      "Updating Feature Importances\n"
     ]
    }
   ],
   "source": [
    "# update all the report series\n",
    "update_reports()"
   ]
  },
  {
   "cell_type": "code",
   "execution_count": 16,
   "id": "fancy-marker",
   "metadata": {},
   "outputs": [],
   "source": [
    "# get data for the next year\n",
    "df_train, df_test, X_train, X_test, y_train, y_test = get_data(sql_2010, sql_2011, cov_forest)"
   ]
  },
  {
   "cell_type": "code",
   "execution_count": 17,
   "id": "satellite-lottery",
   "metadata": {},
   "outputs": [
    {
     "data": {
      "text/plain": [
       "RandomForestRegressor(max_depth=100, n_estimators=300, random_state=0,\n",
       "                      warm_start=True)"
      ]
     },
     "execution_count": 17,
     "metadata": {},
     "output_type": "execute_result"
    }
   ],
   "source": [
    "# expand the number of trees and then fit to the next year\n",
    "rf.n_estimators += 100\n",
    "rf.fit(X_train,y_train)"
   ]
  },
  {
   "cell_type": "code",
   "execution_count": 18,
   "id": "sharp-stephen",
   "metadata": {},
   "outputs": [],
   "source": [
    "y_pred = rf.predict(X_test)\n",
    "y_pred_in_sample = rf.predict(X_train)"
   ]
  },
  {
   "cell_type": "code",
   "execution_count": 19,
   "id": "occasional-float",
   "metadata": {},
   "outputs": [
    {
     "name": "stdout",
     "output_type": "stream",
     "text": [
      "Updating Out of Sample Reports\n",
      "MSE: 57.15782294891655\n",
      "MAE: 4.710376288622071\n",
      "R2: -0.9711342093832505\n",
      "Updating In Sample Reports\n",
      "MSE: 129.82635540951637\n",
      "MAE: 4.799247327688156\n",
      "R2: 0.3538596957460157\n",
      "Updating Feature Importances\n"
     ]
    }
   ],
   "source": [
    "# update all the report series\n",
    "update_reports()"
   ]
  },
  {
   "cell_type": "code",
   "execution_count": 20,
   "id": "patient-vintage",
   "metadata": {},
   "outputs": [],
   "source": [
    "# get data for the next year\n",
    "df_train, df_test, X_train, X_test, y_train, y_test = get_data(sql_2011, sql_2012, cov_forest)"
   ]
  },
  {
   "cell_type": "code",
   "execution_count": 21,
   "id": "musical-device",
   "metadata": {},
   "outputs": [
    {
     "data": {
      "text/plain": [
       "RandomForestRegressor(max_depth=100, n_estimators=400, random_state=0,\n",
       "                      warm_start=True)"
      ]
     },
     "execution_count": 21,
     "metadata": {},
     "output_type": "execute_result"
    }
   ],
   "source": [
    "# expand the number of trees and then fit to the next year\n",
    "rf.n_estimators += 100\n",
    "rf.fit(X_train,y_train)"
   ]
  },
  {
   "cell_type": "code",
   "execution_count": 22,
   "id": "liberal-protest",
   "metadata": {},
   "outputs": [],
   "source": [
    "y_pred = rf.predict(X_test)\n",
    "y_pred_in_sample = rf.predict(X_train)"
   ]
  },
  {
   "cell_type": "code",
   "execution_count": 23,
   "id": "spare-indonesia",
   "metadata": {},
   "outputs": [
    {
     "name": "stdout",
     "output_type": "stream",
     "text": [
      "Updating Out of Sample Reports\n",
      "MSE: 144.50272049291087\n",
      "MAE: 5.321653962134353\n",
      "R2: -0.07079564594907684\n",
      "Updating In Sample Reports\n",
      "MSE: 35.70619935448511\n",
      "MAE: 3.6166542915431137\n",
      "R2: -0.23135744861356478\n",
      "Updating Feature Importances\n"
     ]
    }
   ],
   "source": [
    "# update all the report series\n",
    "update_reports()"
   ]
  },
  {
   "cell_type": "code",
   "execution_count": 24,
   "id": "studied-wrong",
   "metadata": {},
   "outputs": [],
   "source": [
    "# get data for the next year\n",
    "df_train, df_test, X_train, X_test, y_train, y_test = get_data(sql_2012, sql_2013, cov_forest)"
   ]
  },
  {
   "cell_type": "code",
   "execution_count": 25,
   "id": "juvenile-seeking",
   "metadata": {},
   "outputs": [
    {
     "data": {
      "text/plain": [
       "RandomForestRegressor(max_depth=100, n_estimators=500, random_state=0,\n",
       "                      warm_start=True)"
      ]
     },
     "execution_count": 25,
     "metadata": {},
     "output_type": "execute_result"
    }
   ],
   "source": [
    "# expand the number of trees and then fit to the next year\n",
    "rf.n_estimators += 100\n",
    "rf.fit(X_train,y_train)"
   ]
  },
  {
   "cell_type": "code",
   "execution_count": 26,
   "id": "distinct-fraud",
   "metadata": {},
   "outputs": [],
   "source": [
    "y_pred = rf.predict(X_test)\n",
    "y_pred_in_sample = rf.predict(X_train)"
   ]
  },
  {
   "cell_type": "code",
   "execution_count": 27,
   "id": "mediterranean-mounting",
   "metadata": {},
   "outputs": [
    {
     "name": "stdout",
     "output_type": "stream",
     "text": [
      "Updating Out of Sample Reports\n",
      "MSE: 141.1492528515583\n",
      "MAE: 5.089701917395531\n",
      "R2: -0.0442898454244256\n",
      "Updating In Sample Reports\n",
      "MSE: 103.75629326143012\n",
      "MAE: 4.402791371000811\n",
      "R2: 0.23114397649277874\n",
      "Updating Feature Importances\n"
     ]
    }
   ],
   "source": [
    "# update all the report series\n",
    "update_reports()"
   ]
  },
  {
   "cell_type": "code",
   "execution_count": 28,
   "id": "finite-journal",
   "metadata": {},
   "outputs": [
    {
     "name": "stdout",
     "output_type": "stream",
     "text": [
      "Updating Out of Sample Reports\n",
      "MSE: 113.2031763676705\n",
      "MAE: 4.702752168087691\n",
      "R2: -0.10166294678356014\n",
      "Updating In Sample Reports\n",
      "MSE: 109.18992793831785\n",
      "MAE: 4.39862473600975\n",
      "R2: 0.19216056291472405\n",
      "Updating Feature Importances\n"
     ]
    }
   ],
   "source": [
    "# get data for the next year\n",
    "df_train, df_test, X_train, X_test, y_train, y_test = get_data(sql_2013, sql_2014, cov_forest)\n",
    "# expand the number of trees and then fit to the next year\n",
    "rf.n_estimators += 100\n",
    "rf.fit(X_train,y_train)\n",
    "# make predictions for the next year\n",
    "y_pred = rf.predict(X_test)\n",
    "y_pred_in_sample = rf.predict(X_train)\n",
    "# update all the report series\n",
    "update_reports()"
   ]
  },
  {
   "cell_type": "code",
   "execution_count": 29,
   "id": "known-trout",
   "metadata": {},
   "outputs": [],
   "source": [
    "# get data for the next year\n",
    "df_train, df_test, X_train, X_test, y_train, y_test = get_data(sql_2014, sql_2015, cov_forest)\n",
    "# expand the number of trees and then fit to the next year\n",
    "rf.n_estimators += 100\n",
    "rf.fit(X_train,y_train)\n",
    "# make predictions for the next year\n",
    "y_pred = rf.predict(X_test)\n",
    "y_pred_in_sample = rf.predict(X_train)\n",
    "# update all the report series\n",
    "update_reports()"
   ]
  },
  {
   "cell_type": "code",
   "execution_count": null,
   "id": "ethical-necessity",
   "metadata": {},
   "outputs": [
    {
     "ename": "Error",
     "evalue": "Session cannot generate requests",
     "output_type": "error",
     "traceback": [
      "Error: Session cannot generate requests",
      "at w.executeCodeCell (/home/oliver/.vscode/extensions/ms-toolsai.jupyter-2021.8.2041215044/out/client/extension.js:52:301310)",
      "at w.execute (/home/oliver/.vscode/extensions/ms-toolsai.jupyter-2021.8.2041215044/out/client/extension.js:52:300703)",
      "at w.start (/home/oliver/.vscode/extensions/ms-toolsai.jupyter-2021.8.2041215044/out/client/extension.js:52:296367)",
      "at runMicrotasks (<anonymous>)",
      "at processTicksAndRejections (internal/process/task_queues.js:93:5)",
      "at t.CellExecutionQueue.executeQueuedCells (/home/oliver/.vscode/extensions/ms-toolsai.jupyter-2021.8.2041215044/out/client/extension.js:52:311160)",
      "at t.CellExecutionQueue.start (/home/oliver/.vscode/extensions/ms-toolsai.jupyter-2021.8.2041215044/out/client/extension.js:52:310700)"
     ]
    }
   ],
   "source": [
    "# get data for the next year\n",
    "df_train, df_test, X_train, X_test, y_train, y_test = get_data(sql_2015, sql_2016, cov_forest)\n",
    "# expand the number of trees and then fit to the next year\n",
    "rf.n_estimators += 100\n",
    "rf.fit(X_train,y_train)\n",
    "# make predictions for the next year\n",
    "y_pred = rf.predict(X_test)\n",
    "y_pred_in_sample = rf.predict(X_train)\n",
    "# update all the report series\n",
    "update_reports()"
   ]
  },
  {
   "cell_type": "code",
   "execution_count": null,
   "id": "adapted-impossible",
   "metadata": {},
   "outputs": [
    {
     "name": "stdout",
     "output_type": "stream",
     "text": [
      "Updating Out of Sample Reports\n",
      "MSE: 0.35069862511606836\n",
      "MAE: 0.43262060409785486\n",
      "R2: 0.1921155824097971\n",
      "Updating In Sample Reports\n",
      "MSE: 0.31845209917653783\n",
      "MAE: 0.4118353765524916\n",
      "R2: 0.28225511615771604\n",
      "Updating Feature Importances\n"
     ]
    }
   ],
   "source": [
    "# get data for the next year\n",
    "df_train, df_test, X_train, X_test, y_train, y_test = get_data(sql_2016, sql_2017, cov_forest)\n",
    "# expand the number of trees and then fit to the next year\n",
    "rf.n_estimators += 100\n",
    "rf.fit(X_train,y_train)\n",
    "# make predictions for the next year\n",
    "y_pred = rf.predict(X_test)\n",
    "y_pred_in_sample = rf.predict(X_train)\n",
    "# update all the report series\n",
    "update_reports()"
   ]
  },
  {
   "cell_type": "code",
   "execution_count": null,
   "id": "welcome-brisbane",
   "metadata": {},
   "outputs": [
    {
     "name": "stdout",
     "output_type": "stream",
     "text": [
      "Updating Out of Sample Reports\n",
      "MSE: 2.09590359935891\n",
      "MAE: 1.4111458512431942\n",
      "R2: -0.024848896737135417\n",
      "Updating In Sample Reports\n",
      "MSE: 0.3014970174919788\n",
      "MAE: 0.3990816872189365\n",
      "R2: 0.30545851925973133\n",
      "Updating Feature Importances\n"
     ]
    }
   ],
   "source": [
    "# get data for the next year\n",
    "df_train, df_test, X_train, X_test, y_train, y_test = get_data(sql_2017, sql_2018, cov_forest)\n",
    "# expand the number of trees and then fit to the next year\n",
    "rf.n_estimators += 100\n",
    "rf.fit(X_train,y_train)\n",
    "# make predictions for the next year\n",
    "y_pred = rf.predict(X_test)\n",
    "y_pred_in_sample = rf.predict(X_train)\n",
    "# update all the report series\n",
    "update_reports()"
   ]
  },
  {
   "cell_type": "code",
   "execution_count": null,
   "id": "recent-methodology",
   "metadata": {},
   "outputs": [
    {
     "name": "stdout",
     "output_type": "stream",
     "text": [
      "Updating Out of Sample Reports\n",
      "MSE: 1.5240101199303315\n",
      "MAE: 1.1121391383908417\n",
      "R2: -0.07030326846332091\n",
      "Updating In Sample Reports\n",
      "MSE: 1.7567258417393676\n",
      "MAE: 1.2920483852499685\n",
      "R2: 0.14100126488312625\n",
      "Updating Feature Importances\n"
     ]
    }
   ],
   "source": [
    "# get data for the next year\n",
    "df_train, df_test, X_train, X_test, y_train, y_test = get_data(sql_2018, sql_2019, cov_forest)\n",
    "# expand the number of trees and then fit to the next year\n",
    "rf.n_estimators += 100\n",
    "rf.fit(X_train,y_train)\n",
    "# make predictions for the next year\n",
    "y_pred = rf.predict(X_test)\n",
    "y_pred_in_sample = rf.predict(X_train)\n",
    "# update all the report series\n",
    "update_reports()"
   ]
  },
  {
   "cell_type": "code",
   "execution_count": null,
   "id": "concerned-portable",
   "metadata": {},
   "outputs": [
    {
     "name": "stdout",
     "output_type": "stream",
     "text": [
      "Updating Out of Sample Reports\n",
      "MSE: 1.6755823163383237\n",
      "MAE: 1.2186893934382852\n",
      "R2: -0.8680514027031416\n",
      "Updating In Sample Reports\n",
      "MSE: 1.3226598285648128\n",
      "MAE: 1.0369251794288854\n",
      "R2: 0.07110384697263716\n",
      "Updating Feature Importances\n"
     ]
    }
   ],
   "source": [
    "# get data for the next year\n",
    "df_train, df_test, X_train, X_test, y_train, y_test = get_data(sql_2019, sql_2020, cov_forest)\n",
    "# expand the number of trees and then fit to the next year\n",
    "rf.n_estimators += 100\n",
    "rf.fit(X_train,y_train)\n",
    "# make predictions for the next year\n",
    "y_pred = rf.predict(X_test)\n",
    "y_pred_in_sample = rf.predict(X_train)\n",
    "# update all the report series\n",
    "update_reports()"
   ]
  },
  {
   "cell_type": "code",
   "execution_count": null,
   "id": "quiet-circle",
   "metadata": {},
   "outputs": [
    {
     "data": {
      "text/plain": [
       "Text(0.5, 1.0, 'R2 Scores by Year')"
      ]
     },
     "execution_count": 36,
     "metadata": {},
     "output_type": "execute_result"
    },
    {
     "data": {
      "image/png": "[encoded data removed]",
      "text/plain": [
       "<Figure size 432x288 with 1 Axes>"
      ]
     },
     "metadata": {
      "needs_background": "light"
     },
     "output_type": "display_data"
    }
   ],
   "source": [
    "years = [2009, 2010, 2011, 2012, 2013, 2014, 2015, 2016, 2017, 2018, 2019, 2020]\n",
    "years_in_sample = [2008, 2009, 2010, 2011, 2012, 2013, 2014, 2015, 2016, 2017, 2018, 2019]\n",
    "plt.plot(years, R2s, label='Out of Sample')\n",
    "plt.plot(years_in_sample, R2s_in_sample, label='In Sample')\n",
    "plt.legend()\n",
    "plt.xlabel('Year')\n",
    "plt.ylabel('R2 Score')\n",
    "plt.title('R2 Scores by Year')\n",
    "\n"
   ]
  },
  {
   "cell_type": "code",
   "execution_count": null,
   "id": "theoretical-radar",
   "metadata": {},
   "outputs": [
    {
     "data": {
      "text/plain": [
       "Text(0.5, 1.0, 'Mean Squared Error by Year')"
      ]
     },
     "execution_count": 44,
     "metadata": {},
     "output_type": "execute_result"
    },
    {
     "data": {
      "image/png": "[encoded data removed]",
      "text/plain": [
       "<Figure size 432x288 with 1 Axes>"
      ]
     },
     "metadata": {
      "needs_background": "light"
     },
     "output_type": "display_data"
    }
   ],
   "source": [
    "plt.plot(years, MSEs, label='Out of Sample')\n",
    "plt.plot(years_in_sample, MSEs_in_sample, label='In Sample')\n",
    "plt.legend()\n",
    "plt.xlabel('Year')\n",
    "plt.ylabel('MSE')\n",
    "plt.title('Mean Squared Error by Year')"
   ]
  },
  {
   "cell_type": "code",
   "execution_count": null,
   "id": "atlantic-awareness",
   "metadata": {},
   "outputs": [
    {
     "data": {
      "text/plain": [
       "<matplotlib.legend.Legend at 0x7fe2b4bf5eb0>"
      ]
     },
     "execution_count": 46,
     "metadata": {},
     "output_type": "execute_result"
    },
    {
     "data": {
      "image/png": "[encoded data removed]",
      "text/plain": [
       "<Figure size 432x288 with 1 Axes>"
      ]
     },
     "metadata": {
      "needs_background": "light"
     },
     "output_type": "display_data"
    }
   ],
   "source": [
    "plt.axis([None, None, 0, 0.3])\n",
    "plt.plot(years, [feature_importances[i][:5] for i in range(len(feature_importances))])\n",
    "plt.legend(cov_forest[:5])"
   ]
  },
  {
   "cell_type": "code",
   "execution_count": null,
   "id": "informative-magnet",
   "metadata": {},
   "outputs": [
    {
     "data": {
      "text/plain": [
       "<matplotlib.legend.Legend at 0x7fe2c45d0850>"
      ]
     },
     "execution_count": 47,
     "metadata": {},
     "output_type": "execute_result"
    },
    {
     "data": {
      "image/png": "[encoded data removed]",
      "text/plain": [
       "<Figure size 432x288 with 1 Axes>"
      ]
     },
     "metadata": {
      "needs_background": "light"
     },
     "output_type": "display_data"
    }
   ],
   "source": [
    "plt.axis([None, None, 0, 0.3])\n",
    "plt.plot(years, [feature_importances[i][5:10] for i in range(len(feature_importances))])\n",
    "plt.legend(cov_forest[5:10])"
   ]
  },
  {
   "cell_type": "code",
   "execution_count": null,
   "id": "republican-contemporary",
   "metadata": {},
   "outputs": [
    {
     "data": {
      "text/plain": [
       "<matplotlib.legend.Legend at 0x7fe2d11f2c10>"
      ]
     },
     "execution_count": 48,
     "metadata": {},
     "output_type": "execute_result"
    },
    {
     "data": {
      "image/png": "[encoded data removed]",
      "text/plain": [
       "<Figure size 432x288 with 1 Axes>"
      ]
     },
     "metadata": {
      "needs_background": "light"
     },
     "output_type": "display_data"
    }
   ],
   "source": [
    "plt.axis([None, None, 0, 0.3])\n",
    "plt.plot(years, [feature_importances[i][10:20] for i in range(len(feature_importances))])\n",
    "plt.legend(cov_forest[10:20])"
   ]
  },
  {
   "cell_type": "code",
   "execution_count": null,
   "id": "dense-benchmark",
   "metadata": {},
   "outputs": [
    {
     "data": {
      "text/plain": [
       "<matplotlib.legend.Legend at 0x7fe2c1bc9df0>"
      ]
     },
     "execution_count": 49,
     "metadata": {},
     "output_type": "execute_result"
    },
    {
     "data": {
      "image/png": "[encoded data removed]",
      "text/plain": [
       "<Figure size 432x288 with 1 Axes>"
      ]
     },
     "metadata": {
      "needs_background": "light"
     },
     "output_type": "display_data"
    }
   ],
   "source": [
    "plt.axis([None, None, 0, 0.3])\n",
    "\n",
    "plt.plot(years, [feature_importances[i][20:30] for i in range(len(feature_importances))])\n",
    "plt.legend(cov_forest[20:30])"
   ]
  },
  {
   "cell_type": "code",
   "execution_count": null,
   "id": "eight-ballot",
   "metadata": {},
   "outputs": [
    {
     "data": {
      "text/plain": [
       "<matplotlib.legend.Legend at 0x7fe29d38beb0>"
      ]
     },
     "execution_count": 50,
     "metadata": {},
     "output_type": "execute_result"
    },
    {
     "data": {
      "image/png": "[encoded data removed]",
      "text/plain": [
       "<Figure size 432x288 with 1 Axes>"
      ]
     },
     "metadata": {
      "needs_background": "light"
     },
     "output_type": "display_data"
    }
   ],
   "source": [
    "plt.axis([None, None, 0, 0.3])\n",
    "plt.plot(years, [feature_importances[i][30:] for i in range(len(feature_importances))])\n",
    "plt.legend(cov_forest[30:])"
   ]
  }
 ],
 "metadata": {
  "interpreter": {
   "hash": "916dbcbb3f70747c44a77c7bcd40155683ae19c65e1c03b4aa3499c5328201f1"
  },
  "kernelspec": {
   "display_name": "Python 3 (ipykernel)",
   "language": "python",
   "name": "python3"
  },
  "language_info": {
   "codemirror_mode": {
    "name": "ipython",
    "version": 3
   },
   "file_extension": ".py",
   "mimetype": "text/x-python",
   "name": "python",
   "nbconvert_exporter": "python",
   "pygments_lexer": "ipython3",
   "version": "3.9.7"
  }
 },
 "nbformat": 4,
 "nbformat_minor": 5
}
