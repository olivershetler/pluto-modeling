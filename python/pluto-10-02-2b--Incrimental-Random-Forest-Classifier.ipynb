{
 "cells": [
  {
   "cell_type": "code",
   "execution_count": 4,
   "id": "authentic-glenn",
   "metadata": {},
   "outputs": [],
   "source": [
    "import pandas as pd\n",
    "import numpy as np\n",
    "from sklearn.ensemble import RandomForestClassifier\n",
    "from sklearn.linear_model import LinearRegression\n",
    "from sklearn.model_selection import train_test_split\n",
    "from sklearn.feature_selection import SelectFromModel\n",
    "from sklearn.metrics import accuracy_score, confusion_matrix, classification_report, mean_absolute_error, mean_squared_error, r2_score\n",
    "from sklearn.metrics import precision_recall_fscore_support as scores\n",
    "from statistics import variance\n",
    "import matplotlib.pyplot as plt\n",
    "\n",
    "import psycopg2\n",
    "import pandas.io.sql as sqlio\n",
    "import psycopg2.extras\n"
   ]
  },
  {
   "cell_type": "code",
   "execution_count": 5,
   "id": "compressed-livestock",
   "metadata": {},
   "outputs": [],
   "source": [
    "# Establish a connection to the PLUTO database\n",
    "try:\n",
    "    conn = psycopg2.connect(\"dbname='pluto' user='oliver' host='localhost' password='m'\")\n",
    "except:\n",
    "    print(\"I am unable to connect to the database\")\n",
    "\n",
    "# Create a cursor object for executing queries\n",
    "conn.autocommit = True\n",
    "cur = conn.cursor()"
   ]
  },
  {
   "cell_type": "code",
   "execution_count": 6,
   "id": "unlikely-spanish",
   "metadata": {},
   "outputs": [],
   "source": [
    "    cov_forest = [\n",
    "    'xcoord'\n",
    "    ,'ycoord'\n",
    "    ,'age'\n",
    "    ,'build_alter_gap'\n",
    "    ,'alterage'      \n",
    "    ,'elevator'\n",
    "    ,'commercial'\n",
    "    ,'garage'\n",
    "    ,'storage'\n",
    "    ,'basement'\n",
    "    ,'waterfront'\n",
    "    ,'frontage'\n",
    "    ,'block_assmeblage'\n",
    "    ,'cooperative'\n",
    "    ,'conv_loft_wh'\n",
    "    ,'tenament'\n",
    "    ,'garden'\n",
    "    ,'semi_fireproof'\n",
    "    ,'fireproof'\n",
    "    ,'luxury'\n",
    "    ,'artist_res'\n",
    "    ,'units_per_building'\n",
    "    ,'floors'\n",
    "    ,'zip_avg_num_buildings'\n",
    "    ,'pcvpu_l1'\n",
    "    ,'pcvpu_l2'\n",
    "    ,'pcvpu_l3'\n",
    "    ,'avg_block_pcvpu_l1'\n",
    "    ,'avg_block_pcvpu_l2'\n",
    "    ,'avg_block_pcvpu_l3'\n",
    "    ,'avg_neighbor1_pcvpu_l1'\n",
    "    ,'avg_neighbor1_pcvpu_l2'\n",
    "    ,'avg_neighbor1_pcvpu_l3'\n",
    "    ,'avg_neighbor2_pcvpu_l1'\n",
    "    ,'avg_neighbor2_pcvpu_l2'\n",
    "    ,'avg_neighbor2_pcvpu_l3'\n",
    "    ,'avg_neighbor3_pcvpu_l1'\n",
    "    ,'avg_neighbor3_pcvpu_l2'\n",
    "    ,'avg_neighbor3_pcvpu_l3'\n",
    "    ,'avg_neighbor4_pcvpu_l1'\n",
    "    ,'avg_neighbor4_pcvpu_l2'\n",
    "    ,'avg_neighbor4_pcvpu_l3'\n",
    "    ,'avg_zip_pcvpu_l1'\n",
    "    ,'avg_zip_pcvpu_l2'\n",
    "    ,'avg_zip_pcvpu_l3'\n",
    "    ]"
   ]
  },
  {
   "cell_type": "code",
   "execution_count": 7,
   "id": "polar-residence",
   "metadata": {},
   "outputs": [],
   "source": [
    "# Commands to select data from each year\n",
    "sql_2008 = \"\"\"SELECT * \n",
    "         FROM pluto_disc\n",
    "         WHERE year = 2008\n",
    "         \"\"\"\n",
    "sql_2009 = \"\"\"SELECT * \n",
    "         FROM pluto_disc\n",
    "         WHERE year = 2009\n",
    "         \"\"\"\n",
    "sql_2010 = \"\"\"SELECT * \n",
    "         FROM pluto_disc\n",
    "         WHERE year = 2010\n",
    "         \"\"\"\n",
    "sql_2010 = \"\"\"SELECT * \n",
    "         FROM pluto_disc\n",
    "         WHERE year = 2010\n",
    "         \"\"\"\n",
    "sql_2011 = \"\"\"SELECT * \n",
    "         FROM pluto_disc\n",
    "         WHERE year = 2011\n",
    "         \"\"\"\n",
    "sql_2012 = \"\"\"SELECT * \n",
    "         FROM pluto_disc\n",
    "         WHERE year = 2012\n",
    "         \"\"\"\n",
    "sql_2013 = \"\"\"SELECT * \n",
    "         FROM pluto_disc\n",
    "         WHERE year = 2013\n",
    "         \"\"\"\n",
    "sql_2014 = \"\"\"SELECT * \n",
    "         FROM pluto_disc\n",
    "         WHERE year = 2014\n",
    "         \"\"\"\n",
    "sql_2015 = \"\"\"SELECT * \n",
    "         FROM pluto_disc\n",
    "         WHERE year = 2015\n",
    "         \"\"\"\n",
    "sql_2016 = \"\"\"SELECT * \n",
    "         FROM pluto_disc\n",
    "         WHERE year = 2016\n",
    "         \"\"\"\n",
    "sql_2017 = \"\"\"SELECT * \n",
    "         FROM pluto_disc\n",
    "         WHERE year = 2017\n",
    "         \"\"\"\n",
    "sql_2018 = \"\"\"SELECT * \n",
    "         FROM pluto_disc\n",
    "         WHERE year = 2018\n",
    "         \"\"\"\n",
    "sql_2019 = \"\"\"SELECT * \n",
    "         FROM pluto_disc\n",
    "         WHERE year = 2019\n",
    "         \"\"\"\n",
    "sql_2020 = \"\"\"SELECT * \n",
    "         FROM pluto_disc\n",
    "         WHERE year = 2020\n",
    "         \"\"\""
   ]
  },
  {
   "cell_type": "code",
   "execution_count": 8,
   "id": "pregnant-victory",
   "metadata": {},
   "outputs": [],
   "source": [
    "# Function for creating dataframes from a SQL query\n",
    "def get_data(sql_train, sql_test, cov_forest):\n",
    "    \"\"\"\n",
    "    Function to return data from a train and test SQL query\n",
    "    \"\"\"\n",
    "    global df_train, df_test, X_train, X_test, y_train, y_test, covariates\n",
    "\n",
    "    # List of columns to be used as covariates in the model\n",
    "\n",
    "    df_train = sqlio.read_sql_query(sql_train, conn).dropna()\n",
    "    df_test = sqlio.read_sql_query(sql_test, conn).dropna()\n",
    "\n",
    "    covariates = df_train.columns.intersection(cov_forest)\n",
    "\n",
    "    X_train = df_train[covariates]\n",
    "    y_train = df_train['pcvpu_target']\n",
    "\n",
    "    X_test = df_test[covariates]\n",
    "    y_test = df_test['pcvpu_target']\n",
    "    return df_train, df_test, X_train, X_test, y_train, y_test"
   ]
  },
  {
   "cell_type": "code",
   "execution_count": 9,
   "id": "sudden-validation",
   "metadata": {},
   "outputs": [],
   "source": [
    "# Create a random forest classifier object\n",
    "# warm_start = True allows the model to be trained on new data without having to retrain the entire model\n",
    "rf = RandomForestClassifier(warm_start=True, n_estimators=100, max_depth=100, random_state=0)"
   ]
  },
  {
   "cell_type": "code",
   "execution_count": 10,
   "id": "impressive-creek",
   "metadata": {},
   "outputs": [],
   "source": [
    "# Set up empty lists to store the results of the model for each year\n",
    "\n",
    "MAEs = [] ## Mean Absolute Error, list of numbers (out of sample)\n",
    "R2s = []  ## R2 score, list of numbers (out of sample)\n",
    "accuracies = [] ## Accuracy, list of numbers (out of sample)\n",
    "precisions = [] ## Precision scores for each class, list of lists (out of sample)\n",
    "recalls = [] ## Recall scores for each class, list of lists (out of sample)\n",
    "f1scores = [] ## F1 score for each class, list of lists (out of sample)\n",
    "supports = [] ## Support scores for each class, list of lists (out of sample)\n",
    "\n",
    "feature_importances = [] ## Feature importances, list of lists\n",
    "\n",
    "MAEs_in_sample = [] ## Mean Absolute Error, list of numbers (in sample)\n",
    "R2s_in_sample = []  ## R2 score, list of numbers (in sample)\n",
    "accuracies_in_sample = [] ## Accuracy, list of numbers (in sample)\n",
    "precisions_in_sample = [] ## Precision scores for each class, list of lists (in sample)\n",
    "recalls_in_sample = [] ## Recall scores for each class, list of lists (in sample)\n",
    "f1scores_in_sample = [] ## F1 score for each class, list of lists (in sample)\n",
    "supports_in_sample = [] ## Support scores for each class, list of lists (in sample)\n",
    "\n",
    "def update_reports():\n",
    "    \"\"\"\n",
    "    Function to update the reports for each year\n",
    "    \"\"\"\n",
    "    print('Updating Out of Sample Reports')\n",
    "    print(classification_report(y_test, y_pred))\n",
    "    precision, recall, f1score, support = scores(y_test, y_pred)\n",
    "    precisions.append(precision)\n",
    "    recalls.append(recall)\n",
    "    f1scores.append(f1score)\n",
    "    supports.append(support)\n",
    "    accuracies.append(accuracy_score(y_test, y_pred))\n",
    "    MAEs.append(mean_absolute_error(y_test, y_pred))\n",
    "    R2s.append(r2_score(y_test, y_pred))\n",
    "\n",
    "    print('Updating In Sample Reports')\n",
    "    print(classification_report(y_train, y_pred_in_sample))\n",
    "    precision_in_sample, recall_in_sample ,f1score_in_sample, support_in_sample = scores(y_train, y_pred_in_sample)\n",
    "    precisions_in_sample.append(precision_in_sample)\n",
    "    recalls_in_sample.append(recall_in_sample)\n",
    "    f1scores_in_sample.append(f1score_in_sample)\n",
    "    supports_in_sample.append(support_in_sample)\n",
    "    accuracies_in_sample.append(accuracy_score(y_train, y_pred_in_sample))\n",
    "    MAEs_in_sample.append(mean_absolute_error(y_train, y_pred_in_sample))\n",
    "    R2s_in_sample.append(r2_score(y_train, y_pred_in_sample))\n",
    "\n",
    "    print('Updating Feature Importances')\n",
    "    feature_importances.append(pd.Series(rf.feature_importances_, index=cov_forest))\n"
   ]
  },
  {
   "cell_type": "code",
   "execution_count": 11,
   "id": "racial-stress",
   "metadata": {},
   "outputs": [],
   "source": [
    "# get data from 2008 and 2009\n",
    "df_train, df_test, X_train, X_test, y_train, y_test = get_data(sql_2008, sql_2009, cov_forest)\n"
   ]
  },
  {
   "cell_type": "code",
   "execution_count": 12,
   "id": "recognized-cream",
   "metadata": {},
   "outputs": [
    {
     "data": {
      "text/plain": [
       "RandomForestClassifier(max_depth=100, random_state=0, warm_start=True)"
      ]
     },
     "execution_count": 12,
     "metadata": {},
     "output_type": "execute_result"
    }
   ],
   "source": [
    "# fit the model for 2008 and 2009\n",
    "rf.fit(X_train,y_train)"
   ]
  },
  {
   "cell_type": "code",
   "execution_count": 13,
   "id": "original-company",
   "metadata": {},
   "outputs": [],
   "source": [
    "# Make in and out of sample predictions\n",
    "y_pred = rf.predict(X_test)\n",
    "y_pred_in_sample = rf.predict(X_train)"
   ]
  },
  {
   "cell_type": "code",
   "execution_count": 14,
   "id": "improving-mouth",
   "metadata": {},
   "outputs": [
    {
     "name": "stdout",
     "output_type": "stream",
     "text": [
      "Updating Out of Sample Reports\n",
      "              precision    recall  f1-score   support\n",
      "\n",
      "           0       0.59      0.72      0.65     19654\n",
      "           1       0.78      0.78      0.78     56098\n",
      "           2       0.83      0.83      0.83     63793\n",
      "           3       0.30      0.06      0.10      5531\n",
      "\n",
      "    accuracy                           0.77    145076\n",
      "   macro avg       0.62      0.60      0.59    145076\n",
      "weighted avg       0.76      0.77      0.76    145076\n",
      "\n",
      "Updating In Sample Reports\n",
      "              precision    recall  f1-score   support\n",
      "\n",
      "           0       1.00      1.00      1.00     16031\n",
      "           1       1.00      1.00      1.00     45689\n",
      "           2       1.00      1.00      1.00     75018\n",
      "           3       1.00      1.00      1.00      6601\n",
      "\n",
      "    accuracy                           1.00    143339\n",
      "   macro avg       1.00      1.00      1.00    143339\n",
      "weighted avg       1.00      1.00      1.00    143339\n",
      "\n",
      "Updating Feature Importances\n"
     ]
    }
   ],
   "source": [
    "# update all the report series\n",
    "update_reports()"
   ]
  },
  {
   "cell_type": "code",
   "execution_count": 15,
   "id": "careful-strengthening",
   "metadata": {},
   "outputs": [],
   "source": [
    "# get data for the next year\n",
    "df_train, df_test, X_train, X_test, y_train, y_test = get_data(sql_2009, sql_2010, cov_forest)"
   ]
  },
  {
   "cell_type": "code",
   "execution_count": 16,
   "id": "useful-constitution",
   "metadata": {},
   "outputs": [
    {
     "data": {
      "text/plain": [
       "RandomForestClassifier(max_depth=100, n_estimators=200, random_state=0,\n",
       "                       warm_start=True)"
      ]
     },
     "execution_count": 16,
     "metadata": {},
     "output_type": "execute_result"
    }
   ],
   "source": [
    "# expand the number of trees and then fit to the next year\n",
    "rf.n_estimators += 100\n",
    "rf.fit(X_train,y_train)"
   ]
  },
  {
   "cell_type": "code",
   "execution_count": 17,
   "id": "seventh-blink",
   "metadata": {},
   "outputs": [],
   "source": [
    "y_pred = rf.predict(X_test)\n",
    "y_pred_in_sample = rf.predict(X_train)"
   ]
  },
  {
   "cell_type": "code",
   "execution_count": 18,
   "id": "portuguese-opportunity",
   "metadata": {},
   "outputs": [
    {
     "name": "stdout",
     "output_type": "stream",
     "text": [
      "Updating Out of Sample Reports\n",
      "              precision    recall  f1-score   support\n",
      "\n",
      "           0       0.25      0.45      0.33     14026\n",
      "           1       0.83      0.79      0.81     65196\n",
      "           2       0.74      0.79      0.77     56957\n",
      "           3       0.42      0.01      0.02     12673\n",
      "\n",
      "    accuracy                           0.69    148852\n",
      "   macro avg       0.56      0.51      0.48    148852\n",
      "weighted avg       0.71      0.69      0.68    148852\n",
      "\n",
      "Updating In Sample Reports\n",
      "              precision    recall  f1-score   support\n",
      "\n",
      "           0       0.96      0.94      0.95     19654\n",
      "           1       0.96      0.97      0.97     56098\n",
      "           2       0.96      0.98      0.97     63793\n",
      "           3       1.00      0.82      0.90      5531\n",
      "\n",
      "    accuracy                           0.96    145076\n",
      "   macro avg       0.97      0.93      0.95    145076\n",
      "weighted avg       0.96      0.96      0.96    145076\n",
      "\n",
      "Updating Feature Importances\n"
     ]
    }
   ],
   "source": [
    "# update all the report series\n",
    "update_reports()"
   ]
  },
  {
   "cell_type": "code",
   "execution_count": 19,
   "id": "relevant-center",
   "metadata": {},
   "outputs": [],
   "source": [
    "# get data for the next year\n",
    "df_train, df_test, X_train, X_test, y_train, y_test = get_data(sql_2010, sql_2011, cov_forest)"
   ]
  },
  {
   "cell_type": "code",
   "execution_count": 20,
   "id": "front-verification",
   "metadata": {},
   "outputs": [
    {
     "data": {
      "text/plain": [
       "RandomForestClassifier(max_depth=100, n_estimators=300, random_state=0,\n",
       "                       warm_start=True)"
      ]
     },
     "execution_count": 20,
     "metadata": {},
     "output_type": "execute_result"
    }
   ],
   "source": [
    "# expand the number of trees and then fit to the next year\n",
    "rf.n_estimators += 100\n",
    "rf.fit(X_train,y_train)"
   ]
  },
  {
   "cell_type": "code",
   "execution_count": 21,
   "id": "indian-mitchell",
   "metadata": {},
   "outputs": [],
   "source": [
    "y_pred = rf.predict(X_test)\n",
    "y_pred_in_sample = rf.predict(X_train)"
   ]
  },
  {
   "cell_type": "code",
   "execution_count": 22,
   "id": "confirmed-hypothesis",
   "metadata": {},
   "outputs": [
    {
     "name": "stdout",
     "output_type": "stream",
     "text": [
      "Updating Out of Sample Reports\n",
      "              precision    recall  f1-score   support\n",
      "\n",
      "           0       0.25      0.37      0.30     15426\n",
      "           1       0.91      0.32      0.47    128361\n",
      "           2       0.01      0.14      0.01      3039\n",
      "           3       0.10      0.11      0.10      3339\n",
      "\n",
      "    accuracy                           0.32    150165\n",
      "   macro avg       0.32      0.23      0.22    150165\n",
      "weighted avg       0.80      0.32      0.44    150165\n",
      "\n",
      "Updating In Sample Reports\n",
      "              precision    recall  f1-score   support\n",
      "\n",
      "           0       0.58      0.67      0.62     14026\n",
      "           1       0.94      0.92      0.93     65196\n",
      "           2       0.88      0.93      0.90     56957\n",
      "           3       1.00      0.69      0.82     12673\n",
      "\n",
      "    accuracy                           0.88    148852\n",
      "   macro avg       0.85      0.80      0.82    148852\n",
      "weighted avg       0.89      0.88      0.88    148852\n",
      "\n",
      "Updating Feature Importances\n"
     ]
    }
   ],
   "source": [
    "# update all the report series\n",
    "update_reports()"
   ]
  },
  {
   "cell_type": "code",
   "execution_count": 23,
   "id": "french-machinery",
   "metadata": {},
   "outputs": [],
   "source": [
    "# get data for the next year\n",
    "df_train, df_test, X_train, X_test, y_train, y_test = get_data(sql_2011, sql_2012, cov_forest)"
   ]
  },
  {
   "cell_type": "code",
   "execution_count": 24,
   "id": "dramatic-rotation",
   "metadata": {},
   "outputs": [
    {
     "data": {
      "text/plain": [
       "RandomForestClassifier(max_depth=100, n_estimators=400, random_state=0,\n",
       "                       warm_start=True)"
      ]
     },
     "execution_count": 24,
     "metadata": {},
     "output_type": "execute_result"
    }
   ],
   "source": [
    "# expand the number of trees and then fit to the next year\n",
    "rf.n_estimators += 100\n",
    "rf.fit(X_train,y_train)"
   ]
  },
  {
   "cell_type": "code",
   "execution_count": 25,
   "id": "expressed-hypothetical",
   "metadata": {},
   "outputs": [],
   "source": [
    "y_pred = rf.predict(X_test)\n",
    "y_pred_in_sample = rf.predict(X_train)"
   ]
  },
  {
   "cell_type": "code",
   "execution_count": 26,
   "id": "verified-insert",
   "metadata": {},
   "outputs": [
    {
     "name": "stdout",
     "output_type": "stream",
     "text": [
      "Updating Out of Sample Reports\n",
      "              precision    recall  f1-score   support\n",
      "\n",
      "           0       0.18      0.35      0.23     11697\n",
      "           1       0.63      0.76      0.69     51325\n",
      "           2       0.87      0.74      0.80     77885\n",
      "           3       0.27      0.01      0.02     10654\n",
      "\n",
      "    accuracy                           0.66    151561\n",
      "   macro avg       0.49      0.46      0.44    151561\n",
      "weighted avg       0.69      0.66      0.66    151561\n",
      "\n",
      "Updating In Sample Reports\n",
      "              precision    recall  f1-score   support\n",
      "\n",
      "           0       0.69      0.68      0.69     15426\n",
      "           1       0.97      0.54      0.69    128361\n",
      "           2       0.03      0.67      0.06      3039\n",
      "           3       0.99      0.73      0.84      3339\n",
      "\n",
      "    accuracy                           0.56    150165\n",
      "   macro avg       0.67      0.65      0.57    150165\n",
      "weighted avg       0.92      0.56      0.68    150165\n",
      "\n",
      "Updating Feature Importances\n"
     ]
    }
   ],
   "source": [
    "# update all the report series\n",
    "update_reports()"
   ]
  },
  {
   "cell_type": "code",
   "execution_count": 27,
   "id": "running-setting",
   "metadata": {},
   "outputs": [],
   "source": [
    "# get data for the next year\n",
    "df_train, df_test, X_train, X_test, y_train, y_test = get_data(sql_2012, sql_2013, cov_forest)"
   ]
  },
  {
   "cell_type": "code",
   "execution_count": 28,
   "id": "collected-transsexual",
   "metadata": {},
   "outputs": [
    {
     "data": {
      "text/plain": [
       "RandomForestClassifier(max_depth=100, n_estimators=500, random_state=0,\n",
       "                       warm_start=True)"
      ]
     },
     "execution_count": 28,
     "metadata": {},
     "output_type": "execute_result"
    }
   ],
   "source": [
    "# expand the number of trees and then fit to the next year\n",
    "rf.n_estimators += 100\n",
    "rf.fit(X_train,y_train)"
   ]
  },
  {
   "cell_type": "code",
   "execution_count": 29,
   "id": "mobile-monkey",
   "metadata": {},
   "outputs": [],
   "source": [
    "y_pred = rf.predict(X_test)\n",
    "y_pred_in_sample = rf.predict(X_train)"
   ]
  },
  {
   "cell_type": "code",
   "execution_count": 30,
   "id": "powered-charm",
   "metadata": {},
   "outputs": [
    {
     "name": "stdout",
     "output_type": "stream",
     "text": [
      "Updating Out of Sample Reports\n",
      "              precision    recall  f1-score   support\n",
      "\n",
      "           0       0.26      0.33      0.29     14892\n",
      "           1       0.64      0.64      0.64     50865\n",
      "           2       0.77      0.85      0.81     74913\n",
      "           3       0.44      0.04      0.07     12179\n",
      "\n",
      "    accuracy                           0.67    152849\n",
      "   macro avg       0.53      0.46      0.45    152849\n",
      "weighted avg       0.65      0.67      0.64    152849\n",
      "\n",
      "Updating In Sample Reports\n",
      "              precision    recall  f1-score   support\n",
      "\n",
      "           0       0.58      0.62      0.60     11697\n",
      "           1       0.87      0.95      0.91     51325\n",
      "           2       0.95      0.91      0.93     77885\n",
      "           3       1.00      0.74      0.85     10654\n",
      "\n",
      "    accuracy                           0.89    151561\n",
      "   macro avg       0.85      0.81      0.82    151561\n",
      "weighted avg       0.90      0.89      0.89    151561\n",
      "\n",
      "Updating Feature Importances\n"
     ]
    }
   ],
   "source": [
    "# update all the report series\n",
    "update_reports()"
   ]
  },
  {
   "cell_type": "code",
   "execution_count": 31,
   "id": "limiting-retrieval",
   "metadata": {},
   "outputs": [
    {
     "name": "stdout",
     "output_type": "stream",
     "text": [
      "Updating Out of Sample Reports\n",
      "              precision    recall  f1-score   support\n",
      "\n",
      "           0       0.11      0.56      0.19      3813\n",
      "           1       0.73      0.68      0.71     62233\n",
      "           2       0.78      0.79      0.79     71827\n",
      "           3       0.53      0.09      0.16     15432\n",
      "\n",
      "    accuracy                           0.67    153305\n",
      "   macro avg       0.54      0.53      0.46    153305\n",
      "weighted avg       0.72      0.67      0.68    153305\n",
      "\n",
      "Updating In Sample Reports\n",
      "              precision    recall  f1-score   support\n",
      "\n",
      "           0       0.69      0.65      0.67     14892\n",
      "           1       0.87      0.83      0.85     50865\n",
      "           2       0.86      0.94      0.90     74913\n",
      "           3       0.99      0.68      0.81     12179\n",
      "\n",
      "    accuracy                           0.85    152849\n",
      "   macro avg       0.85      0.77      0.81    152849\n",
      "weighted avg       0.86      0.85      0.85    152849\n",
      "\n",
      "Updating Feature Importances\n"
     ]
    }
   ],
   "source": [
    "# get data for the next year\n",
    "df_train, df_test, X_train, X_test, y_train, y_test = get_data(sql_2013, sql_2014, cov_forest)\n",
    "# expand the number of trees and then fit to the next year\n",
    "rf.n_estimators += 100\n",
    "rf.fit(X_train,y_train)\n",
    "# make predictions for the next year\n",
    "y_pred = rf.predict(X_test)\n",
    "y_pred_in_sample = rf.predict(X_train)\n",
    "# update all the report series\n",
    "update_reports()"
   ]
  },
  {
   "cell_type": "code",
   "execution_count": 32,
   "id": "accurate-occupation",
   "metadata": {},
   "outputs": [
    {
     "name": "stdout",
     "output_type": "stream",
     "text": [
      "Updating Out of Sample Reports\n",
      "              precision    recall  f1-score   support\n",
      "\n",
      "           0       0.15      0.26      0.19      8551\n",
      "           1       0.75      0.86      0.80     67924\n",
      "           2       0.86      0.76      0.81     63672\n",
      "           3       0.44      0.18      0.25     13906\n",
      "\n",
      "    accuracy                           0.72    154053\n",
      "   macro avg       0.55      0.51      0.51    154053\n",
      "weighted avg       0.73      0.72      0.72    154053\n",
      "\n",
      "Updating In Sample Reports\n",
      "              precision    recall  f1-score   support\n",
      "\n",
      "           0       0.37      0.83      0.51      3813\n",
      "           1       0.91      0.88      0.89     62233\n",
      "           2       0.89      0.91      0.90     71827\n",
      "           3       0.97      0.72      0.82     15432\n",
      "\n",
      "    accuracy                           0.87    153305\n",
      "   macro avg       0.78      0.83      0.78    153305\n",
      "weighted avg       0.89      0.87      0.88    153305\n",
      "\n",
      "Updating Feature Importances\n"
     ]
    }
   ],
   "source": [
    "# get data for the next year\n",
    "df_train, df_test, X_train, X_test, y_train, y_test = get_data(sql_2014, sql_2015, cov_forest)\n",
    "# expand the number of trees and then fit to the next year\n",
    "rf.n_estimators += 100\n",
    "rf.fit(X_train,y_train)\n",
    "# make predictions for the next year\n",
    "y_pred = rf.predict(X_test)\n",
    "y_pred_in_sample = rf.predict(X_train)\n",
    "# update all the report series\n",
    "update_reports()"
   ]
  },
  {
   "cell_type": "code",
   "execution_count": 33,
   "id": "proper-stone",
   "metadata": {},
   "outputs": [
    {
     "name": "stdout",
     "output_type": "stream",
     "text": [
      "Updating Out of Sample Reports\n",
      "              precision    recall  f1-score   support\n",
      "\n",
      "           0       0.10      0.20      0.13      5262\n",
      "           1       0.75      0.76      0.76     56597\n",
      "           2       0.88      0.81      0.85     81847\n",
      "           3       0.37      0.39      0.38     11251\n",
      "\n",
      "    accuracy                           0.74    154957\n",
      "   macro avg       0.53      0.54      0.53    154957\n",
      "weighted avg       0.77      0.74      0.76    154957\n",
      "\n",
      "Updating In Sample Reports\n",
      "              precision    recall  f1-score   support\n",
      "\n",
      "           0       0.51      0.49      0.50      8551\n",
      "           1       0.87      0.93      0.90     67924\n",
      "           2       0.90      0.88      0.89     63672\n",
      "           3       0.91      0.77      0.83     13906\n",
      "\n",
      "    accuracy                           0.87    154053\n",
      "   macro avg       0.80      0.77      0.78    154053\n",
      "weighted avg       0.87      0.87      0.87    154053\n",
      "\n",
      "Updating Feature Importances\n"
     ]
    }
   ],
   "source": [
    "# get data for the next year\n",
    "df_train, df_test, X_train, X_test, y_train, y_test = get_data(sql_2015, sql_2016, cov_forest)\n",
    "# expand the number of trees and then fit to the next year\n",
    "rf.n_estimators += 100\n",
    "rf.fit(X_train,y_train)\n",
    "# make predictions for the next year\n",
    "y_pred = rf.predict(X_test)\n",
    "y_pred_in_sample = rf.predict(X_train)\n",
    "# update all the report series\n",
    "update_reports()"
   ]
  },
  {
   "cell_type": "code",
   "execution_count": 34,
   "id": "overhead-withdrawal",
   "metadata": {},
   "outputs": [
    {
     "name": "stdout",
     "output_type": "stream",
     "text": [
      "Updating Out of Sample Reports\n",
      "              precision    recall  f1-score   support\n",
      "\n",
      "           0       0.10      0.12      0.11      4667\n",
      "           1       0.74      0.75      0.74     57630\n",
      "           2       0.87      0.82      0.85     81767\n",
      "           3       0.34      0.43      0.38     11150\n",
      "\n",
      "    accuracy                           0.75    155214\n",
      "   macro avg       0.51      0.53      0.52    155214\n",
      "weighted avg       0.76      0.75      0.75    155214\n",
      "\n",
      "Updating In Sample Reports\n",
      "              precision    recall  f1-score   support\n",
      "\n",
      "           0       0.48      0.48      0.48      5262\n",
      "           1       0.86      0.89      0.87     56597\n",
      "           2       0.92      0.88      0.90     81847\n",
      "           3       0.74      0.82      0.78     11251\n",
      "\n",
      "    accuracy                           0.86    154957\n",
      "   macro avg       0.75      0.77      0.76    154957\n",
      "weighted avg       0.87      0.86      0.87    154957\n",
      "\n",
      "Updating Feature Importances\n"
     ]
    }
   ],
   "source": [
    "# get data for the next year\n",
    "df_train, df_test, X_train, X_test, y_train, y_test = get_data(sql_2016, sql_2017, cov_forest)\n",
    "# expand the number of trees and then fit to the next year\n",
    "rf.n_estimators += 100\n",
    "rf.fit(X_train,y_train)\n",
    "# make predictions for the next year\n",
    "y_pred = rf.predict(X_test)\n",
    "y_pred_in_sample = rf.predict(X_train)\n",
    "# update all the report series\n",
    "update_reports()"
   ]
  },
  {
   "cell_type": "code",
   "execution_count": 35,
   "id": "attached-portable",
   "metadata": {},
   "outputs": [
    {
     "name": "stdout",
     "output_type": "stream",
     "text": [
      "Updating Out of Sample Reports\n",
      "              precision    recall  f1-score   support\n",
      "\n",
      "           0       1.00      0.02      0.05     90097\n",
      "           1       0.02      0.34      0.03      2978\n",
      "           2       0.02      0.67      0.05      2722\n",
      "           3       0.00      0.00      0.00     54260\n",
      "\n",
      "    accuracy                           0.03    150057\n",
      "   macro avg       0.26      0.26      0.03    150057\n",
      "weighted avg       0.60      0.03      0.03    150057\n",
      "\n",
      "Updating In Sample Reports\n",
      "              precision    recall  f1-score   support\n",
      "\n",
      "           0       0.56      0.35      0.43      4667\n",
      "           1       0.84      0.88      0.86     57630\n",
      "           2       0.90      0.88      0.89     81767\n",
      "           3       0.68      0.79      0.73     11150\n",
      "\n",
      "    accuracy                           0.86    155214\n",
      "   macro avg       0.75      0.72      0.73    155214\n",
      "weighted avg       0.86      0.86      0.85    155214\n",
      "\n",
      "Updating Feature Importances\n"
     ]
    }
   ],
   "source": [
    "# get data for the next year\n",
    "df_train, df_test, X_train, X_test, y_train, y_test = get_data(sql_2017, sql_2018, cov_forest)\n",
    "# expand the number of trees and then fit to the next year\n",
    "rf.n_estimators += 100\n",
    "rf.fit(X_train,y_train)\n",
    "# make predictions for the next year\n",
    "y_pred = rf.predict(X_test)\n",
    "y_pred_in_sample = rf.predict(X_train)\n",
    "# update all the report series\n",
    "update_reports()"
   ]
  },
  {
   "cell_type": "code",
   "execution_count": 36,
   "id": "national-jamaica",
   "metadata": {},
   "outputs": [
    {
     "name": "stdout",
     "output_type": "stream",
     "text": [
      "Updating Out of Sample Reports\n",
      "              precision    recall  f1-score   support\n",
      "\n",
      "           0       0.14      0.06      0.08     35174\n",
      "           1       0.18      0.34      0.23     33758\n",
      "           2       0.15      0.33      0.20     26029\n",
      "           3       0.17      0.04      0.07     55470\n",
      "\n",
      "    accuracy                           0.16    150431\n",
      "   macro avg       0.16      0.19      0.15    150431\n",
      "weighted avg       0.16      0.16      0.13    150431\n",
      "\n",
      "Updating In Sample Reports\n",
      "              precision    recall  f1-score   support\n",
      "\n",
      "           0       1.00      0.22      0.36     90097\n",
      "           1       0.02      0.36      0.04      2978\n",
      "           2       0.02      0.68      0.05      2722\n",
      "           3       0.01      0.00      0.00     54260\n",
      "\n",
      "    accuracy                           0.15    150057\n",
      "   macro avg       0.26      0.32      0.11    150057\n",
      "weighted avg       0.60      0.15      0.22    150057\n",
      "\n",
      "Updating Feature Importances\n"
     ]
    }
   ],
   "source": [
    "# get data for the next year\n",
    "df_train, df_test, X_train, X_test, y_train, y_test = get_data(sql_2018, sql_2019, cov_forest)\n",
    "# expand the number of trees and then fit to the next year\n",
    "rf.n_estimators += 100\n",
    "rf.fit(X_train,y_train)\n",
    "# make predictions for the next year\n",
    "y_pred = rf.predict(X_test)\n",
    "y_pred_in_sample = rf.predict(X_train)\n",
    "# update all the report series\n",
    "update_reports()"
   ]
  },
  {
   "cell_type": "code",
   "execution_count": 37,
   "id": "muslim-disney",
   "metadata": {},
   "outputs": [
    {
     "name": "stdout",
     "output_type": "stream",
     "text": [
      "Updating Out of Sample Reports\n",
      "              precision    recall  f1-score   support\n",
      "\n",
      "           0       0.93      0.14      0.24    100812\n",
      "           1       0.21      0.44      0.29     28247\n",
      "           2       0.09      0.69      0.15      8548\n",
      "           3       0.01      0.01      0.01     13573\n",
      "\n",
      "    accuracy                           0.21    151180\n",
      "   macro avg       0.31      0.32      0.17    151180\n",
      "weighted avg       0.67      0.21      0.22    151180\n",
      "\n",
      "Updating In Sample Reports\n",
      "              precision    recall  f1-score   support\n",
      "\n",
      "           0       0.54      0.16      0.25     35174\n",
      "           1       0.31      0.65      0.42     33758\n",
      "           2       0.21      0.49      0.30     26029\n",
      "           3       0.52      0.09      0.15     55470\n",
      "\n",
      "    accuracy                           0.30    150431\n",
      "   macro avg       0.40      0.35      0.28    150431\n",
      "weighted avg       0.42      0.30      0.26    150431\n",
      "\n",
      "Updating Feature Importances\n"
     ]
    }
   ],
   "source": [
    "# get data for the next year\n",
    "df_train, df_test, X_train, X_test, y_train, y_test = get_data(sql_2019, sql_2020, cov_forest)\n",
    "# expand the number of trees and then fit to the next year\n",
    "rf.n_estimators += 100\n",
    "rf.fit(X_train,y_train)\n",
    "# make predictions for the next year\n",
    "y_pred = rf.predict(X_test)\n",
    "y_pred_in_sample = rf.predict(X_train)\n",
    "# update all the report series\n",
    "update_reports()"
   ]
  },
  {
   "cell_type": "code",
   "execution_count": 59,
   "id": "formed-relations",
   "metadata": {},
   "outputs": [
    {
     "data": {
      "text/plain": [
       "Text(0.5, 1.0, 'Accuracy Score by Year')"
      ]
     },
     "execution_count": 59,
     "metadata": {},
     "output_type": "execute_result"
    },
    {
     "data": {
      "image/png": "[encoded data removed]",
      "text/plain": [
       "<Figure size 432x288 with 1 Axes>"
      ]
     },
     "metadata": {
      "needs_background": "light"
     },
     "output_type": "display_data"
    }
   ],
   "source": [
    "years = [2009, 2010, 2011, 2012, 2013, 2014, 2015, 2016, 2017, 2018, 2019, 2020]\n",
    "years_in_sample = [2008 ,2009, 2010, 2011, 2012, 2013, 2014, 2015, 2016, 2017, 2018, 2019]\n",
    "plt.plot(years, accuracies, label='Out of Sample')\n",
    "plt.plot(years_in_sample, accuracies_in_sample, label='In Sample')\n",
    "plt.legend()\n",
    "plt.xlabel('Year')\n",
    "plt.ylabel('Accuracy Score')\n",
    "plt.title('Accuracy Score by Year')"
   ]
  },
  {
   "cell_type": "code",
   "execution_count": 46,
   "id": "sticky-julian",
   "metadata": {},
   "outputs": [
    {
     "data": {
      "text/plain": [
       "Text(0.5, 1.0, 'Out of Sample F1 Scores by Year')"
      ]
     },
     "execution_count": 46,
     "metadata": {},
     "output_type": "execute_result"
    },
    {
     "data": {
      "image/png": "[encoded data removed]",
      "text/plain": [
       "<Figure size 432x288 with 1 Axes>"
      ]
     },
     "metadata": {
      "needs_background": "light"
     },
     "output_type": "display_data"
    }
   ],
   "source": [
    "plt.plot(years, f1scores)\n",
    "plt.legend(['Decrease','Small','Medium','Large'])\n",
    "plt.xlabel('Year')\n",
    "plt.ylabel('F1 Score')\n",
    "plt.title('Out of Sample F1 Scores by Year')"
   ]
  },
  {
   "cell_type": "code",
   "execution_count": 48,
   "id": "nutritional-immunology",
   "metadata": {},
   "outputs": [
    {
     "data": {
      "text/plain": [
       "Text(0.5, 1.0, 'In Sample F1 Scores by Year')"
      ]
     },
     "execution_count": 48,
     "metadata": {},
     "output_type": "execute_result"
    },
    {
     "data": {
      "image/png": "[encoded data removed]",
      "text/plain": [
       "<Figure size 432x288 with 1 Axes>"
      ]
     },
     "metadata": {
      "needs_background": "light"
     },
     "output_type": "display_data"
    }
   ],
   "source": [
    "plt.plot(years, f1scores_in_sample)\n",
    "plt.legend(['Decrease','Small','Medium','Large'])\n",
    "plt.xlabel('Year')\n",
    "plt.ylabel('F1 Score')\n",
    "plt.title('In Sample F1 Scores by Year')"
   ]
  },
  {
   "cell_type": "code",
   "execution_count": 54,
   "id": "vocal-virginia",
   "metadata": {},
   "outputs": [
    {
     "data": {
      "text/plain": [
       "<matplotlib.legend.Legend at 0x7effdbcc37f0>"
      ]
     },
     "execution_count": 54,
     "metadata": {},
     "output_type": "execute_result"
    },
    {
     "data": {
      "image/png": "[encoded data removed]",
      "text/plain": [
       "<Figure size 432x288 with 1 Axes>"
      ]
     },
     "metadata": {
      "needs_background": "light"
     },
     "output_type": "display_data"
    }
   ],
   "source": [
    "plt.axis([None, None, 0, 0.3])\n",
    "plt.plot(years, [feature_importances[i][0:5] for i in range(len(feature_importances))])\n",
    "plt.legend(cov_forest[0:5])"
   ]
  },
  {
   "cell_type": "code",
   "execution_count": 55,
   "id": "induced-david",
   "metadata": {},
   "outputs": [
    {
     "data": {
      "text/plain": [
       "<matplotlib.legend.Legend at 0x7effddc7eaf0>"
      ]
     },
     "execution_count": 55,
     "metadata": {},
     "output_type": "execute_result"
    },
    {
     "data": {
      "image/png": "[encoded data removed]",
      "text/plain": [
       "<Figure size 432x288 with 1 Axes>"
      ]
     },
     "metadata": {
      "needs_background": "light"
     },
     "output_type": "display_data"
    }
   ],
   "source": [
    "plt.axis([None, None, 0, 0.3])\n",
    "plt.plot(years, [feature_importances[i][5:10] for i in range(len(feature_importances))])\n",
    "plt.legend(cov_forest[5:10])"
   ]
  },
  {
   "cell_type": "code",
   "execution_count": 51,
   "id": "herbal-pipeline",
   "metadata": {},
   "outputs": [
    {
     "data": {
      "text/plain": [
       "<matplotlib.legend.Legend at 0x7effd2bdf7f0>"
      ]
     },
     "execution_count": 51,
     "metadata": {},
     "output_type": "execute_result"
    },
    {
     "data": {
      "image/png": "[encoded data removed]",
      "text/plain": [
       "<Figure size 432x288 with 1 Axes>"
      ]
     },
     "metadata": {
      "needs_background": "light"
     },
     "output_type": "display_data"
    }
   ],
   "source": [
    "plt.axis([None, None, 0, 0.3])\n",
    "plt.plot(years, [feature_importances[i][10:20] for i in range(len(feature_importances))])\n",
    "plt.legend(cov_forest[10:20])"
   ]
  },
  {
   "cell_type": "code",
   "execution_count": 52,
   "id": "everyday-bulgarian",
   "metadata": {},
   "outputs": [
    {
     "data": {
      "text/plain": [
       "<matplotlib.legend.Legend at 0x7effd50038e0>"
      ]
     },
     "execution_count": 52,
     "metadata": {},
     "output_type": "execute_result"
    },
    {
     "data": {
      "image/png": "[encoded data removed]",
      "text/plain": [
       "<Figure size 432x288 with 1 Axes>"
      ]
     },
     "metadata": {
      "needs_background": "light"
     },
     "output_type": "display_data"
    }
   ],
   "source": [
    "plt.axis([None, None, 0, 0.3])\n",
    "\n",
    "plt.plot(years, [feature_importances[i][20:30] for i in range(len(feature_importances))])\n",
    "plt.legend(cov_forest[20:30])"
   ]
  },
  {
   "cell_type": "code",
   "execution_count": 53,
   "id": "prescription-version",
   "metadata": {},
   "outputs": [
    {
     "data": {
      "text/plain": [
       "<matplotlib.legend.Legend at 0x7effd82699a0>"
      ]
     },
     "execution_count": 53,
     "metadata": {},
     "output_type": "execute_result"
    },
    {
     "data": {
      "image/png": "[encoded data removed]",
      "text/plain": [
       "<Figure size 432x288 with 1 Axes>"
      ]
     },
     "metadata": {
      "needs_background": "light"
     },
     "output_type": "display_data"
    }
   ],
   "source": [
    "plt.axis([None, None, 0, 0.3])\n",
    "plt.plot(years, [feature_importances[i][30:] for i in range(len(feature_importances))])\n",
    "plt.legend(cov_forest[30:])"
   ]
  }
 ],
 "metadata": {
  "interpreter": {
   "hash": "916dbcbb3f70747c44a77c7bcd40155683ae19c65e1c03b4aa3499c5328201f1"
  },
  "kernelspec": {
   "display_name": "Python 3 (ipykernel)",
   "language": "python",
   "name": "python3"
  },
  "language_info": {
   "codemirror_mode": {
    "name": "ipython",
    "version": 3
   },
   "file_extension": ".py",
   "mimetype": "text/x-python",
   "name": "python",
   "nbconvert_exporter": "python",
   "pygments_lexer": "ipython3",
   "version": "3.9.7"
  }
 },
 "nbformat": 4,
 "nbformat_minor": 5
}
