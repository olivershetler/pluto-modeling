{
 "cells": [
  {
   "cell_type": "code",
   "execution_count": 1,
   "source": [
    "import pandas as pd\n",
    "import numpy as np\n",
    "from xgboost import XGBRegressor\n",
    "from sklearn.model_selection import train_test_split\n",
    "from sklearn.feature_selection import SelectFromModel\n",
    "from sklearn.metrics import accuracy_score, confusion_matrix, classification_report, mean_absolute_error, mean_squared_error, r2_score\n",
    "from sklearn.metrics import precision_recall_fscore_support as scores\n",
    "from statistics import variance\n",
    "import matplotlib.pyplot as plt\n",
    "\n",
    "import psycopg2\n",
    "import pandas.io.sql as sqlio\n",
    "import psycopg2.extras\n"
   ],
   "outputs": [],
   "metadata": {}
  },
  {
   "cell_type": "code",
   "execution_count": 2,
   "source": [
    "# Establish a connection to the PLUTO database\n",
    "try:\n",
    "    conn = psycopg2.connect(\"dbname='pluto' user='oliver' host='localhost' password='m'\")\n",
    "except:\n",
    "    print(\"I am unable to connect to the database\")\n",
    "\n",
    "# Create a cursor object for executing queries\n",
    "conn.autocommit = True\n",
    "cur = conn.cursor()"
   ],
   "outputs": [],
   "metadata": {}
  },
  {
   "cell_type": "code",
   "execution_count": 3,
   "source": [
    "    cov = [\n",
    "    'xcoord'\n",
    "    ,'ycoord'\n",
    "    ,'age'\n",
    "    ,'build_alter_gap'\n",
    "    ,'alterage'      \n",
    "    ,'elevator'\n",
    "    ,'commercial'\n",
    "    ,'garage'\n",
    "    ,'storage'\n",
    "    ,'basement'\n",
    "    ,'waterfront'\n",
    "    ,'frontage'\n",
    "    ,'block_assmeblage'\n",
    "    ,'cooperative'\n",
    "    ,'conv_loft_wh'\n",
    "    ,'tenament'\n",
    "    ,'garden'\n",
    "    ,'semi_fireproof'\n",
    "    ,'fireproof'\n",
    "    ,'luxury'\n",
    "    ,'artist_res'\n",
    "    ,'units_per_building'\n",
    "    ,'floors'\n",
    "    ,'zip_avg_num_buildings'\n",
    "    ,'pcvpu_l1'\n",
    "    ,'pcvpu_l2'\n",
    "    ,'pcvpu_l3'\n",
    "    ,'avg_block_pcvpu_l1'\n",
    "    ,'avg_block_pcvpu_l2'\n",
    "    ,'avg_block_pcvpu_l3'\n",
    "    ,'avg_neighbor1_pcvpu_l1'\n",
    "    ,'avg_neighbor1_pcvpu_l2'\n",
    "    ,'avg_neighbor1_pcvpu_l3'\n",
    "    ,'avg_neighbor2_pcvpu_l1'\n",
    "    ,'avg_neighbor2_pcvpu_l2'\n",
    "    ,'avg_neighbor2_pcvpu_l3'\n",
    "    ,'avg_neighbor3_pcvpu_l1'\n",
    "    ,'avg_neighbor3_pcvpu_l2'\n",
    "    ,'avg_neighbor3_pcvpu_l3'\n",
    "    ,'avg_neighbor4_pcvpu_l1'\n",
    "    ,'avg_neighbor4_pcvpu_l2'\n",
    "    ,'avg_neighbor4_pcvpu_l3'\n",
    "    ,'avg_zip_pcvpu_l1'\n",
    "    ,'avg_zip_pcvpu_l2'\n",
    "    ,'avg_zip_pcvpu_l3'\n",
    "    ]"
   ],
   "outputs": [],
   "metadata": {}
  },
  {
   "cell_type": "code",
   "execution_count": 4,
   "source": [
    "# Commands to select data from each year\n",
    "sql_2008 = \"\"\"SELECT * \n",
    "         FROM pluto_sym\n",
    "         WHERE year = 2008\n",
    "         \"\"\"\n",
    "sql_2009 = \"\"\"SELECT * \n",
    "         FROM pluto_sym\n",
    "         WHERE year = 2009\n",
    "         \"\"\"\n",
    "sql_2010 = \"\"\"SELECT * \n",
    "         FROM pluto_sym\n",
    "         WHERE year = 2010\n",
    "         \"\"\"\n",
    "sql_2010 = \"\"\"SELECT * \n",
    "         FROM pluto_sym\n",
    "         WHERE year = 2010\n",
    "         \"\"\"\n",
    "sql_2011 = \"\"\"SELECT * \n",
    "         FROM pluto_sym\n",
    "         WHERE year = 2011\n",
    "         \"\"\"\n",
    "sql_2012 = \"\"\"SELECT * \n",
    "         FROM pluto_sym\n",
    "         WHERE year = 2012\n",
    "         \"\"\"\n",
    "sql_2013 = \"\"\"SELECT * \n",
    "         FROM pluto_sym\n",
    "         WHERE year = 2013\n",
    "         \"\"\"\n",
    "sql_2014 = \"\"\"SELECT * \n",
    "         FROM pluto_sym\n",
    "         WHERE year = 2014\n",
    "         \"\"\"\n",
    "sql_2015 = \"\"\"SELECT * \n",
    "         FROM pluto_sym\n",
    "         WHERE year = 2015\n",
    "         \"\"\"\n",
    "sql_2016 = \"\"\"SELECT * \n",
    "         FROM pluto_sym\n",
    "         WHERE year = 2016\n",
    "         \"\"\"\n",
    "sql_2017 = \"\"\"SELECT * \n",
    "         FROM pluto_sym\n",
    "         WHERE year = 2017\n",
    "         \"\"\"\n",
    "sql_2018 = \"\"\"SELECT * \n",
    "         FROM pluto_sym\n",
    "         WHERE year = 2018\n",
    "         \"\"\"\n",
    "sql_2019 = \"\"\"SELECT * \n",
    "         FROM pluto_sym\n",
    "         WHERE year = 2019\n",
    "         \"\"\"\n",
    "sql_2020 = \"\"\"SELECT * \n",
    "         FROM pluto_sym\n",
    "         WHERE year = 2020\n",
    "         \"\"\""
   ],
   "outputs": [],
   "metadata": {}
  },
  {
   "cell_type": "code",
   "execution_count": 5,
   "source": [
    "# Function for creating dataframes from a SQL query\n",
    "def get_data(sql_train, sql_test, cov):\n",
    "    \"\"\"\n",
    "    Function to return data from a train and test SQL query\n",
    "    \"\"\"\n",
    "    global df_train, df_test, X_train, X_test, y_train, y_test, covariates\n",
    "\n",
    "    # List of columns to be used as covariates in the model\n",
    "\n",
    "    df_train = sqlio.read_sql_query(sql_train, conn).dropna()\n",
    "    df_test = sqlio.read_sql_query(sql_test, conn).dropna()\n",
    "\n",
    "    covariates = df_train.columns.intersection(cov)\n",
    "\n",
    "    X_train = df_train[covariates]\n",
    "    y_train = df_train['pcvpu_target']\n",
    "\n",
    "    X_test = df_test[covariates]\n",
    "    y_test = df_test['pcvpu_target']\n",
    "    return df_train, df_test, X_train, X_test, y_train, y_test"
   ],
   "outputs": [],
   "metadata": {}
  },
  {
   "cell_type": "code",
   "execution_count": 6,
   "source": [
    "# Create a random forest classifier object\n",
    "# warm_start = True allows the model to be trained on new data without having to retrain the entire model\n",
    "gbr = XGBRegressor(n_estimators=100, max_depth=5, eta=0.03, random_state=0)"
   ],
   "outputs": [],
   "metadata": {}
  },
  {
   "cell_type": "code",
   "execution_count": 7,
   "source": [
    "# Set up empty lists to store the results of the model for each year\n",
    "\n",
    "MAEs = [] ## Mean Absolute Error, list of numbers (out of sample)\n",
    "MSEs = [] ## Mean Squared Error, list of numbers (out of sample)\n",
    "R2s = []  ## R2 score, list of numbers (out of sample)\n",
    "\n",
    "feature_importances = [] ## Feature importances, list of lists\n",
    "\n",
    "MAEs_in_sample = [] ## Mean Absolute Error, list of numbers (in sample)\n",
    "MSEs_in_sample = [] ## Mean Squared Error, list of numbers (in sample)\n",
    "R2s_in_sample = []  ## R2 score, list of numbers (in sample)\n",
    "\n",
    "\n",
    "def update_reports():\n",
    "    \"\"\"\n",
    "    Function to update the reports for each year\n",
    "    \"\"\"\n",
    "    print('Updating Out of Sample Reports')\n",
    "\n",
    "    MSEs.append(mean_squared_error(y_test, y_pred))\n",
    "    MAEs.append(mean_absolute_error(y_test, y_pred))\n",
    "    R2s.append(r2_score(y_test, y_pred))\n",
    "    print('MSE: {}'.format(MSEs[-1]))\n",
    "    print('MAE: {}'.format(MAEs[-1]))\n",
    "    print('R2: {}'.format(R2s[-1]))\n",
    "\n",
    "    print('Updating In Sample Reports')\n",
    "\n",
    "    MSEs_in_sample.append(mean_squared_error(y_train, y_pred_in_sample))\n",
    "    MAEs_in_sample.append(mean_absolute_error(y_train, y_pred_in_sample))\n",
    "    R2s_in_sample.append(r2_score(y_train, y_pred_in_sample))\n",
    "    print('MSE: {}'.format(MSEs_in_sample[-1]))\n",
    "    print('MAE: {}'.format(MAEs_in_sample[-1]))\n",
    "    print('R2: {}'.format(R2s_in_sample[-1]))\n",
    "\n",
    "    print('Updating Feature Importances')\n",
    "    feature_importances.append(pd.Series(gbr.feature_importances_, index=cov))\n"
   ],
   "outputs": [],
   "metadata": {}
  },
  {
   "cell_type": "code",
   "execution_count": 8,
   "source": [
    "# get data from 2008 and 2009\n",
    "df_train, df_test, X_train, X_test, y_train, y_test = get_data(sql_2008, sql_2009, cov)\n"
   ],
   "outputs": [],
   "metadata": {}
  },
  {
   "cell_type": "code",
   "execution_count": 9,
   "source": [
    "# fit the model for 2008 and 2009\n",
    "gbr.fit(X_train,y_train)\n",
    "gbr.save_model('pluto-10-03-2a--y2008-2009.model')"
   ],
   "outputs": [],
   "metadata": {}
  },
  {
   "cell_type": "code",
   "execution_count": 10,
   "source": [
    "# Make in and out of sample predictions\n",
    "y_pred = gbr.predict(X_test)\n",
    "y_pred_in_sample = gbr.predict(X_train)"
   ],
   "outputs": [],
   "metadata": {}
  },
  {
   "cell_type": "code",
   "execution_count": 11,
   "source": [
    "# update all the report series\n",
    "update_reports()"
   ],
   "outputs": [
    {
     "output_type": "stream",
     "name": "stdout",
     "text": [
      "Updating Out of Sample Reports\n",
      "MSE: 299.86273398878944\n",
      "MAE: 5.613833663426687\n",
      "R2: 0.06692967005016426\n",
      "Updating In Sample Reports\n",
      "MSE: 334.4652942667681\n",
      "MAE: 5.894350789034517\n",
      "R2: 0.30357771277207024\n",
      "Updating Feature Importances\n"
     ]
    }
   ],
   "metadata": {}
  },
  {
   "cell_type": "code",
   "execution_count": 12,
   "source": [
    "# get data for the next year\n",
    "df_train, df_test, X_train, X_test, y_train, y_test = get_data(sql_2009, sql_2010, cov)"
   ],
   "outputs": [],
   "metadata": {}
  },
  {
   "cell_type": "code",
   "execution_count": 13,
   "source": [
    "# expand the number of trees and then fit to the next year\n",
    "gbr.fit(X_train,y_train, xgb_model='pluto-10-03-2a--y2008-2009.model')\n",
    "gbr.save_model('pluto-10-03-2a--y2009-2010.model')"
   ],
   "outputs": [],
   "metadata": {}
  },
  {
   "cell_type": "code",
   "execution_count": 14,
   "source": [
    "y_pred = gbr.predict(X_test)\n",
    "y_pred_in_sample = gbr.predict(X_train)"
   ],
   "outputs": [],
   "metadata": {}
  },
  {
   "cell_type": "code",
   "execution_count": 15,
   "source": [
    "# update all the report series\n",
    "update_reports()"
   ],
   "outputs": [
    {
     "output_type": "stream",
     "name": "stdout",
     "text": [
      "Updating Out of Sample Reports\n",
      "MSE: 207.36264146529788\n",
      "MAE: 5.8141650987074724\n",
      "R2: -0.03203513512077061\n",
      "Updating In Sample Reports\n",
      "MSE: 263.7312712593215\n",
      "MAE: 5.200580212969522\n",
      "R2: 0.1793584317108754\n",
      "Updating Feature Importances\n"
     ]
    }
   ],
   "metadata": {}
  },
  {
   "cell_type": "code",
   "execution_count": 16,
   "source": [
    "# get data for the next year\n",
    "df_train, df_test, X_train, X_test, y_train, y_test = get_data(sql_2010, sql_2011, cov)\n",
    "\n",
    "# expand the number of trees and then fit to the next year\n",
    "gbr.fit(X_train,y_train, xgb_model='pluto-10-03-2a--y2009-2010.model')\n",
    "gbr.save_model('pluto-10-03-2a--y2010-2011.model')\n",
    "\n",
    "y_pred = gbr.predict(X_test)\n",
    "y_pred_in_sample = gbr.predict(X_train)\n",
    "\n",
    "# update all the report series\n",
    "update_reports()"
   ],
   "outputs": [
    {
     "output_type": "stream",
     "name": "stdout",
     "text": [
      "Updating Out of Sample Reports\n",
      "MSE: 40.95903740559834\n",
      "MAE: 3.414515131608674\n",
      "R2: -0.4125058591846429\n",
      "Updating In Sample Reports\n",
      "MSE: 172.81679542220456\n",
      "MAE: 4.971982724325988\n",
      "R2: 0.1398980860082223\n",
      "Updating Feature Importances\n"
     ]
    }
   ],
   "metadata": {}
  },
  {
   "cell_type": "code",
   "execution_count": 17,
   "source": [
    "# get data for the next year\n",
    "df_train, df_test, X_train, X_test, y_train, y_test = get_data(sql_2011, sql_2012, cov)\n",
    "\n",
    "# expand the number of trees and then fit to the next year\n",
    "gbr.fit(X_train,y_train, xgb_model='pluto-10-03-2a--y2010-2011.model')\n",
    "gbr.save_model('pluto-10-03-2a--y2011-2012.model')\n",
    "\n",
    "y_pred = gbr.predict(X_test)\n",
    "y_pred_in_sample = gbr.predict(X_train)\n",
    "\n",
    "# update all the report series\n",
    "update_reports()"
   ],
   "outputs": [
    {
     "output_type": "stream",
     "name": "stdout",
     "text": [
      "Updating Out of Sample Reports\n",
      "MSE: 141.23122610709595\n",
      "MAE: 5.654396953429164\n",
      "R2: -0.04655318233228045\n",
      "Updating In Sample Reports\n",
      "MSE: 28.32925234342778\n",
      "MAE: 2.0734472113346114\n",
      "R2: 0.023042594356900592\n",
      "Updating Feature Importances\n"
     ]
    }
   ],
   "metadata": {}
  },
  {
   "cell_type": "code",
   "execution_count": 18,
   "source": [
    "# get data for the next year\n",
    "df_train, df_test, X_train, X_test, y_train, y_test = get_data(sql_2012, sql_2013, cov)\n",
    "\n",
    "# expand the number of trees and then fit to the next year\n",
    "gbr.fit(X_train,y_train, xgb_model='pluto-10-03-2a--y2011-2012.model')\n",
    "gbr.save_model('pluto-10-03-2a--y2012-2013.model')\n",
    "\n",
    "y_pred = gbr.predict(X_test)\n",
    "y_pred_in_sample = gbr.predict(X_train)\n",
    "\n",
    "# update all the report series\n",
    "update_reports()"
   ],
   "outputs": [
    {
     "output_type": "stream",
     "name": "stdout",
     "text": [
      "Updating Out of Sample Reports\n",
      "MSE: 143.43525749845284\n",
      "MAE: 5.078596940091264\n",
      "R2: -0.06120280380795773\n",
      "Updating In Sample Reports\n",
      "MSE: 99.51711222917692\n",
      "MAE: 3.6876228476313937\n",
      "R2: 0.26255720232162616\n",
      "Updating Feature Importances\n"
     ]
    }
   ],
   "metadata": {}
  },
  {
   "cell_type": "code",
   "execution_count": 19,
   "source": [
    "# get data for the next year\n",
    "df_train, df_test, X_train, X_test, y_train, y_test = get_data(sql_2013, sql_2014, cov)\n",
    "# expand the number of trees and then fit to the next year\n",
    "gbr.fit(X_train,y_train , xgb_model='pluto-10-03-2a--y2012-2013.model')\n",
    "gbr.save_model('pluto-10-03-2a--y2013-2014.model')\n",
    "# make predictions for the next year\n",
    "y_pred = gbr.predict(X_test)\n",
    "y_pred_in_sample = gbr.predict(X_train)\n",
    "# update all the report series\n",
    "update_reports()"
   ],
   "outputs": [
    {
     "output_type": "stream",
     "name": "stdout",
     "text": [
      "Updating Out of Sample Reports\n",
      "MSE: 107.18521625527752\n",
      "MAE: 4.329139368805698\n",
      "R2: -0.043097773227722014\n",
      "Updating In Sample Reports\n",
      "MSE: 113.66103564289688\n",
      "MAE: 4.33628407561056\n",
      "R2: 0.15908116448105925\n",
      "Updating Feature Importances\n"
     ]
    }
   ],
   "metadata": {}
  },
  {
   "cell_type": "code",
   "execution_count": 20,
   "source": [
    "# get data for the next year\n",
    "df_train, df_test, X_train, X_test, y_train, y_test = get_data(sql_2014, sql_2015, cov)\n",
    "# expand the number of trees and then fit to the next year\n",
    "gbr.fit(X_train,y_train, xgb_model='pluto-10-03-2a--y2013-2014.model')\n",
    "gbr.save_model('pluto-10-03-2a--y2014-2015.model')\n",
    "# make predictions for the next year\n",
    "y_pred = gbr.predict(X_test)\n",
    "y_pred_in_sample = gbr.predict(X_train)\n",
    "# update all the report series\n",
    "update_reports()"
   ],
   "outputs": [
    {
     "output_type": "stream",
     "name": "stdout",
     "text": [
      "Updating Out of Sample Reports\n",
      "MSE: 121.82616539940102\n",
      "MAE: 4.358073728575566\n",
      "R2: 0.04916268644390165\n",
      "Updating In Sample Reports\n",
      "MSE: 89.38590186453406\n",
      "MAE: 3.5944529187450187\n",
      "R2: 0.1301203799338666\n",
      "Updating Feature Importances\n"
     ]
    }
   ],
   "metadata": {}
  },
  {
   "cell_type": "code",
   "execution_count": 21,
   "source": [
    "# get data for the next year\n",
    "df_train, df_test, X_train, X_test, y_train, y_test = get_data(sql_2015, sql_2016, cov)\n",
    "# expand the number of trees and then fit to the next year\n",
    "gbr.fit(X_train,y_train, xgb_model='pluto-10-03-2a--y2014-2015.model')\n",
    "gbr.save_model('pluto-10-03-2a--y2015-2016.model')\n",
    "# make predictions for the next year\n",
    "y_pred = gbr.predict(X_test)\n",
    "y_pred_in_sample = gbr.predict(X_train)\n",
    "# update all the report series\n",
    "update_reports()"
   ],
   "outputs": [
    {
     "output_type": "stream",
     "name": "stdout",
     "text": [
      "Updating Out of Sample Reports\n",
      "MSE: 92.72066316929018\n",
      "MAE: 3.6843447141495087\n",
      "R2: 0.009166195393036869\n",
      "Updating In Sample Reports\n",
      "MSE: 110.57585523377516\n",
      "MAE: 4.093376835491773\n",
      "R2: 0.13696988828339385\n",
      "Updating Feature Importances\n"
     ]
    }
   ],
   "metadata": {}
  },
  {
   "cell_type": "code",
   "execution_count": 22,
   "source": [
    "# get data for the next year\n",
    "df_train, df_test, X_train, X_test, y_train, y_test = get_data(sql_2016, sql_2017, cov)\n",
    "# expand the number of trees and then fit to the next year\n",
    "gbr.fit(X_train,y_train, xgb_model='pluto-10-03-2a--y2015-2016.model')\n",
    "gbr.save_model('pluto-10-03-2a--y2016-2017.model')\n",
    "# make predictions for the next year\n",
    "y_pred = gbr.predict(X_test)\n",
    "y_pred_in_sample = gbr.predict(X_train)\n",
    "# update all the report series\n",
    "update_reports()"
   ],
   "outputs": [
    {
     "output_type": "stream",
     "name": "stdout",
     "text": [
      "Updating Out of Sample Reports\n",
      "MSE: 108.4083498537541\n",
      "MAE: 3.5416438729363007\n",
      "R2: 0.027948958583053796\n",
      "Updating In Sample Reports\n",
      "MSE: 86.04072276071916\n",
      "MAE: 3.407118521230296\n",
      "R2: 0.08054953696262546\n",
      "Updating Feature Importances\n"
     ]
    }
   ],
   "metadata": {}
  },
  {
   "cell_type": "code",
   "execution_count": 23,
   "source": [
    "# get data for the next year\n",
    "df_train, df_test, X_train, X_test, y_train, y_test = get_data(sql_2017, sql_2018, cov)\n",
    "# expand the number of trees and then fit to the next year\n",
    "gbr.fit(X_train,y_train, xgb_model='pluto-10-03-2a--y2016-2017.model')\n",
    "gbr.save_model('pluto-10-03-2a--y2017-2018.model')\n",
    "# make predictions for the next year\n",
    "y_pred = gbr.predict(X_test)\n",
    "y_pred_in_sample = gbr.predict(X_train)\n",
    "# update all the report series\n",
    "update_reports()"
   ],
   "outputs": [
    {
     "output_type": "stream",
     "name": "stdout",
     "text": [
      "Updating Out of Sample Reports\n",
      "MSE: 8966.01383996865\n",
      "MAE: 76.00761015811557\n",
      "R2: -0.021658262489478997\n",
      "Updating In Sample Reports\n",
      "MSE: 103.32806160047264\n",
      "MAE: 3.4242489344067377\n",
      "R2: 0.07350171807032968\n",
      "Updating Feature Importances\n"
     ]
    }
   ],
   "metadata": {}
  },
  {
   "cell_type": "code",
   "execution_count": 24,
   "source": [
    "# get data for the next year\n",
    "df_train, df_test, X_train, X_test, y_train, y_test = get_data(sql_2018, sql_2019, cov)\n",
    "# expand the number of trees and then fit to the next year\n",
    "gbr.fit(X_train,y_train, xgb_model='pluto-10-03-2a--y2017-2018.model')\n",
    "gbr.save_model('pluto-10-03-2a--y2018-2019.model')\n",
    "# make predictions for the next year\n",
    "y_pred = gbr.predict(X_test)\n",
    "y_pred_in_sample = gbr.predict(X_train)\n",
    "# update all the report series\n",
    "update_reports()"
   ],
   "outputs": [
    {
     "output_type": "stream",
     "name": "stdout",
     "text": [
      "Updating Out of Sample Reports\n",
      "MSE: 3058.0800289928557\n",
      "MAE: 45.26577348707785\n",
      "R2: -15.121769772445997\n",
      "Updating In Sample Reports\n",
      "MSE: 2284.3554479600475\n",
      "MAE: 31.79765809078609\n",
      "R2: 0.7397025412265705\n",
      "Updating Feature Importances\n"
     ]
    }
   ],
   "metadata": {}
  },
  {
   "cell_type": "code",
   "execution_count": 25,
   "source": [
    "# get data for the next year\n",
    "df_train, df_test, X_train, X_test, y_train, y_test = get_data(sql_2019, sql_2020, cov)\n",
    "# expand the number of trees and then fit to the next year\n",
    "gbr.fit(X_train,y_train, xgb_model='pluto-10-03-2a--y2018-2019.model')\n",
    "gbr.save_model('pluto-10-03-2a--y2019-2020.model')\n",
    "# make predictions for the next year\n",
    "y_pred = gbr.predict(X_test)\n",
    "y_pred_in_sample = gbr.predict(X_train)\n",
    "# update all the report series\n",
    "update_reports()"
   ],
   "outputs": [
    {
     "output_type": "stream",
     "name": "stdout",
     "text": [
      "Updating Out of Sample Reports\n",
      "MSE: 764.991717266354\n",
      "MAE: 21.213028144246202\n",
      "R2: -3.828158145463437\n",
      "Updating In Sample Reports\n",
      "MSE: 498.8616220703156\n",
      "MAE: 16.04721934984837\n",
      "R2: -1.6299286294267814\n",
      "Updating Feature Importances\n"
     ]
    }
   ],
   "metadata": {}
  },
  {
   "cell_type": "code",
   "execution_count": 28,
   "source": [
    "years = [2009, 2010, 2011, 2012, 2013, 2014, 2015, 2016, 2017, 2018, 2019, 2020]\n",
    "years_in_sample = [2008 ,2009, 2010, 2011, 2012, 2013, 2014, 2015, 2016, 2017, 2018, 2019]\n",
    "plt.plot(years, R2s, label='Out of Sample')\n",
    "plt.plot(years_in_sample, R2s_in_sample, label='In Sample')\n",
    "plt.legend()\n",
    "plt.xlabel('Year')\n",
    "plt.ylabel('R2 Score')\n",
    "plt.title('R2 Score by Year')"
   ],
   "outputs": [
    {
     "output_type": "execute_result",
     "data": {
      "text/plain": [
       "Text(0.5, 1.0, 'R2 Score by Year')"
      ]
     },
     "metadata": {},
     "execution_count": 28
    },
    {
     "output_type": "display_data",
     "data": {
      "image/png": "[encoded data removed]",
      "text/plain": [
       "<Figure size 432x288 with 1 Axes>"
      ]
     },
     "metadata": {
      "needs_background": "light"
     }
    }
   ],
   "metadata": {}
  },
  {
   "cell_type": "code",
   "execution_count": 29,
   "source": [
    "plt.plot(years, MSEs, label='Out of Sample')\n",
    "plt.plot(years_in_sample, MSEs_in_sample, label='In Sample')\n",
    "plt.legend()\n",
    "plt.xlabel('Year')\n",
    "plt.ylabel('MSE')\n",
    "plt.title('Mean Squared Error by Year')"
   ],
   "outputs": [
    {
     "output_type": "execute_result",
     "data": {
      "text/plain": [
       "Text(0.5, 1.0, 'Mean Squared Error by Year')"
      ]
     },
     "metadata": {},
     "execution_count": 29
    },
    {
     "output_type": "display_data",
     "data": {
      "image/png": "[encoded data removed]",
      "text/plain": [
       "<Figure size 432x288 with 1 Axes>"
      ]
     },
     "metadata": {
      "needs_background": "light"
     }
    }
   ],
   "metadata": {}
  },
  {
   "cell_type": "code",
   "execution_count": null,
   "source": [
    "plt.axis([None, None, 0, 0.3])\n",
    "plt.plot(years, [feature_importances[i][0:5] for i in range(len(feature_importances))])\n",
    "plt.legend(cov[0:5])"
   ],
   "outputs": [
    {
     "output_type": "execute_result",
     "data": {
      "text/plain": [
       "<matplotlib.legend.Legend at 0x7efdae30d340>"
      ]
     },
     "metadata": {},
     "execution_count": 34
    },
    {
     "output_type": "display_data",
     "data": {
      "image/png": "[encoded data removed]",
      "text/plain": [
       "<Figure size 432x288 with 1 Axes>"
      ]
     },
     "metadata": {
      "needs_background": "light"
     }
    }
   ],
   "metadata": {}
  },
  {
   "cell_type": "code",
   "execution_count": null,
   "source": [
    "plt.axis([None, None, 0, 0.3])\n",
    "plt.plot(years, [feature_importances[i][5:10] for i in range(len(feature_importances))])\n",
    "plt.legend(cov[5:10])"
   ],
   "outputs": [
    {
     "output_type": "execute_result",
     "data": {
      "text/plain": [
       "<matplotlib.legend.Legend at 0x7efdc0c09a90>"
      ]
     },
     "metadata": {},
     "execution_count": 35
    },
    {
     "output_type": "display_data",
     "data": {
      "image/png": "[encoded data removed]",
      "text/plain": [
       "<Figure size 432x288 with 1 Axes>"
      ]
     },
     "metadata": {
      "needs_background": "light"
     }
    }
   ],
   "metadata": {}
  },
  {
   "cell_type": "code",
   "execution_count": null,
   "source": [
    "plt.axis([None, None, 0, 0.3])\n",
    "plt.plot(years, [feature_importances[i][10:20] for i in range(len(feature_importances))])\n",
    "plt.legend(cov[10:20])"
   ],
   "outputs": [
    {
     "output_type": "execute_result",
     "data": {
      "text/plain": [
       "<matplotlib.legend.Legend at 0x7efdae5a7d30>"
      ]
     },
     "metadata": {},
     "execution_count": 36
    },
    {
     "output_type": "display_data",
     "data": {
      "image/png": "[encoded data removed]",
      "text/plain": [
       "<Figure size 432x288 with 1 Axes>"
      ]
     },
     "metadata": {
      "needs_background": "light"
     }
    }
   ],
   "metadata": {}
  },
  {
   "cell_type": "code",
   "execution_count": null,
   "source": [
    "plt.axis([None, None, 0, 0.3])\n",
    "\n",
    "plt.plot(years, [feature_importances[i][20:30] for i in range(len(feature_importances))])\n",
    "plt.legend(cov[20:30])"
   ],
   "outputs": [
    {
     "output_type": "execute_result",
     "data": {
      "text/plain": [
       "<matplotlib.legend.Legend at 0x7efdb5ed4bb0>"
      ]
     },
     "metadata": {},
     "execution_count": 37
    },
    {
     "output_type": "display_data",
     "data": {
      "image/png": "[encoded data removed]",
      "text/plain": [
       "<Figure size 432x288 with 1 Axes>"
      ]
     },
     "metadata": {
      "needs_background": "light"
     }
    }
   ],
   "metadata": {}
  },
  {
   "cell_type": "code",
   "execution_count": null,
   "source": [
    "plt.axis([None, None, 0, 0.3])\n",
    "plt.plot(years, [feature_importances[i][30:] for i in range(len(feature_importances))])\n",
    "plt.legend(cov[30:])"
   ],
   "outputs": [
    {
     "output_type": "execute_result",
     "data": {
      "text/plain": [
       "<matplotlib.legend.Legend at 0x7efdacb23cd0>"
      ]
     },
     "metadata": {},
     "execution_count": 38
    },
    {
     "output_type": "display_data",
     "data": {
      "image/png": "[encoded data removed]",
      "text/plain": [
       "<Figure size 432x288 with 1 Axes>"
      ]
     },
     "metadata": {
      "needs_background": "light"
     }
    }
   ],
   "metadata": {}
  }
 ],
 "metadata": {
  "kernelspec": {
   "name": "python3",
   "display_name": "Python 3.9.7 64-bit"
  },
  "language_info": {
   "codemirror_mode": {
    "name": "ipython",
    "version": 3
   },
   "file_extension": ".py",
   "mimetype": "text/x-python",
   "name": "python",
   "nbconvert_exporter": "python",
   "pygments_lexer": "ipython3",
   "version": "3.9.7"
  },
  "interpreter": {
   "hash": "916dbcbb3f70747c44a77c7bcd40155683ae19c65e1c03b4aa3499c5328201f1"
  }
 },
 "nbformat": 4,
 "nbformat_minor": 5
}